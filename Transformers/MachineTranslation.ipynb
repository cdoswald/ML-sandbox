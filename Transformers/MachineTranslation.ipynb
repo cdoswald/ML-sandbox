{
  "cells": [
    {
      "cell_type": "markdown",
      "metadata": {
        "id": "7Y_fk30kCvW9"
      },
      "source": [
        "# Transformers for Machine Translation\n",
        "\n",
        "**Author**: Chris Oswald\n",
        "\n",
        "**Course**: CS676/ECE689 Advanced Topics in Deep Learning (Spring 2024)"
      ]
    },
    {
      "cell_type": "markdown",
      "source": [
        "## Setup"
      ],
      "metadata": {
        "id": "u6v6AgL-sfGM"
      }
    },
    {
      "cell_type": "code",
      "source": [
        "!pip install datasets\n",
        "!pip install accelerate -U\n",
        "!pip install transformers -U"
      ],
      "metadata": {
        "id": "z1Y63iKhjaOk"
      },
      "execution_count": null,
      "outputs": []
    },
    {
      "cell_type": "code",
      "execution_count": null,
      "metadata": {
        "id": "R7gRa0ZYnbun"
      },
      "outputs": [],
      "source": [
        "# Load packages\n",
        "import json\n",
        "import os\n",
        "import math\n",
        "import time\n",
        "from typing import Tuple\n",
        "\n",
        "import numpy as np\n",
        "import matplotlib.pyplot as plt\n",
        "\n",
        "import torch\n",
        "from torch import nn\n",
        "import torch.nn.functional as F\n",
        "from torchvision.datasets import MNIST\n",
        "from torchvision import transforms\n",
        "from torch.utils.data import DataLoader"
      ]
    },
    {
      "cell_type": "code",
      "source": [
        "device = torch.device(\"cuda\" if torch.cuda.is_available() else \"cpu\")"
      ],
      "metadata": {
        "id": "6HBd43-AYNnu"
      },
      "execution_count": null,
      "outputs": []
    },
    {
      "cell_type": "code",
      "execution_count": null,
      "metadata": {
        "id": "5hBs5qkp_Us7"
      },
      "outputs": [],
      "source": [
        "# Create directories\n",
        "from google.colab import drive\n",
        "drive.mount('/content/drive')\n",
        "\n",
        "models_dir = \"/content/drive/MyDrive/Colab Notebooks/Models\"\n",
        "os.makedirs(models_dir, exist_ok=True)\n",
        "\n",
        "data_dir = \"/content/drive/MyDrive/Colab Notebooks/Data\"\n",
        "os.makedirs(data_dir, exist_ok=True)"
      ]
    },
    {
      "cell_type": "markdown",
      "metadata": {
        "id": "dl5PDU_JVi-A"
      },
      "source": [
        "## Question 3: Transformer for translation"
      ]
    },
    {
      "cell_type": "markdown",
      "metadata": {
        "id": "wloM7bzeV1FV"
      },
      "source": [
        "Here, we implement transformers for neural machine translation (NMT), such as turning \"Hello world\" to \"Salut le monde\". You are going to follow the following steps:\n",
        "1. Load and prepare the data. We provide \"en-ft.txt\". Each line of this file contains an English phrase, the equivalent French phrase, and an attribution identifying where the translation came from. The en-fr.txt used in problem 3 can also be found at: https://github.com/jeffprosise/Applied-Machine-Learning/tree/main/Chapter%2013/Data\n",
        "2. Build and train a model. Implement a transformer from scratch in Pytorch. We will provide you with an existing implementation in Keras. You might also find https://github.com/gordicaleksa/pytorch-original-transformer useful.\n",
        "\n",
        "For deliverables, plot your training and validation accuracy. The x-axis should be epoch, the y-axis should be your translation accuracy.\n",
        "\n",
        "For reference, the provided code given at https://github.com/jeffprosise/Applied-Machine-Learning/blob/main/Chapter%2013/Neural%20Machine%20Translation%20(Transformer).ipynb achieves 85% accuracy after 14 epochs. You do not have to achieve the same performance to get full marks, just show understanding and functional codes."
      ]
    },
    {
      "cell_type": "code",
      "execution_count": null,
      "metadata": {
        "id": "LjGX6_ttTBIk"
      },
      "outputs": [],
      "source": [
        "data_dir = '/content/drive/MyDrive/Colab Notebooks/Data'\n",
        "os.makedirs(data_dir, exist_ok=True)"
      ]
    },
    {
      "cell_type": "code",
      "execution_count": null,
      "metadata": {
        "colab": {
          "base_uri": "https://localhost:8080/",
          "height": 206
        },
        "id": "8JI6PUrSdYKs",
        "outputId": "a0529045-3991-4f88-adf6-f3bc6900bf05"
      },
      "outputs": [
        {
          "output_type": "execute_result",
          "data": {
            "text/plain": [
              "                    en                                             fr\n",
              "0    youre very clever        [start] vous etes fort ingenieuse [end]\n",
              "1       are there kids              [start] y atil des enfants  [end]\n",
              "2              come in                           [start] entrez [end]\n",
              "3        wheres boston                    [start] ou est boston [end]\n",
              "4  you see what i mean  [start] vous voyez ce que je veux dire  [end]"
            ],
            "text/html": [
              "\n",
              "  <div id=\"df-b7adbc2f-3d91-44fa-8d86-5a9abbc88738\" class=\"colab-df-container\">\n",
              "    <div>\n",
              "<style scoped>\n",
              "    .dataframe tbody tr th:only-of-type {\n",
              "        vertical-align: middle;\n",
              "    }\n",
              "\n",
              "    .dataframe tbody tr th {\n",
              "        vertical-align: top;\n",
              "    }\n",
              "\n",
              "    .dataframe thead th {\n",
              "        text-align: right;\n",
              "    }\n",
              "</style>\n",
              "<table border=\"1\" class=\"dataframe\">\n",
              "  <thead>\n",
              "    <tr style=\"text-align: right;\">\n",
              "      <th></th>\n",
              "      <th>en</th>\n",
              "      <th>fr</th>\n",
              "    </tr>\n",
              "  </thead>\n",
              "  <tbody>\n",
              "    <tr>\n",
              "      <th>0</th>\n",
              "      <td>youre very clever</td>\n",
              "      <td>[start] vous etes fort ingenieuse [end]</td>\n",
              "    </tr>\n",
              "    <tr>\n",
              "      <th>1</th>\n",
              "      <td>are there kids</td>\n",
              "      <td>[start] y atil des enfants  [end]</td>\n",
              "    </tr>\n",
              "    <tr>\n",
              "      <th>2</th>\n",
              "      <td>come in</td>\n",
              "      <td>[start] entrez [end]</td>\n",
              "    </tr>\n",
              "    <tr>\n",
              "      <th>3</th>\n",
              "      <td>wheres boston</td>\n",
              "      <td>[start] ou est boston [end]</td>\n",
              "    </tr>\n",
              "    <tr>\n",
              "      <th>4</th>\n",
              "      <td>you see what i mean</td>\n",
              "      <td>[start] vous voyez ce que je veux dire  [end]</td>\n",
              "    </tr>\n",
              "  </tbody>\n",
              "</table>\n",
              "</div>\n",
              "    <div class=\"colab-df-buttons\">\n",
              "\n",
              "  <div class=\"colab-df-container\">\n",
              "    <button class=\"colab-df-convert\" onclick=\"convertToInteractive('df-b7adbc2f-3d91-44fa-8d86-5a9abbc88738')\"\n",
              "            title=\"Convert this dataframe to an interactive table.\"\n",
              "            style=\"display:none;\">\n",
              "\n",
              "  <svg xmlns=\"http://www.w3.org/2000/svg\" height=\"24px\" viewBox=\"0 -960 960 960\">\n",
              "    <path d=\"M120-120v-720h720v720H120Zm60-500h600v-160H180v160Zm220 220h160v-160H400v160Zm0 220h160v-160H400v160ZM180-400h160v-160H180v160Zm440 0h160v-160H620v160ZM180-180h160v-160H180v160Zm440 0h160v-160H620v160Z\"/>\n",
              "  </svg>\n",
              "    </button>\n",
              "\n",
              "  <style>\n",
              "    .colab-df-container {\n",
              "      display:flex;\n",
              "      gap: 12px;\n",
              "    }\n",
              "\n",
              "    .colab-df-convert {\n",
              "      background-color: #E8F0FE;\n",
              "      border: none;\n",
              "      border-radius: 50%;\n",
              "      cursor: pointer;\n",
              "      display: none;\n",
              "      fill: #1967D2;\n",
              "      height: 32px;\n",
              "      padding: 0 0 0 0;\n",
              "      width: 32px;\n",
              "    }\n",
              "\n",
              "    .colab-df-convert:hover {\n",
              "      background-color: #E2EBFA;\n",
              "      box-shadow: 0px 1px 2px rgba(60, 64, 67, 0.3), 0px 1px 3px 1px rgba(60, 64, 67, 0.15);\n",
              "      fill: #174EA6;\n",
              "    }\n",
              "\n",
              "    .colab-df-buttons div {\n",
              "      margin-bottom: 4px;\n",
              "    }\n",
              "\n",
              "    [theme=dark] .colab-df-convert {\n",
              "      background-color: #3B4455;\n",
              "      fill: #D2E3FC;\n",
              "    }\n",
              "\n",
              "    [theme=dark] .colab-df-convert:hover {\n",
              "      background-color: #434B5C;\n",
              "      box-shadow: 0px 1px 3px 1px rgba(0, 0, 0, 0.15);\n",
              "      filter: drop-shadow(0px 1px 2px rgba(0, 0, 0, 0.3));\n",
              "      fill: #FFFFFF;\n",
              "    }\n",
              "  </style>\n",
              "\n",
              "    <script>\n",
              "      const buttonEl =\n",
              "        document.querySelector('#df-b7adbc2f-3d91-44fa-8d86-5a9abbc88738 button.colab-df-convert');\n",
              "      buttonEl.style.display =\n",
              "        google.colab.kernel.accessAllowed ? 'block' : 'none';\n",
              "\n",
              "      async function convertToInteractive(key) {\n",
              "        const element = document.querySelector('#df-b7adbc2f-3d91-44fa-8d86-5a9abbc88738');\n",
              "        const dataTable =\n",
              "          await google.colab.kernel.invokeFunction('convertToInteractive',\n",
              "                                                    [key], {});\n",
              "        if (!dataTable) return;\n",
              "\n",
              "        const docLinkHtml = 'Like what you see? Visit the ' +\n",
              "          '<a target=\"_blank\" href=https://colab.research.google.com/notebooks/data_table.ipynb>data table notebook</a>'\n",
              "          + ' to learn more about interactive tables.';\n",
              "        element.innerHTML = '';\n",
              "        dataTable['output_type'] = 'display_data';\n",
              "        await google.colab.output.renderOutput(dataTable, element);\n",
              "        const docLink = document.createElement('div');\n",
              "        docLink.innerHTML = docLinkHtml;\n",
              "        element.appendChild(docLink);\n",
              "      }\n",
              "    </script>\n",
              "  </div>\n",
              "\n",
              "\n",
              "<div id=\"df-4f73e03e-4a07-43e3-9538-4527df8b3d01\">\n",
              "  <button class=\"colab-df-quickchart\" onclick=\"quickchart('df-4f73e03e-4a07-43e3-9538-4527df8b3d01')\"\n",
              "            title=\"Suggest charts\"\n",
              "            style=\"display:none;\">\n",
              "\n",
              "<svg xmlns=\"http://www.w3.org/2000/svg\" height=\"24px\"viewBox=\"0 0 24 24\"\n",
              "     width=\"24px\">\n",
              "    <g>\n",
              "        <path d=\"M19 3H5c-1.1 0-2 .9-2 2v14c0 1.1.9 2 2 2h14c1.1 0 2-.9 2-2V5c0-1.1-.9-2-2-2zM9 17H7v-7h2v7zm4 0h-2V7h2v10zm4 0h-2v-4h2v4z\"/>\n",
              "    </g>\n",
              "</svg>\n",
              "  </button>\n",
              "\n",
              "<style>\n",
              "  .colab-df-quickchart {\n",
              "      --bg-color: #E8F0FE;\n",
              "      --fill-color: #1967D2;\n",
              "      --hover-bg-color: #E2EBFA;\n",
              "      --hover-fill-color: #174EA6;\n",
              "      --disabled-fill-color: #AAA;\n",
              "      --disabled-bg-color: #DDD;\n",
              "  }\n",
              "\n",
              "  [theme=dark] .colab-df-quickchart {\n",
              "      --bg-color: #3B4455;\n",
              "      --fill-color: #D2E3FC;\n",
              "      --hover-bg-color: #434B5C;\n",
              "      --hover-fill-color: #FFFFFF;\n",
              "      --disabled-bg-color: #3B4455;\n",
              "      --disabled-fill-color: #666;\n",
              "  }\n",
              "\n",
              "  .colab-df-quickchart {\n",
              "    background-color: var(--bg-color);\n",
              "    border: none;\n",
              "    border-radius: 50%;\n",
              "    cursor: pointer;\n",
              "    display: none;\n",
              "    fill: var(--fill-color);\n",
              "    height: 32px;\n",
              "    padding: 0;\n",
              "    width: 32px;\n",
              "  }\n",
              "\n",
              "  .colab-df-quickchart:hover {\n",
              "    background-color: var(--hover-bg-color);\n",
              "    box-shadow: 0 1px 2px rgba(60, 64, 67, 0.3), 0 1px 3px 1px rgba(60, 64, 67, 0.15);\n",
              "    fill: var(--button-hover-fill-color);\n",
              "  }\n",
              "\n",
              "  .colab-df-quickchart-complete:disabled,\n",
              "  .colab-df-quickchart-complete:disabled:hover {\n",
              "    background-color: var(--disabled-bg-color);\n",
              "    fill: var(--disabled-fill-color);\n",
              "    box-shadow: none;\n",
              "  }\n",
              "\n",
              "  .colab-df-spinner {\n",
              "    border: 2px solid var(--fill-color);\n",
              "    border-color: transparent;\n",
              "    border-bottom-color: var(--fill-color);\n",
              "    animation:\n",
              "      spin 1s steps(1) infinite;\n",
              "  }\n",
              "\n",
              "  @keyframes spin {\n",
              "    0% {\n",
              "      border-color: transparent;\n",
              "      border-bottom-color: var(--fill-color);\n",
              "      border-left-color: var(--fill-color);\n",
              "    }\n",
              "    20% {\n",
              "      border-color: transparent;\n",
              "      border-left-color: var(--fill-color);\n",
              "      border-top-color: var(--fill-color);\n",
              "    }\n",
              "    30% {\n",
              "      border-color: transparent;\n",
              "      border-left-color: var(--fill-color);\n",
              "      border-top-color: var(--fill-color);\n",
              "      border-right-color: var(--fill-color);\n",
              "    }\n",
              "    40% {\n",
              "      border-color: transparent;\n",
              "      border-right-color: var(--fill-color);\n",
              "      border-top-color: var(--fill-color);\n",
              "    }\n",
              "    60% {\n",
              "      border-color: transparent;\n",
              "      border-right-color: var(--fill-color);\n",
              "    }\n",
              "    80% {\n",
              "      border-color: transparent;\n",
              "      border-right-color: var(--fill-color);\n",
              "      border-bottom-color: var(--fill-color);\n",
              "    }\n",
              "    90% {\n",
              "      border-color: transparent;\n",
              "      border-bottom-color: var(--fill-color);\n",
              "    }\n",
              "  }\n",
              "</style>\n",
              "\n",
              "  <script>\n",
              "    async function quickchart(key) {\n",
              "      const quickchartButtonEl =\n",
              "        document.querySelector('#' + key + ' button');\n",
              "      quickchartButtonEl.disabled = true;  // To prevent multiple clicks.\n",
              "      quickchartButtonEl.classList.add('colab-df-spinner');\n",
              "      try {\n",
              "        const charts = await google.colab.kernel.invokeFunction(\n",
              "            'suggestCharts', [key], {});\n",
              "      } catch (error) {\n",
              "        console.error('Error during call to suggestCharts:', error);\n",
              "      }\n",
              "      quickchartButtonEl.classList.remove('colab-df-spinner');\n",
              "      quickchartButtonEl.classList.add('colab-df-quickchart-complete');\n",
              "    }\n",
              "    (() => {\n",
              "      let quickchartButtonEl =\n",
              "        document.querySelector('#df-4f73e03e-4a07-43e3-9538-4527df8b3d01 button');\n",
              "      quickchartButtonEl.style.display =\n",
              "        google.colab.kernel.accessAllowed ? 'block' : 'none';\n",
              "    })();\n",
              "  </script>\n",
              "</div>\n",
              "\n",
              "    </div>\n",
              "  </div>\n"
            ],
            "application/vnd.google.colaboratory.intrinsic+json": {
              "type": "dataframe",
              "variable_name": "df",
              "summary": "{\n  \"name\": \"df\",\n  \"rows\": 50000,\n  \"fields\": [\n    {\n      \"column\": \"en\",\n      \"properties\": {\n        \"dtype\": \"string\",\n        \"num_unique_values\": 31303,\n        \"samples\": [\n          \"im still not ready\",\n          \"give me a job\",\n          \"would you do that\"\n        ],\n        \"semantic_type\": \"\",\n        \"description\": \"\"\n      }\n    },\n    {\n      \"column\": \"fr\",\n      \"properties\": {\n        \"dtype\": \"string\",\n        \"num_unique_values\": 44901,\n        \"samples\": [\n          \"[start] je suis musicienne [end]\",\n          \"[start] je parle pour tout le monde [end]\",\n          \"[start] nous irons [end]\"\n        ],\n        \"semantic_type\": \"\",\n        \"description\": \"\"\n      }\n    }\n  ]\n}"
            }
          },
          "metadata": {},
          "execution_count": 185
        }
      ],
      "source": [
        "\"\"\"Clean the text by removing punctuation symbols and numbers, converting\n",
        "characters to lowercase, and replacing Unicode characters with their ASCII\n",
        "equivalents. For the French samples, insert [start] and [end] tokens at the\n",
        " beginning and end of each phrase\"\"\"\n",
        "import pandas as pd\n",
        "import re\n",
        "from unicodedata import normalize\n",
        "\n",
        "df = pd.read_csv(\n",
        "    os.path.join(data_dir, 'en-fr.txt'),\n",
        "    names=['en', 'fr', 'attr'],\n",
        "    usecols=['en', 'fr'],\n",
        "    sep='\\t'\n",
        ")\n",
        "df = df.sample(frac=1, random_state=42)\n",
        "df = df.reset_index(drop=True)\n",
        "df.head()\n",
        "\n",
        "def clean_text(text):\n",
        "    text = normalize('NFD', text.lower())\n",
        "    text = re.sub('[^A-Za-z ]+', '', text)\n",
        "    return text\n",
        "\n",
        "def clean_and_prepare_text(text):\n",
        "    text = '[start] ' + clean_text(text) + ' [end]'\n",
        "    return text\n",
        "\n",
        "df['en'] = df['en'].apply(lambda row: clean_text(row))\n",
        "df['fr'] = df['fr'].apply(lambda row: clean_and_prepare_text(row))\n",
        "df.head()"
      ]
    },
    {
      "cell_type": "code",
      "execution_count": null,
      "metadata": {
        "colab": {
          "base_uri": "https://localhost:8080/"
        },
        "id": "vbeUDWOVdftY",
        "outputId": "e112d698-64e9-4279-c463-2d0dff78ccfe"
      },
      "outputs": [
        {
          "output_type": "stream",
          "name": "stdout",
          "text": [
            "Max phrase length (English): 7\n",
            "Max phrase length (French): 16\n",
            "Sequence length: 16\n"
          ]
        }
      ],
      "source": [
        "\"\"\"The next step is to scan the phrases and determine the maximum length of the\n",
        "English phrases and then of the French phrases. These lengths will determine\n",
        "the lengths of the sequences input to and output from the model\"\"\"\n",
        "en = df['en']\n",
        "fr = df['fr']\n",
        "\n",
        "en_max_len = max(len(line.split()) for line in en)\n",
        "fr_max_len = max(len(line.split()) for line in fr)\n",
        "sequence_len = max(en_max_len, fr_max_len)\n",
        "\n",
        "print(f'Max phrase length (English): {en_max_len}')\n",
        "print(f'Max phrase length (French): {fr_max_len}')\n",
        "print(f'Sequence length: {sequence_len}')"
      ]
    },
    {
      "cell_type": "code",
      "execution_count": null,
      "metadata": {
        "id": "b8nJpt-OdlRe"
      },
      "outputs": [],
      "source": [
        "\"\"\"Now fit one Tokenizer to the English phrases and another Tokenizer to their\n",
        "French equivalents, and generate padded sequences for all the phrases\"\"\"\n",
        "from tensorflow.keras.preprocessing.text import Tokenizer\n",
        "from tensorflow.keras.preprocessing.sequence import pad_sequences\n",
        "\n",
        "en_tokenizer = Tokenizer()\n",
        "en_tokenizer.fit_on_texts(en)\n",
        "en_sequences = en_tokenizer.texts_to_sequences(en)\n",
        "en_x = pad_sequences(en_sequences, maxlen=sequence_len, padding='post')\n",
        "\n",
        "fr_tokenizer = Tokenizer(filters='!\"#$%&()*+,-./:;<=>?@\\\\^_`{|}~\\t\\n')\n",
        "fr_tokenizer.fit_on_texts(fr)\n",
        "fr_sequences = fr_tokenizer.texts_to_sequences(fr)\n",
        "fr_y = pad_sequences(fr_sequences, maxlen=sequence_len + 1, padding='post')"
      ]
    },
    {
      "cell_type": "code",
      "execution_count": null,
      "metadata": {
        "colab": {
          "base_uri": "https://localhost:8080/"
        },
        "id": "iKuUzYdMd0v2",
        "outputId": "002def81-26f1-44ec-a8c6-d03a6135d4f7"
      },
      "outputs": [
        {
          "output_type": "stream",
          "name": "stdout",
          "text": [
            "Vocabulary size (English): 6033\n",
            "Vocabulary size (French): 12197\n"
          ]
        }
      ],
      "source": [
        "\"\"\"Compute the vocabulary sizes from the Tokenizer instances\"\"\"\n",
        "en_vocab_size = len(en_tokenizer.word_index) + 1\n",
        "fr_vocab_size = len(fr_tokenizer.word_index) + 1\n",
        "\n",
        "print(f'Vocabulary size (English): {en_vocab_size}')\n",
        "print(f'Vocabulary size (French): {fr_vocab_size}')"
      ]
    },
    {
      "cell_type": "code",
      "execution_count": null,
      "metadata": {
        "id": "g5UEW_P_d4CF"
      },
      "outputs": [],
      "source": [
        "\"\"\"Finally, create the features and the labels the model will be trained with.\n",
        "The features are the padded English sequences and the padded French sequences\n",
        "minus the [end] tokens. The labels are the padded French sequences minus the\n",
        "[start] tokens. Package the features in a dictionary so they can be input to a\n",
        "model that accepts multiple inputs.\"\"\"\n",
        "inputs = { 'encoder_input': en_x, 'decoder_input': fr_y[:, :-1] }\n",
        "outputs = fr_y[:, 1:]"
      ]
    },
    {
      "cell_type": "markdown",
      "metadata": {
        "id": "Ux5E3cxOefR_"
      },
      "source": [
        "Now, define and train the transformer in Pytorch. We provide here some example code in Keras, **but note that you have to write it in Pytorch**."
      ]
    },
    {
      "cell_type": "markdown",
      "source": [
        "### Example Code (Keras)"
      ],
      "metadata": {
        "id": "MU2tFSE4SoBD"
      }
    },
    {
      "cell_type": "code",
      "execution_count": null,
      "metadata": {
        "id": "gcut4s6LeyFS"
      },
      "outputs": [],
      "source": [
        "import numpy as np\n",
        "import tensorflow as tf\n",
        "from tensorflow.keras import Model\n",
        "from tensorflow.keras.layers import Input, Dense, Dropout\n",
        "from keras_nlp.layers import TokenAndPositionEmbedding, TransformerEncoder\n",
        "from keras_nlp.layers import TransformerDecoder\n",
        "from tensorflow.keras.callbacks import EarlyStopping\n",
        "import seaborn as sns\n",
        "import matplotlib.pyplot as plt\n",
        "%matplotlib inline\n",
        "sns.set()\n",
        "\n",
        "np.random.seed(42)\n",
        "tf.random.set_seed(42)\n",
        "\n",
        "num_heads = 8\n",
        "embed_dim = 256\n",
        "\n",
        "encoder_input = Input(shape=(None,), dtype='int64', name='encoder_input')\n",
        "x = TokenAndPositionEmbedding(en_vocab_size, sequence_len, embed_dim)(encoder_input)\n",
        "encoder_output = TransformerEncoder(embed_dim, num_heads)(x)\n",
        "encoded_seq_input = Input(shape=(None, embed_dim))\n",
        "\n",
        "decoder_input = Input(shape=(None,), dtype='int64', name='decoder_input')\n",
        "x = TokenAndPositionEmbedding(fr_vocab_size, sequence_len, embed_dim, mask_zero=True)(decoder_input)\n",
        "x = TransformerDecoder(embed_dim, num_heads)(x, encoded_seq_input)\n",
        "x = Dropout(0.4)(x)\n",
        "\n",
        "decoder_output = Dense(fr_vocab_size, activation='softmax')(x)\n",
        "decoder = Model([decoder_input, encoded_seq_input], decoder_output)\n",
        "decoder_output = decoder([decoder_input, encoder_output])\n",
        "\n",
        "model = Model([encoder_input, decoder_input], decoder_output)\n",
        "model.compile(optimizer='adam', loss='sparse_categorical_crossentropy', metrics=['accuracy'])\n",
        "model.summary(line_length=120)\n",
        "\n",
        "callback = EarlyStopping(monitor='val_accuracy', patience=3, restore_best_weights=True)\n",
        "hist = model.fit(inputs, outputs, epochs=50, validation_split=0.2, callbacks=[callback])\n",
        "\n",
        "acc = hist.history['accuracy']\n",
        "val = hist.history['val_accuracy']\n",
        "epochs = range(1, len(acc) + 1)\n",
        "\n",
        "plt.plot(epochs, acc, '-', label='Training accuracy')\n",
        "plt.plot(epochs, val, ':', label='Validation accuracy')\n",
        "plt.title('Training and Validation Accuracy')\n",
        "plt.xlabel('Epoch')\n",
        "plt.ylabel('Accuracy')\n",
        "plt.legend(loc='lower right')\n",
        "plt.plot()"
      ]
    },
    {
      "cell_type": "markdown",
      "source": [
        "## Pytorch Implementation"
      ],
      "metadata": {
        "id": "I_c2MTOJSj3X"
      }
    },
    {
      "cell_type": "code",
      "source": [
        "class PosEncoder(nn.Module):\n",
        "    \"\"\"\n",
        "    Positional encoder class.\n",
        "    Based on based on https://pytorch.org/tutorials/beginner/transformer_tutorial.html.\n",
        "    \"\"\"\n",
        "\n",
        "    def __init__(\n",
        "        self,\n",
        "        embed_dim: int,\n",
        "        sequence_len: int,\n",
        "        dropout_share: float = 0.1,\n",
        "    ):\n",
        "        super().__init__()\n",
        "        self.dropout = nn.Dropout(p=dropout_share)\n",
        "        pe = self.create_position_encoding(embed_dim, sequence_len)\n",
        "        self.register_buffer('pos_encoder', pe)\n",
        "\n",
        "    def create_position_encoding(self, embed_dim: int, sequence_len: int):\n",
        "        \"\"\"Create positional encoding for each token in sequence.\"\"\"\n",
        "        position = torch.arange(sequence_len).unsqueeze(1)\n",
        "        factor = (\n",
        "            torch.exp(torch.arange(0, embed_dim, 2)\n",
        "            * (-math.log(10000.0) / embed_dim))\n",
        "        )\n",
        "        pos_encoder = torch.zeros(1, sequence_len, embed_dim)\n",
        "        pos_encoder[0, :, 0::2] = torch.sin(position * factor)\n",
        "        pos_encoder[0, :, 1::2] = torch.cos(position * factor)\n",
        "        return pos_encoder\n",
        "\n",
        "    def forward(self, x):\n",
        "        \"\"\"Add positional encoder value to tensor and pass through dropout layer.\"\"\"\n",
        "        return self.dropout(x + self.pos_encoder[:, :x.size(1)])\n",
        "\n",
        "\n",
        "class Encoder(nn.Module):\n",
        "    \"\"\"Encoder class.\n",
        "    Based on https://pytorch.org/tutorials/beginner/transformer_tutorial.html.\n",
        "    \"\"\"\n",
        "    def __init__(\n",
        "        self,\n",
        "        embed_dim: int,\n",
        "        n_heads: int,\n",
        "        n_layers: int,\n",
        "    ):\n",
        "        super().__init__()\n",
        "        encoder_layers = nn.TransformerEncoderLayer(embed_dim, n_heads, batch_first=True)\n",
        "        self.encoder = nn.TransformerEncoder(encoder_layers, n_layers)\n",
        "\n",
        "    def forward(self, x):\n",
        "        return self.encoder(x)\n",
        "\n",
        "\n",
        "class Decoder(nn.Module):\n",
        "    \"\"\"Decoder class.\n",
        "    Based on https://pytorch.org/docs/stable/generated/torch.nn.TransformerDecoderLayer.html\n",
        "    \"\"\"\n",
        "    def __init__(\n",
        "        self,\n",
        "        embed_dim: int,\n",
        "        n_heads: int,\n",
        "        n_layers: int,\n",
        "    ):\n",
        "        super().__init__()\n",
        "        decoder_layers = nn.TransformerDecoderLayer(embed_dim, n_heads, batch_first=True)\n",
        "        self.decoder = nn.TransformerDecoder(decoder_layers, n_layers)\n",
        "\n",
        "    def forward(self, x, memory):\n",
        "        # Create target mask (matrix with upper triangular = -inf, lower = 0)\n",
        "        mask = nn.Transformer.generate_square_subsequent_mask(x.shape[1]).to(x.device)\n",
        "        return self.decoder(x, memory, tgt_mask=mask)\n",
        "\n",
        "\n",
        "class Transformer(nn.Module):\n",
        "    \"\"\"Transformer implementation in PyTorch.\n",
        "\n",
        "    Based on https://pytorch.org/tutorials/beginner/transformer_tutorial.html\n",
        "    and https://github.com/gordicaleksa/pytorch-original-transformer.\n",
        "\n",
        "    \"\"\"\n",
        "\n",
        "    def __init__(\n",
        "        self,\n",
        "        n_layers: int,\n",
        "        src_vocab_size: int,\n",
        "        tgt_vocab_size: int,\n",
        "        embed_dim: int,\n",
        "        n_heads: int,\n",
        "        sequence_len: int,\n",
        "    ):\n",
        "        super().__init__()\n",
        "        self.embed_dim = embed_dim\n",
        "        self.src_embedding = nn.Embedding(src_vocab_size, embed_dim)\n",
        "        self.tgt_embedding = nn.Embedding(tgt_vocab_size, embed_dim)\n",
        "        self.pos_encoder = PosEncoder(embed_dim, sequence_len)\n",
        "        self.transformer_encoder = Encoder(embed_dim, n_heads, n_layers)\n",
        "        self.transformer_decoder = Decoder(embed_dim, n_heads, n_layers)\n",
        "        self.linear = nn.Linear(embed_dim, tgt_vocab_size)\n",
        "\n",
        "    def forward(self, src, target):\n",
        "        src = self.pos_encoder(self.src_embedding(src) * math.sqrt(self.embed_dim))\n",
        "        target = self.pos_encoder(self.tgt_embedding(target) * math.sqrt(self.embed_dim))\n",
        "        input_encoded = self.transformer_encoder(src)\n",
        "        output = self.transformer_decoder(target, input_encoded)\n",
        "        return self.linear(output)\n",
        "\n",
        "\n",
        "class TranslationDataset(torch.utils.data.Dataset):\n",
        "    \"\"\"Merge source and target data.\"\"\"\n",
        "\n",
        "    def __init__(self, src, target):\n",
        "        self.src = src\n",
        "        self.target = target\n",
        "\n",
        "    def __len__(self):\n",
        "        return len(self.src)\n",
        "\n",
        "    def __getitem__(self, idx):\n",
        "        return self.src[idx], self.target[idx]\n"
      ],
      "metadata": {
        "id": "Bm1dzbtvqeB3"
      },
      "execution_count": null,
      "outputs": []
    },
    {
      "cell_type": "code",
      "source": [
        "# Create model\n",
        "np.random.seed(999)\n",
        "torch.manual_seed(999)\n",
        "\n",
        "n_layers = 2\n",
        "embed_dim = 256\n",
        "n_heads = 8\n",
        "\n",
        "model = Transformer(\n",
        "    n_layers=n_layers,\n",
        "    src_vocab_size=en_vocab_size,\n",
        "    tgt_vocab_size=fr_vocab_size,\n",
        "    embed_dim=embed_dim,\n",
        "    n_heads=n_heads,\n",
        "    sequence_len=sequence_len,\n",
        ")\n",
        "model.to(device)\n",
        "\n",
        "loss_criterion = nn.CrossEntropyLoss()\n",
        "optimizer = torch.optim.Adam(model.parameters(), lr=1e-3)"
      ],
      "metadata": {
        "id": "nfAQcaUrV2wv"
      },
      "execution_count": null,
      "outputs": []
    },
    {
      "cell_type": "code",
      "source": [
        "# Create train/validation split\n",
        "en_fr_data = TranslationDataset(en_x, fr_y)\n",
        "valid_share = 0.2\n",
        "batch_size = 128\n",
        "\n",
        "total_obs = len(en_fr_data)\n",
        "valid_obs = int(total_obs * valid_share)\n",
        "train_data, valid_data = torch.utils.data.random_split(\n",
        "    en_fr_data,\n",
        "    lengths=[total_obs - valid_obs, valid_obs],\n",
        "    generator=torch.Generator().manual_seed(999),\n",
        ")\n",
        "\n",
        "train_dl = DataLoader(train_data, batch_size=batch_size, shuffle=True)\n",
        "valid_dl = DataLoader(valid_data, batch_size=batch_size, shuffle=True)"
      ],
      "metadata": {
        "id": "JicQdgv6cYat"
      },
      "execution_count": null,
      "outputs": []
    },
    {
      "cell_type": "code",
      "source": [
        "# Model training/validation\n",
        "metrics = {}\n",
        "lowest_avg_loss = None\n",
        "\n",
        "n_epochs = 4\n",
        "\n",
        "for epoch in range(n_epochs):\n",
        "\n",
        "    # Train model\n",
        "    model.train()\n",
        "    train_loss = 0.0\n",
        "    train_correct = 0\n",
        "    train_total = 0\n",
        "\n",
        "    for batch_idx, (src, target) in enumerate(train_dl):\n",
        "        src = src.to(device)\n",
        "        target = target[:, 1:].to(device) # remove <start> tokens\n",
        "\n",
        "        optimizer.zero_grad()\n",
        "        output = model(src, target)\n",
        "\n",
        "        # Reshape output and target for cross entropy loss\n",
        "        reshaped_output = output.view(-1, output.size(-1))\n",
        "        reshaped_target = target.reshape(-1).long()\n",
        "\n",
        "        loss = loss_criterion(reshaped_output, reshaped_target)\n",
        "        loss.backward()\n",
        "        optimizer.step()\n",
        "\n",
        "        train_loss += loss.item()\n",
        "\n",
        "        # Compute accuracy for visualization\n",
        "        _, train_preds = torch.max(reshaped_output, 1)\n",
        "        train_correct += (train_preds == reshaped_target).sum().item()\n",
        "        train_total += reshaped_target.size(0)\n",
        "\n",
        "    train_avg_loss = train_loss / len(train_dl)\n",
        "    train_acc = train_correct / train_total\n",
        "    print(f\"Epoch: {epoch}, Train Loss: {train_avg_loss:.4f}, \"+\n",
        "          f\"Train Accuracy: {train_acc:.4f}\")\n",
        "\n",
        "    # Evaluate on validation set after each epoch\n",
        "    model.eval()\n",
        "    validation_loss = 0.0\n",
        "    validation_correct = 0\n",
        "    validation_total = 0\n",
        "\n",
        "    with torch.no_grad():\n",
        "        for batch_idx, (src, target) in enumerate(valid_dl):\n",
        "            src = src.to(device)\n",
        "            target = target[:, 1:].to(device)\n",
        "\n",
        "            output = model(src, target)\n",
        "\n",
        "            # Reshape output and target for cross entropy loss\n",
        "            reshaped_output = output.view(-1, output.size(-1))\n",
        "            reshaped_target = target.reshape(-1).long()\n",
        "\n",
        "            loss = loss_criterion(reshaped_output, reshaped_target)\n",
        "            validation_loss += loss.item()\n",
        "\n",
        "            # Compute accuracy for visualization\n",
        "            _, validation_idxs = torch.max(reshaped_output, 1)\n",
        "            validation_correct += (validation_idxs == reshaped_target).sum().item()\n",
        "            validation_total += reshaped_target.size(0)\n",
        "\n",
        "    validation_avg_loss = validation_loss / len(valid_dl)\n",
        "    validation_acc = validation_correct / validation_total\n",
        "    print(f\"Epoch: {epoch}, Validation Loss: {validation_avg_loss:.4f}, \" +\n",
        "          f\"Validation Accuracy: {validation_acc:.4f}\")\n",
        "\n",
        "    # Save model if improving\n",
        "    if (lowest_avg_loss is None) or (validation_avg_loss < lowest_avg_loss):\n",
        "        lowest_avg_loss = validation_avg_loss\n",
        "        torch.save(\n",
        "            model.state_dict(),\n",
        "            os.path.join(models_dir, f'TransformerModel_epoch{epoch}.pt')\n",
        "        )\n",
        "        print(f'Saved model for epoch {epoch}')\n",
        "\n",
        "    # Store metrics for plotting\n",
        "    metrics[epoch] = {\n",
        "        \"train_loss\": train_avg_loss,\n",
        "        \"train_acc\": train_acc,\n",
        "        \"validation_loss\": validation_avg_loss,\n",
        "        \"validation_acc\": validation_acc\n",
        "    }\n",
        "\n",
        "# Save metrics\n",
        "metrics_path = os.path.join(data_dir, 'TransformerModel_metrics.json')\n",
        "with open(metrics_path, 'w') as f:\n",
        "    json.dump(metrics, f)"
      ],
      "metadata": {
        "colab": {
          "base_uri": "https://localhost:8080/"
        },
        "id": "93wNZLmVYk5A",
        "outputId": "df5ec01e-d011-4da7-b6f1-1c3936bb5ce5"
      },
      "execution_count": null,
      "outputs": [
        {
          "output_type": "stream",
          "name": "stdout",
          "text": [
            "Epoch: 0, Train Loss: 0.1092, Train Accuracy: 0.9903\n",
            "Epoch: 0, Validation Loss: 0.1071, Validation Accuracy: 0.9913\n",
            "Saved model for epoch 0\n",
            "Epoch: 1, Train Loss: 0.0397, Train Accuracy: 0.9981\n",
            "Epoch: 1, Validation Loss: 0.0860, Validation Accuracy: 0.9921\n",
            "Saved model for epoch 1\n",
            "Epoch: 2, Train Loss: 0.0098, Train Accuracy: 1.0000\n",
            "Epoch: 2, Validation Loss: 0.0837, Validation Accuracy: 0.9921\n",
            "Saved model for epoch 2\n",
            "Epoch: 3, Train Loss: 0.0012, Train Accuracy: 1.0000\n",
            "Epoch: 3, Validation Loss: 0.0835, Validation Accuracy: 0.9921\n",
            "Saved model for epoch 3\n"
          ]
        }
      ]
    },
    {
      "cell_type": "code",
      "source": [
        "# Plot metrics\n",
        "df = pd.DataFrame(metrics).T\n",
        "fig, ax = plt.subplots(1, 2, figsize=(12, 4))\n",
        "\n",
        "ax[0].plot(df['train_loss'], label='train')\n",
        "ax[0].plot(df['validation_loss'], label='validation')\n",
        "\n",
        "ax[1].plot(df['train_acc'], label='train')\n",
        "ax[1].plot(df['validation_acc'], label='validation')\n",
        "\n",
        "for i in range(2):\n",
        "    ax[i].legend()\n",
        "    ax[i].set_xlabel('Epoch')\n",
        "    ax[i].set_xticks(range(0, n_epochs))\n",
        "\n",
        "ax[0].set_ylabel('Loss')\n",
        "ax[1].set_ylabel('Accuracy')\n",
        "\n",
        "ax[0].set_title('Cross Entropy Loss by Epoch')\n",
        "ax[1].set_title('Accuracy by Epoch')\n",
        "\n",
        "plt.tight_layout()\n",
        "plt.show()"
      ],
      "metadata": {
        "colab": {
          "base_uri": "https://localhost:8080/",
          "height": 314
        },
        "id": "KuVfQ7W2hnTn",
        "outputId": "896b2d5e-7730-4477-8191-64f190c92707"
      },
      "execution_count": null,
      "outputs": [
        {
          "output_type": "display_data",
          "data": {
            "text/plain": [
              "<Figure size 1200x400 with 2 Axes>"
            ],
            "image/png": "[encoded data removed]"
          },
          "metadata": {}
        }
      ]
    },
    {
      "cell_type": "markdown",
      "source": [
        "(Note that accuracy is much higher than expected, but a lot of the \"correct predictions\" are 0's where the input and output sequences are padded)\n",
        "\n"
      ],
      "metadata": {
        "id": "3tPQOUGWkwiS"
      }
    },
    {
      "cell_type": "markdown",
      "source": [
        "### References\n",
        "\n",
        "- https://pytorch.org/tutorials/beginner/transformer_tutorial.html\n",
        "- https://github.com/gordicaleksa/pytorch-original-transformer/blob/main/models/definitions/transformer_model.py"
      ],
      "metadata": {
        "id": "ApPoJFVIkQt2"
      }
    }
  ],
  "metadata": {
    "colab": {
      "provenance": [],
      "machine_shape": "hm",
      "collapsed_sections": [
        "MU2tFSE4SoBD"
      ]
    },
    "kernelspec": {
      "display_name": "Python 3",
      "name": "python3"
    },
    "language_info": {
      "name": "python"
    }
  },
  "nbformat": 4,
  "nbformat_minor": 0
}