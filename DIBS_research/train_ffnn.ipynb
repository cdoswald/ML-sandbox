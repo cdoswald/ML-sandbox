{
 "cells": [
  {
   "cell_type": "code",
   "execution_count": 1,
   "id": "ab4e5a7b-c2c3-41eb-955d-e96a2e9be5fb",
   "metadata": {},
   "outputs": [],
   "source": [
    "# Import packages\n",
    "import os\n",
    "\n",
    "import numpy as np\n",
    "import pandas as pd\n",
    "\n",
    "import torch\n",
    "from torch import nn"
   ]
  },
  {
   "cell_type": "code",
   "execution_count": null,
   "id": "6df6f623-dbb3-4fc1-bba3-d29d7592702d",
   "metadata": {},
   "outputs": [],
   "source": [
    "# Define constants\n",
    "valid_share = 0.4\n",
    "torch.manual_seed(9999)\n",
    "np.random.seed(9998)"
   ]
  },
  {
   "cell_type": "code",
   "execution_count": null,
   "id": "556e969d-affa-48bd-836c-bf2aeb2173f7",
   "metadata": {},
   "outputs": [],
   "source": [
    "# Specify directory/file paths\n",
    "data_dir = \"Data\"\n",
    "\n",
    "sim_data_file = \"DIBS_simulated_fmri_var4model.csv\""
   ]
  },
  {
   "cell_type": "code",
   "execution_count": null,
   "id": "ca378bac-50d3-47e4-b2dc-1483eb9331b3",
   "metadata": {},
   "outputs": [],
   "source": [
    "# Check that CUDA GPUs are available\n",
    "if torch.cuda.is_available():\n",
    "    device = torch.cuda.current_device()\n",
    "    print(f'Number of GPUs available: {torch.cuda.device_count()}')\n",
    "    for i in range(torch.cuda.device_count()):\n",
    "        print(f'GPU {i+1}: {torch.cuda.get_device_name(i)}')\n",
    "else:\n",
    "    device = torch.device(\"cpu\")\n",
    "    print(\"GPU not available--using CPU instead.\")"
   ]
  },
  {
   "cell_type": "code",
   "execution_count": null,
   "id": "58bd6112-a107-40f2-92d8-f758606c273a",
   "metadata": {},
   "outputs": [],
   "source": [
    "# Load data\n",
    "data = pd.read_csv(os.path.join(data_dir, sim_data_file), header=0)\n",
    "data.head()"
   ]
  },
  {
   "cell_type": "code",
   "execution_count": null,
   "id": "b156e28a-9bf9-487d-8580-f26bea2a77d9",
   "metadata": {},
   "outputs": [],
   "source": [
    "# Shuffle data and create test dataset\n",
    "shuffled_idx = np.random.permutation(len(data))\n",
    "data = data.loc[shuffled_idx].reset_index(drop=True)\n",
    "\n",
    "train_data = data.loc[0:int(len(data) * (1-valid_share)), ]\n",
    "train_data.shape\n",
    "\n",
    "test_idx = [idx for idx in data.index if idx not in train_data.index]\n",
    "test_data = data.loc[test_idx, ]\n",
    "print(\"Train data: \", train_data.shape, \"\\nTest data: \", test_data.shape)"
   ]
  },
  {
   "cell_type": "code",
   "execution_count": null,
   "id": "3035fe0c-7b6f-4603-834b-df3ba9f76896",
   "metadata": {},
   "outputs": [],
   "source": [
    "# Create input and target sequences for training data\n",
    "train_input_seq = []\n",
    "train_target_seq = []\n",
    "\n",
    "seq_len = 100\n",
    "for obs in range(len(train_data)):\n",
    "    obs_data = train_data.iloc[obs]\n",
    "    for i in range(len(obs_data) - seq_len):\n",
    "        train_input_seq.append(obs_data[i:i+seq_len].values)\n",
    "        train_target_seq.append(obs_data[i+seq_len])\n",
    "        i += 1\n",
    "print(\"# train input seqs: \", len(train_input_seq), \"\\n# train target seqs: \", len(train_target_seq))"
   ]
  },
  {
   "cell_type": "code",
   "execution_count": null,
   "id": "431527bd-6a40-4ed4-a6bb-935502ec7e1e",
   "metadata": {},
   "outputs": [],
   "source": [
    "# Convert sequences to PyTorch tensors\n",
    "train_input_tensor = torch.from_numpy(np.array(train_input_seq)).float().unsqueeze(-1)\n",
    "train_input_tensor = train_input_tensor.to(device) # Note that \"to\" method for tensors is not in-place operation (like it is for nn.Module/model below)\n",
    "train_input_tensor.shape"
   ]
  },
  {
   "cell_type": "code",
   "execution_count": null,
   "id": "b10f08d3-9a1d-4051-ae00-82885472623b",
   "metadata": {},
   "outputs": [],
   "source": [
    "train_target_tensor = torch.from_numpy(np.array(train_target_seq)).float().unsqueeze(-1)\n",
    "train_target_tensor = train_target_tensor.to(device) # Note that \"to\" method for tensors is not in-place operation (like it is for nn.Module/model below)\n",
    "train_target_tensor.shape"
   ]
  },
  {
   "cell_type": "code",
   "execution_count": null,
   "id": "1aecb730-09fb-4baf-9b7d-a33adb63ebbb",
   "metadata": {},
   "outputs": [],
   "source": []
  },
  {
   "cell_type": "code",
   "execution_count": null,
   "id": "896274a5-34dc-4f3a-a02f-31008cfbae49",
   "metadata": {},
   "outputs": [],
   "source": []
  },
  {
   "cell_type": "code",
   "execution_count": null,
   "id": "125f1b2e-7f7a-49ff-9b27-baa4322c2e30",
   "metadata": {},
   "outputs": [],
   "source": []
  },
  {
   "cell_type": "code",
   "execution_count": null,
   "id": "e232b624-1f4f-4358-b319-544b420feecc",
   "metadata": {},
   "outputs": [],
   "source": []
  }
 ],
 "metadata": {
  "kernelspec": {
   "display_name": "Python 3 (ipykernel)",
   "language": "python",
   "name": "python3"
  },
  "language_info": {
   "codemirror_mode": {
    "name": "ipython",
    "version": 3
   },
   "file_extension": ".py",
   "mimetype": "text/x-python",
   "name": "python",
   "nbconvert_exporter": "python",
   "pygments_lexer": "ipython3",
   "version": "3.8.12"
  }
 },
 "nbformat": 4,
 "nbformat_minor": 5
}
