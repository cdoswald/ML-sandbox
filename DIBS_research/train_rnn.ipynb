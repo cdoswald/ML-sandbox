{
 "cells": [
  {
   "cell_type": "code",
   "execution_count": 1,
   "id": "f149dfd6-2621-4895-bbb0-67754780087c",
   "metadata": {},
   "outputs": [],
   "source": [
    "# Import packages\n",
    "import os\n",
    "\n",
    "import matplotlib.pyplot as plt\n",
    "import numpy as np\n",
    "import pandas as pd\n",
    "\n",
    "import torch\n",
    "from torch import nn"
   ]
  },
  {
   "cell_type": "code",
   "execution_count": 2,
   "id": "177bc3a2-7fd6-4aea-bfc8-0ab8e8665ea6",
   "metadata": {},
   "outputs": [],
   "source": [
    "# Define constants\n",
    "seq_len = 4\n",
    "valid_share = 0.4\n",
    "min_response_val = 20 # (Arbitrary--based on simulated data)\n",
    "max_response_val = 50 # (Arbitrary--based on simulated data)\n",
    "torch.manual_seed(9999)\n",
    "np.random.seed(9998)"
   ]
  },
  {
   "cell_type": "code",
   "execution_count": 3,
   "id": "25cdb9b4-d14e-42ea-a4e1-6c66b840ddce",
   "metadata": {},
   "outputs": [],
   "source": [
    "# Specify directory/file paths\n",
    "data_dir = \"Data\"\n",
    "\n",
    "sim_data_file = \"DIBS_simulated_fmri_var4model.csv\""
   ]
  },
  {
   "cell_type": "code",
   "execution_count": 4,
   "id": "86f49383-2d52-4de6-9760-620bcb9c115b",
   "metadata": {},
   "outputs": [
    {
     "name": "stdout",
     "output_type": "stream",
     "text": [
      "Number of GPUs available: 1\n",
      "GPU 1: NVIDIA TITAN Xp\n"
     ]
    }
   ],
   "source": [
    "# Check that CUDA GPUs are available\n",
    "if torch.cuda.is_available():\n",
    "    device = torch.cuda.current_device()\n",
    "    print(f'Number of GPUs available: {torch.cuda.device_count()}')\n",
    "    for i in range(torch.cuda.device_count()):\n",
    "        print(f'GPU {i+1}: {torch.cuda.get_device_name(i)}')\n",
    "else:\n",
    "    device = torch.device(\"cpu\")\n",
    "    print(\"GPU not available--using CPU instead.\")"
   ]
  },
  {
   "cell_type": "code",
   "execution_count": 5,
   "id": "0bab7165-37c0-4554-a5a6-72e562d5d3f6",
   "metadata": {},
   "outputs": [
    {
     "data": {
      "text/html": [
       "<div>\n",
       "<style scoped>\n",
       "    .dataframe tbody tr th:only-of-type {\n",
       "        vertical-align: middle;\n",
       "    }\n",
       "\n",
       "    .dataframe tbody tr th {\n",
       "        vertical-align: top;\n",
       "    }\n",
       "\n",
       "    .dataframe thead th {\n",
       "        text-align: right;\n",
       "    }\n",
       "</style>\n",
       "<table border=\"1\" class=\"dataframe\">\n",
       "  <thead>\n",
       "    <tr style=\"text-align: right;\">\n",
       "      <th></th>\n",
       "      <th>0</th>\n",
       "      <th>1</th>\n",
       "      <th>2</th>\n",
       "      <th>3</th>\n",
       "      <th>4</th>\n",
       "      <th>5</th>\n",
       "      <th>6</th>\n",
       "      <th>7</th>\n",
       "      <th>8</th>\n",
       "      <th>9</th>\n",
       "      <th>...</th>\n",
       "      <th>990</th>\n",
       "      <th>991</th>\n",
       "      <th>992</th>\n",
       "      <th>993</th>\n",
       "      <th>994</th>\n",
       "      <th>995</th>\n",
       "      <th>996</th>\n",
       "      <th>997</th>\n",
       "      <th>998</th>\n",
       "      <th>999</th>\n",
       "    </tr>\n",
       "  </thead>\n",
       "  <tbody>\n",
       "    <tr>\n",
       "      <th>0</th>\n",
       "      <td>29.289019</td>\n",
       "      <td>33.484715</td>\n",
       "      <td>33.357838</td>\n",
       "      <td>30.492201</td>\n",
       "      <td>30.765345</td>\n",
       "      <td>29.409662</td>\n",
       "      <td>32.390454</td>\n",
       "      <td>34.480410</td>\n",
       "      <td>32.245588</td>\n",
       "      <td>32.924852</td>\n",
       "      <td>...</td>\n",
       "      <td>30.595113</td>\n",
       "      <td>31.211688</td>\n",
       "      <td>31.633938</td>\n",
       "      <td>28.603127</td>\n",
       "      <td>30.243806</td>\n",
       "      <td>31.902274</td>\n",
       "      <td>32.177479</td>\n",
       "      <td>28.321272</td>\n",
       "      <td>30.704222</td>\n",
       "      <td>35.838620</td>\n",
       "    </tr>\n",
       "    <tr>\n",
       "      <th>1</th>\n",
       "      <td>31.566575</td>\n",
       "      <td>28.703860</td>\n",
       "      <td>32.800320</td>\n",
       "      <td>30.742553</td>\n",
       "      <td>32.973998</td>\n",
       "      <td>32.508277</td>\n",
       "      <td>34.237903</td>\n",
       "      <td>34.686537</td>\n",
       "      <td>32.994585</td>\n",
       "      <td>32.643972</td>\n",
       "      <td>...</td>\n",
       "      <td>31.357649</td>\n",
       "      <td>33.732831</td>\n",
       "      <td>30.026795</td>\n",
       "      <td>30.054632</td>\n",
       "      <td>30.970367</td>\n",
       "      <td>32.371300</td>\n",
       "      <td>34.189654</td>\n",
       "      <td>34.669279</td>\n",
       "      <td>35.580278</td>\n",
       "      <td>32.112060</td>\n",
       "    </tr>\n",
       "    <tr>\n",
       "      <th>2</th>\n",
       "      <td>35.104468</td>\n",
       "      <td>31.798851</td>\n",
       "      <td>34.287203</td>\n",
       "      <td>33.647496</td>\n",
       "      <td>33.587711</td>\n",
       "      <td>35.285930</td>\n",
       "      <td>34.176086</td>\n",
       "      <td>32.455849</td>\n",
       "      <td>34.077551</td>\n",
       "      <td>31.370822</td>\n",
       "      <td>...</td>\n",
       "      <td>29.308797</td>\n",
       "      <td>28.215622</td>\n",
       "      <td>32.468534</td>\n",
       "      <td>32.522033</td>\n",
       "      <td>31.793905</td>\n",
       "      <td>30.762018</td>\n",
       "      <td>30.195970</td>\n",
       "      <td>31.770087</td>\n",
       "      <td>33.420589</td>\n",
       "      <td>35.058752</td>\n",
       "    </tr>\n",
       "    <tr>\n",
       "      <th>3</th>\n",
       "      <td>30.993886</td>\n",
       "      <td>34.659743</td>\n",
       "      <td>37.344212</td>\n",
       "      <td>36.436306</td>\n",
       "      <td>37.077792</td>\n",
       "      <td>35.270085</td>\n",
       "      <td>36.665054</td>\n",
       "      <td>36.098563</td>\n",
       "      <td>35.792556</td>\n",
       "      <td>30.770861</td>\n",
       "      <td>...</td>\n",
       "      <td>34.052446</td>\n",
       "      <td>35.106103</td>\n",
       "      <td>37.075949</td>\n",
       "      <td>33.642532</td>\n",
       "      <td>32.766403</td>\n",
       "      <td>32.697285</td>\n",
       "      <td>34.024612</td>\n",
       "      <td>29.855947</td>\n",
       "      <td>35.395989</td>\n",
       "      <td>34.153510</td>\n",
       "    </tr>\n",
       "    <tr>\n",
       "      <th>4</th>\n",
       "      <td>35.754337</td>\n",
       "      <td>35.861791</td>\n",
       "      <td>35.129110</td>\n",
       "      <td>38.133572</td>\n",
       "      <td>36.410361</td>\n",
       "      <td>37.260194</td>\n",
       "      <td>35.336919</td>\n",
       "      <td>36.024182</td>\n",
       "      <td>32.741023</td>\n",
       "      <td>37.461137</td>\n",
       "      <td>...</td>\n",
       "      <td>34.383754</td>\n",
       "      <td>38.475876</td>\n",
       "      <td>29.174330</td>\n",
       "      <td>33.992502</td>\n",
       "      <td>34.385723</td>\n",
       "      <td>34.743098</td>\n",
       "      <td>32.201603</td>\n",
       "      <td>35.483379</td>\n",
       "      <td>34.552669</td>\n",
       "      <td>35.088259</td>\n",
       "    </tr>\n",
       "  </tbody>\n",
       "</table>\n",
       "<p>5 rows × 1000 columns</p>\n",
       "</div>"
      ],
      "text/plain": [
       "           0          1          2          3          4          5  \\\n",
       "0  29.289019  33.484715  33.357838  30.492201  30.765345  29.409662   \n",
       "1  31.566575  28.703860  32.800320  30.742553  32.973998  32.508277   \n",
       "2  35.104468  31.798851  34.287203  33.647496  33.587711  35.285930   \n",
       "3  30.993886  34.659743  37.344212  36.436306  37.077792  35.270085   \n",
       "4  35.754337  35.861791  35.129110  38.133572  36.410361  37.260194   \n",
       "\n",
       "           6          7          8          9  ...        990        991  \\\n",
       "0  32.390454  34.480410  32.245588  32.924852  ...  30.595113  31.211688   \n",
       "1  34.237903  34.686537  32.994585  32.643972  ...  31.357649  33.732831   \n",
       "2  34.176086  32.455849  34.077551  31.370822  ...  29.308797  28.215622   \n",
       "3  36.665054  36.098563  35.792556  30.770861  ...  34.052446  35.106103   \n",
       "4  35.336919  36.024182  32.741023  37.461137  ...  34.383754  38.475876   \n",
       "\n",
       "         992        993        994        995        996        997  \\\n",
       "0  31.633938  28.603127  30.243806  31.902274  32.177479  28.321272   \n",
       "1  30.026795  30.054632  30.970367  32.371300  34.189654  34.669279   \n",
       "2  32.468534  32.522033  31.793905  30.762018  30.195970  31.770087   \n",
       "3  37.075949  33.642532  32.766403  32.697285  34.024612  29.855947   \n",
       "4  29.174330  33.992502  34.385723  34.743098  32.201603  35.483379   \n",
       "\n",
       "         998        999  \n",
       "0  30.704222  35.838620  \n",
       "1  35.580278  32.112060  \n",
       "2  33.420589  35.058752  \n",
       "3  35.395989  34.153510  \n",
       "4  34.552669  35.088259  \n",
       "\n",
       "[5 rows x 1000 columns]"
      ]
     },
     "execution_count": 5,
     "metadata": {},
     "output_type": "execute_result"
    }
   ],
   "source": [
    "# Load data\n",
    "data = pd.read_csv(os.path.join(data_dir, sim_data_file), header=0)\n",
    "data.head()"
   ]
  },
  {
   "cell_type": "code",
   "execution_count": 6,
   "id": "fc941e6c-f942-4d40-99ee-e8b98d3e51e4",
   "metadata": {},
   "outputs": [],
   "source": [
    "# Normalize data\n",
    "data = (data - min_response_val)/(max_response_val - min_response_val)"
   ]
  },
  {
   "cell_type": "code",
   "execution_count": 7,
   "id": "4107e6fb-31af-4753-b49e-d43551c05085",
   "metadata": {},
   "outputs": [
    {
     "name": "stdout",
     "output_type": "stream",
     "text": [
      "Train data:  (31, 1000) \n",
      "Test data:  (19, 1000)\n"
     ]
    }
   ],
   "source": [
    "# Shuffle data and create test dataset\n",
    "shuffled_idx = np.random.permutation(len(data))\n",
    "data = data.loc[shuffled_idx].reset_index(drop=True)\n",
    "\n",
    "train_data = data.loc[0:int(len(data) * (1-valid_share)), ]\n",
    "train_data.shape\n",
    "\n",
    "test_idx = [idx for idx in data.index if idx not in train_data.index]\n",
    "test_data = data.loc[test_idx, ]\n",
    "print(\"Train data: \", train_data.shape, \"\\nTest data: \", test_data.shape)"
   ]
  },
  {
   "cell_type": "code",
   "execution_count": 8,
   "id": "e88cd508-a6f6-4d40-8dc2-6cf00ffcdb4e",
   "metadata": {},
   "outputs": [
    {
     "name": "stdout",
     "output_type": "stream",
     "text": [
      "# train input seqs:  30876 \n",
      "# train target seqs:  30876\n"
     ]
    }
   ],
   "source": [
    "# Create input and target sequences for training data\n",
    "train_input_seq = []\n",
    "train_target_seq = []\n",
    "\n",
    "\n",
    "for obs in range(len(train_data)):\n",
    "    obs_data = train_data.iloc[obs]\n",
    "    for i in range(len(obs_data) - seq_len):\n",
    "        train_input_seq.append(obs_data[i:i+seq_len].values)\n",
    "        train_target_seq.append(obs_data[i+seq_len])\n",
    "        i += 1\n",
    "print(\"# train input seqs: \", len(train_input_seq), \"\\n# train target seqs: \", len(train_target_seq))"
   ]
  },
  {
   "cell_type": "code",
   "execution_count": 9,
   "id": "890c19be-ce18-4227-8ed9-68227e20917a",
   "metadata": {},
   "outputs": [
    {
     "data": {
      "text/plain": [
       "torch.Size([30876, 4, 1])"
      ]
     },
     "execution_count": 9,
     "metadata": {},
     "output_type": "execute_result"
    }
   ],
   "source": [
    "# Convert sequences to PyTorch tensors\n",
    "train_input_tensor = torch.from_numpy(np.array(train_input_seq)).float().unsqueeze(-1)\n",
    "train_input_tensor = train_input_tensor.to(device) # Note that \"to\" method for tensors is not in-place operation (like it is for nn.Module/model below)\n",
    "train_input_tensor.shape"
   ]
  },
  {
   "cell_type": "code",
   "execution_count": 10,
   "id": "3cea09fd-88e3-4815-87c0-e1e8e09a9f9b",
   "metadata": {},
   "outputs": [
    {
     "data": {
      "text/plain": [
       "torch.Size([30876, 1])"
      ]
     },
     "execution_count": 10,
     "metadata": {},
     "output_type": "execute_result"
    }
   ],
   "source": [
    "train_target_tensor = torch.from_numpy(np.array(train_target_seq)).float().unsqueeze(-1)\n",
    "train_target_tensor = train_target_tensor.to(device) # Note that \"to\" method for tensors is not in-place operation (like it is for nn.Module/model below)\n",
    "train_target_tensor.shape"
   ]
  },
  {
   "cell_type": "code",
   "execution_count": 11,
   "id": "45539293-932c-410e-9608-7d4d003c6f2f",
   "metadata": {},
   "outputs": [],
   "source": [
    "# Create RNN model class\n",
    "class RNN(nn.Module):\n",
    "    \n",
    "    def __init__(self, input_size, hidden_size, output_size, n_layers):\n",
    "        super().__init__()\n",
    "        self.hidden_size = hidden_size\n",
    "        self.n_layers = n_layers\n",
    "        self.rnn = nn.RNN(input_size, hidden_size, num_layers = n_layers, batch_first=True)\n",
    "        self.fc = nn.Linear(hidden_size, output_size)\n",
    "\n",
    "    def forward(self, x):\n",
    "        \n",
    "        batch_size = x.size(0)\n",
    "        hidden = torch.zeros(self.n_layers, batch_size, self.hidden_size).to(device)\n",
    "\n",
    "        out, hidden = self.rnn(x, hidden)\n",
    "\n",
    "        out = self.fc(out[:, -1, :])\n",
    "\n",
    "        return out, hidden"
   ]
  },
  {
   "cell_type": "code",
   "execution_count": 12,
   "id": "435589fb-3eea-4297-8f7c-0d316ce088d6",
   "metadata": {},
   "outputs": [
    {
     "data": {
      "text/plain": [
       "RNN(\n",
       "  (rnn): RNN(1, 64, batch_first=True)\n",
       "  (fc): Linear(in_features=64, out_features=1, bias=True)\n",
       ")"
      ]
     },
     "execution_count": 12,
     "metadata": {},
     "output_type": "execute_result"
    }
   ],
   "source": [
    "# Instantiate model\n",
    "input_size = 1\n",
    "hidden_size = 64\n",
    "output_size = 1\n",
    "\n",
    "model = RNN(input_size, hidden_size, output_size, n_layers=1)\n",
    "model.to(device)\n",
    "model"
   ]
  },
  {
   "cell_type": "code",
   "execution_count": 13,
   "id": "01a0eb40-aee7-4e85-9129-7480689327e8",
   "metadata": {},
   "outputs": [
    {
     "data": {
      "text/plain": [
       "Adam (\n",
       "Parameter Group 0\n",
       "    amsgrad: False\n",
       "    betas: (0.9, 0.999)\n",
       "    eps: 1e-08\n",
       "    lr: 0.001\n",
       "    weight_decay: 0\n",
       ")"
      ]
     },
     "execution_count": 13,
     "metadata": {},
     "output_type": "execute_result"
    }
   ],
   "source": [
    "criterion = nn.MSELoss()\n",
    "optimizer = torch.optim.Adam(model.parameters(), lr=0.001)\n",
    "optimizer"
   ]
  },
  {
   "cell_type": "code",
   "execution_count": 14,
   "id": "b80f2a1a-ba6b-4455-8ff2-b6ed74a62dbb",
   "metadata": {},
   "outputs": [
    {
     "name": "stdout",
     "output_type": "stream",
     "text": [
      "Epoch [100/5000], Loss: 0.0054\n",
      "Epoch [200/5000], Loss: 0.0052\n",
      "Epoch [300/5000], Loss: 0.0051\n",
      "Epoch [400/5000], Loss: 0.0051\n",
      "Epoch [500/5000], Loss: 0.0051\n",
      "Epoch [600/5000], Loss: 0.0051\n",
      "Epoch [700/5000], Loss: 0.0051\n",
      "Epoch [800/5000], Loss: 0.0051\n",
      "Epoch [900/5000], Loss: 0.0050\n",
      "Epoch [1000/5000], Loss: 0.0050\n",
      "Epoch [1100/5000], Loss: 0.0050\n",
      "Epoch [1200/5000], Loss: 0.0050\n",
      "Epoch [1300/5000], Loss: 0.0050\n",
      "Epoch [1400/5000], Loss: 0.0050\n",
      "Epoch [1500/5000], Loss: 0.0050\n",
      "Epoch [1600/5000], Loss: 0.0050\n",
      "Epoch [1700/5000], Loss: 0.0050\n",
      "Epoch [1800/5000], Loss: 0.0050\n",
      "Epoch [1900/5000], Loss: 0.0050\n",
      "Epoch [2000/5000], Loss: 0.0050\n",
      "Epoch [2100/5000], Loss: 0.0050\n",
      "Epoch [2200/5000], Loss: 0.0050\n",
      "Epoch [2300/5000], Loss: 0.0050\n",
      "Epoch [2400/5000], Loss: 0.0050\n",
      "Epoch [2500/5000], Loss: 0.0050\n",
      "Epoch [2600/5000], Loss: 0.0050\n",
      "Epoch [2700/5000], Loss: 0.0050\n",
      "Epoch [2800/5000], Loss: 0.0050\n",
      "Epoch [2900/5000], Loss: 0.0050\n",
      "Epoch [3000/5000], Loss: 0.0050\n",
      "Epoch [3100/5000], Loss: 0.0050\n",
      "Epoch [3200/5000], Loss: 0.0050\n",
      "Epoch [3300/5000], Loss: 0.0050\n",
      "Epoch [3400/5000], Loss: 0.0050\n",
      "Epoch [3500/5000], Loss: 0.0050\n",
      "Epoch [3600/5000], Loss: 0.0050\n",
      "Epoch [3700/5000], Loss: 0.0050\n",
      "Epoch [3800/5000], Loss: 0.0050\n",
      "Epoch [3900/5000], Loss: 0.0050\n",
      "Epoch [4000/5000], Loss: 0.0050\n",
      "Epoch [4100/5000], Loss: 0.0050\n",
      "Epoch [4200/5000], Loss: 0.0050\n",
      "Epoch [4300/5000], Loss: 0.0050\n",
      "Epoch [4400/5000], Loss: 0.0050\n",
      "Epoch [4500/5000], Loss: 0.0050\n",
      "Epoch [4600/5000], Loss: 0.0050\n",
      "Epoch [4700/5000], Loss: 0.0050\n",
      "Epoch [4800/5000], Loss: 0.0051\n",
      "Epoch [4900/5000], Loss: 0.0050\n",
      "Epoch [5000/5000], Loss: 0.0050\n"
     ]
    }
   ],
   "source": [
    "# Train model\n",
    "num_epochs = 5000\n",
    "for epoch in range(num_epochs):\n",
    "    optimizer.zero_grad()\n",
    "    output, hidden = model(train_input_tensor)\n",
    "    # print(epoch, output.shape, train_target_tensor.shape, train_target_tensor.view(-1).shape)\n",
    "    # print(epoch, hidden.shape)\n",
    "    loss = criterion(output, train_target_tensor)\n",
    "    loss.backward()\n",
    "    optimizer.step()\n",
    "    \n",
    "    if (epoch+1) % 100 == 0:\n",
    "        print(f'Epoch [{epoch+1}/{num_epochs}], Loss: {loss.item():.4f}')"
   ]
  },
  {
   "cell_type": "code",
   "execution_count": 15,
   "id": "10a34727-f7c8-41cb-a167-300c1684041d",
   "metadata": {},
   "outputs": [
    {
     "data": {
      "text/plain": [
       "tensor([[0.5214],\n",
       "        [0.5267],\n",
       "        [0.5483],\n",
       "        ...,\n",
       "        [0.4772],\n",
       "        [0.4944],\n",
       "        [0.5086]], device='cuda:0')"
      ]
     },
     "execution_count": 15,
     "metadata": {},
     "output_type": "execute_result"
    }
   ],
   "source": [
    "# Generate predicted values for training data\n",
    "model.eval()\n",
    "with torch.no_grad():\n",
    "    train_predictions, _ = model(train_input_tensor)\n",
    "train_predictions"
   ]
  },
  {
   "cell_type": "code",
   "execution_count": 16,
   "id": "3d25c574-28c5-491d-9128-40670bf2c87c",
   "metadata": {},
   "outputs": [
    {
     "data": {
      "text/plain": [
       "tensor([0.0050])"
      ]
     },
     "execution_count": 16,
     "metadata": {},
     "output_type": "execute_result"
    }
   ],
   "source": [
    "# Compute MSE for training data\n",
    "train_target_tensor = train_target_tensor.cpu()\n",
    "train_predictions = train_predictions.cpu()\n",
    "\n",
    "train_mse = (sum((train_target_tensor - train_predictions)**2))/len(train_predictions)\n",
    "train_mse"
   ]
  },
  {
   "cell_type": "code",
   "execution_count": 17,
   "id": "7e277dda-ee21-4b94-9311-5cbaf6b9a110",
   "metadata": {},
   "outputs": [
    {
     "data": {
      "text/plain": [
       "<matplotlib.lines._AxLine at 0x7fc9be292220>"
      ]
     },
     "execution_count": 17,
     "metadata": {},
     "output_type": "execute_result"
    },
    {
     "data": {
      "image/png": "[encoded data removed]",
      "text/plain": [
       "<Figure size 432x288 with 1 Axes>"
      ]
     },
     "metadata": {
      "needs_background": "light"
     },
     "output_type": "display_data"
    }
   ],
   "source": [
    "# Plot train predictions against actuals\n",
    "fig, ax = plt.subplots()\n",
    "ax.scatter(\n",
    "    x=train_target_tensor.cpu(),\n",
    "    y=train_predictions.cpu(),\n",
    "    alpha=0.1\n",
    ")\n",
    "ax.axline([0, 0], [1, 1], linestyle=\"--\")"
   ]
  },
  {
   "cell_type": "code",
   "execution_count": 18,
   "id": "08cc4a28-ba84-4e2e-8257-6c5477c1abd6",
   "metadata": {},
   "outputs": [
    {
     "name": "stdout",
     "output_type": "stream",
     "text": [
      "# test input seqs:  18924 \n",
      "# test target seqs:  18924\n"
     ]
    }
   ],
   "source": [
    "# Create input and target sequences for test data\n",
    "test_input_seq = []\n",
    "test_target_seq = []\n",
    "\n",
    "for obs in range(len(test_data)):\n",
    "    obs_data = test_data.iloc[obs]\n",
    "    for i in range(len(obs_data) - seq_len):\n",
    "        test_input_seq.append(obs_data[i:i+seq_len].values)\n",
    "        test_target_seq.append(obs_data[i+seq_len])\n",
    "        i += 1\n",
    "print(\"# test input seqs: \", len(test_input_seq), \"\\n# test target seqs: \", len(test_target_seq))"
   ]
  },
  {
   "cell_type": "code",
   "execution_count": 19,
   "id": "ef727dc9-5fb7-49a9-94e4-37dc79695b1c",
   "metadata": {},
   "outputs": [
    {
     "data": {
      "text/plain": [
       "torch.Size([18924, 4, 1])"
      ]
     },
     "execution_count": 19,
     "metadata": {},
     "output_type": "execute_result"
    }
   ],
   "source": [
    "# Convert test sequences to PyTorch tensors\n",
    "test_input_tensor = torch.from_numpy(np.array(test_input_seq)).float().unsqueeze(-1)\n",
    "test_input_tensor = test_input_tensor.to(device) # Note that \"to\" method for tensors is not in-place operation (like it is for nn.Module/model below)\n",
    "test_input_tensor.shape"
   ]
  },
  {
   "cell_type": "code",
   "execution_count": 20,
   "id": "ccd921b7-d68e-4072-90fd-cd5e9a54e98b",
   "metadata": {},
   "outputs": [
    {
     "data": {
      "text/plain": [
       "torch.Size([18924, 1])"
      ]
     },
     "execution_count": 20,
     "metadata": {},
     "output_type": "execute_result"
    }
   ],
   "source": [
    "test_target_tensor = torch.from_numpy(np.array(test_target_seq)).float().unsqueeze(-1)\n",
    "test_target_tensor = test_target_tensor.to(device) # Note that \"to\" method for tensors is not in-place operation (like it is for nn.Module/model below)\n",
    "test_target_tensor.shape"
   ]
  },
  {
   "cell_type": "code",
   "execution_count": 21,
   "id": "55bcc860-f96e-48e6-b23c-c264d2a890ab",
   "metadata": {},
   "outputs": [
    {
     "data": {
      "text/plain": [
       "tensor([[0.5282],\n",
       "        [0.5331],\n",
       "        [0.5330],\n",
       "        ...,\n",
       "        [0.4982],\n",
       "        [0.4798],\n",
       "        [0.4660]], device='cuda:0')"
      ]
     },
     "execution_count": 21,
     "metadata": {},
     "output_type": "execute_result"
    }
   ],
   "source": [
    "# Generate predictions for test data\n",
    "model.eval()\n",
    "with torch.no_grad():\n",
    "    test_predictions, _ = model(test_input_tensor)\n",
    "test_predictions"
   ]
  },
  {
   "cell_type": "code",
   "execution_count": 22,
   "id": "52a276ca-6450-4070-a7e4-d6870f62b59b",
   "metadata": {},
   "outputs": [
    {
     "data": {
      "text/plain": [
       "tensor([0.0054])"
      ]
     },
     "execution_count": 22,
     "metadata": {},
     "output_type": "execute_result"
    }
   ],
   "source": [
    "# Compute MSE for test data\n",
    "test_target_tensor = test_target_tensor.cpu()\n",
    "test_predictions = test_predictions.cpu()\n",
    "\n",
    "test_mse = (sum((test_target_tensor - test_predictions)**2))/len(test_predictions)\n",
    "test_mse"
   ]
  },
  {
   "cell_type": "code",
   "execution_count": 23,
   "id": "21690aaa-0fb2-46e9-bbd2-f6b969199f4f",
   "metadata": {},
   "outputs": [
    {
     "data": {
      "text/plain": [
       "<matplotlib.lines._AxLine at 0x7fc9bc062730>"
      ]
     },
     "execution_count": 23,
     "metadata": {},
     "output_type": "execute_result"
    },
    {
     "data": {
      "image/png": "[encoded data removed]",
      "text/plain": [
       "<Figure size 432x288 with 1 Axes>"
      ]
     },
     "metadata": {
      "needs_background": "light"
     },
     "output_type": "display_data"
    }
   ],
   "source": [
    "# Plot test predictions against actuals\n",
    "fig, ax = plt.subplots()\n",
    "ax.scatter(\n",
    "    x=test_target_tensor.cpu(),\n",
    "    y=test_predictions.cpu(),\n",
    "    alpha=0.1\n",
    ")\n",
    "ax.axline([0, 0], [1, 1], linestyle=\"--\")"
   ]
  },
  {
   "cell_type": "code",
   "execution_count": null,
   "id": "6c983a45-3278-4035-b5c7-a7dbe941639d",
   "metadata": {},
   "outputs": [],
   "source": []
  }
 ],
 "metadata": {
  "kernelspec": {
   "display_name": "Python 3 (ipykernel)",
   "language": "python",
   "name": "python3"
  },
  "language_info": {
   "codemirror_mode": {
    "name": "ipython",
    "version": 3
   },
   "file_extension": ".py",
   "mimetype": "text/x-python",
   "name": "python",
   "nbconvert_exporter": "python",
   "pygments_lexer": "ipython3",
   "version": "3.8.12"
  }
 },
 "nbformat": 4,
 "nbformat_minor": 5
}
