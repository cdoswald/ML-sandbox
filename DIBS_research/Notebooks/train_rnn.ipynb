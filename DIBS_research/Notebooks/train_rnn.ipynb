{
 "cells": [
  {
   "cell_type": "code",
   "execution_count": 1,
   "id": "f149dfd6-2621-4895-bbb0-67754780087c",
   "metadata": {},
   "outputs": [],
   "source": [
    "# Import packages\n",
    "import os\n",
    "\n",
    "import matplotlib.pyplot as plt\n",
    "import numpy as np\n",
    "import pandas as pd\n",
    "\n",
    "import torch\n",
    "from torch import nn"
   ]
  },
  {
   "cell_type": "code",
   "execution_count": 2,
   "id": "177bc3a2-7fd6-4aea-bfc8-0ab8e8665ea6",
   "metadata": {},
   "outputs": [],
   "source": [
    "# Define constants\n",
    "seq_len = 100\n",
    "valid_share = 0.4\n",
    "min_response_val = 20 # (Arbitrary--based on simulated data)\n",
    "max_response_val = 50 # (Arbitrary--based on simulated data)\n",
    "torch.manual_seed(9999)\n",
    "np.random.seed(9998)"
   ]
  },
  {
   "cell_type": "code",
   "execution_count": 3,
   "id": "25cdb9b4-d14e-42ea-a4e1-6c66b840ddce",
   "metadata": {},
   "outputs": [],
   "source": [
    "# Specify directory/file paths\n",
    "data_dir = \"Data\"\n",
    "\n",
    "# sim_data_file = \"DIBS_simulated_fmri_var4model.csv\"\n",
    "sim_data_file = \"DIBS_simulated_fmri_VAR1_corr_model.csv\""
   ]
  },
  {
   "cell_type": "code",
   "execution_count": 4,
   "id": "86f49383-2d52-4de6-9760-620bcb9c115b",
   "metadata": {},
   "outputs": [
    {
     "name": "stdout",
     "output_type": "stream",
     "text": [
      "Number of GPUs available: 1\n",
      "GPU 1: NVIDIA TITAN Xp\n"
     ]
    }
   ],
   "source": [
    "# Check that CUDA GPUs are available\n",
    "if torch.cuda.is_available():\n",
    "    device = torch.cuda.current_device()\n",
    "    print(f'Number of GPUs available: {torch.cuda.device_count()}')\n",
    "    for i in range(torch.cuda.device_count()):\n",
    "        print(f'GPU {i+1}: {torch.cuda.get_device_name(i)}')\n",
    "else:\n",
    "    device = torch.device(\"cpu\")\n",
    "    print(\"GPU not available--using CPU instead.\")"
   ]
  },
  {
   "cell_type": "code",
   "execution_count": 5,
   "id": "0bab7165-37c0-4554-a5a6-72e562d5d3f6",
   "metadata": {},
   "outputs": [
    {
     "data": {
      "text/html": [
       "<div>\n",
       "<style scoped>\n",
       "    .dataframe tbody tr th:only-of-type {\n",
       "        vertical-align: middle;\n",
       "    }\n",
       "\n",
       "    .dataframe tbody tr th {\n",
       "        vertical-align: top;\n",
       "    }\n",
       "\n",
       "    .dataframe thead th {\n",
       "        text-align: right;\n",
       "    }\n",
       "</style>\n",
       "<table border=\"1\" class=\"dataframe\">\n",
       "  <thead>\n",
       "    <tr style=\"text-align: right;\">\n",
       "      <th></th>\n",
       "      <th>0</th>\n",
       "      <th>1</th>\n",
       "      <th>2</th>\n",
       "      <th>3</th>\n",
       "      <th>4</th>\n",
       "      <th>5</th>\n",
       "      <th>6</th>\n",
       "      <th>7</th>\n",
       "      <th>8</th>\n",
       "      <th>9</th>\n",
       "      <th>...</th>\n",
       "      <th>990</th>\n",
       "      <th>991</th>\n",
       "      <th>992</th>\n",
       "      <th>993</th>\n",
       "      <th>994</th>\n",
       "      <th>995</th>\n",
       "      <th>996</th>\n",
       "      <th>997</th>\n",
       "      <th>998</th>\n",
       "      <th>999</th>\n",
       "    </tr>\n",
       "  </thead>\n",
       "  <tbody>\n",
       "    <tr>\n",
       "      <th>0</th>\n",
       "      <td>19.116246</td>\n",
       "      <td>16.565530</td>\n",
       "      <td>12.415547</td>\n",
       "      <td>18.299480</td>\n",
       "      <td>17.276543</td>\n",
       "      <td>15.754591</td>\n",
       "      <td>16.140283</td>\n",
       "      <td>16.699754</td>\n",
       "      <td>8.404268</td>\n",
       "      <td>11.854886</td>\n",
       "      <td>...</td>\n",
       "      <td>13.878511</td>\n",
       "      <td>6.417796</td>\n",
       "      <td>6.675971</td>\n",
       "      <td>12.511130</td>\n",
       "      <td>16.446791</td>\n",
       "      <td>15.229926</td>\n",
       "      <td>13.449784</td>\n",
       "      <td>10.026379</td>\n",
       "      <td>12.659897</td>\n",
       "      <td>16.061967</td>\n",
       "    </tr>\n",
       "    <tr>\n",
       "      <th>1</th>\n",
       "      <td>19.792518</td>\n",
       "      <td>19.305758</td>\n",
       "      <td>18.432122</td>\n",
       "      <td>19.598789</td>\n",
       "      <td>19.390565</td>\n",
       "      <td>19.234885</td>\n",
       "      <td>19.216070</td>\n",
       "      <td>19.378951</td>\n",
       "      <td>17.712553</td>\n",
       "      <td>18.576233</td>\n",
       "      <td>...</td>\n",
       "      <td>18.885059</td>\n",
       "      <td>17.471678</td>\n",
       "      <td>17.575436</td>\n",
       "      <td>18.570558</td>\n",
       "      <td>19.305121</td>\n",
       "      <td>18.991407</td>\n",
       "      <td>18.677850</td>\n",
       "      <td>18.059543</td>\n",
       "      <td>18.527432</td>\n",
       "      <td>19.265571</td>\n",
       "    </tr>\n",
       "    <tr>\n",
       "      <th>2</th>\n",
       "      <td>19.121983</td>\n",
       "      <td>19.876964</td>\n",
       "      <td>14.909188</td>\n",
       "      <td>18.882328</td>\n",
       "      <td>16.265094</td>\n",
       "      <td>16.886579</td>\n",
       "      <td>19.313189</td>\n",
       "      <td>14.342573</td>\n",
       "      <td>11.619733</td>\n",
       "      <td>14.133271</td>\n",
       "      <td>...</td>\n",
       "      <td>17.373623</td>\n",
       "      <td>9.282487</td>\n",
       "      <td>8.073071</td>\n",
       "      <td>12.552553</td>\n",
       "      <td>13.669796</td>\n",
       "      <td>14.597934</td>\n",
       "      <td>14.564002</td>\n",
       "      <td>11.974637</td>\n",
       "      <td>13.515495</td>\n",
       "      <td>16.382279</td>\n",
       "    </tr>\n",
       "    <tr>\n",
       "      <th>3</th>\n",
       "      <td>20.791987</td>\n",
       "      <td>20.660207</td>\n",
       "      <td>18.516190</td>\n",
       "      <td>22.940047</td>\n",
       "      <td>22.370048</td>\n",
       "      <td>19.327175</td>\n",
       "      <td>20.404752</td>\n",
       "      <td>18.564065</td>\n",
       "      <td>14.274104</td>\n",
       "      <td>17.026338</td>\n",
       "      <td>...</td>\n",
       "      <td>19.755899</td>\n",
       "      <td>16.347811</td>\n",
       "      <td>14.717065</td>\n",
       "      <td>14.199868</td>\n",
       "      <td>17.602043</td>\n",
       "      <td>16.879330</td>\n",
       "      <td>15.547040</td>\n",
       "      <td>13.652054</td>\n",
       "      <td>15.554164</td>\n",
       "      <td>20.579689</td>\n",
       "    </tr>\n",
       "    <tr>\n",
       "      <th>4</th>\n",
       "      <td>20.614162</td>\n",
       "      <td>16.734544</td>\n",
       "      <td>18.330194</td>\n",
       "      <td>23.063298</td>\n",
       "      <td>17.598805</td>\n",
       "      <td>19.865324</td>\n",
       "      <td>18.555408</td>\n",
       "      <td>18.876797</td>\n",
       "      <td>13.724560</td>\n",
       "      <td>15.565455</td>\n",
       "      <td>...</td>\n",
       "      <td>14.019824</td>\n",
       "      <td>10.375109</td>\n",
       "      <td>9.326729</td>\n",
       "      <td>11.398092</td>\n",
       "      <td>16.280734</td>\n",
       "      <td>18.053591</td>\n",
       "      <td>14.627125</td>\n",
       "      <td>13.729796</td>\n",
       "      <td>12.034983</td>\n",
       "      <td>18.283346</td>\n",
       "    </tr>\n",
       "  </tbody>\n",
       "</table>\n",
       "<p>5 rows × 1000 columns</p>\n",
       "</div>"
      ],
      "text/plain": [
       "           0          1          2          3          4          5  \\\n",
       "0  19.116246  16.565530  12.415547  18.299480  17.276543  15.754591   \n",
       "1  19.792518  19.305758  18.432122  19.598789  19.390565  19.234885   \n",
       "2  19.121983  19.876964  14.909188  18.882328  16.265094  16.886579   \n",
       "3  20.791987  20.660207  18.516190  22.940047  22.370048  19.327175   \n",
       "4  20.614162  16.734544  18.330194  23.063298  17.598805  19.865324   \n",
       "\n",
       "           6          7          8          9  ...        990        991  \\\n",
       "0  16.140283  16.699754   8.404268  11.854886  ...  13.878511   6.417796   \n",
       "1  19.216070  19.378951  17.712553  18.576233  ...  18.885059  17.471678   \n",
       "2  19.313189  14.342573  11.619733  14.133271  ...  17.373623   9.282487   \n",
       "3  20.404752  18.564065  14.274104  17.026338  ...  19.755899  16.347811   \n",
       "4  18.555408  18.876797  13.724560  15.565455  ...  14.019824  10.375109   \n",
       "\n",
       "         992        993        994        995        996        997  \\\n",
       "0   6.675971  12.511130  16.446791  15.229926  13.449784  10.026379   \n",
       "1  17.575436  18.570558  19.305121  18.991407  18.677850  18.059543   \n",
       "2   8.073071  12.552553  13.669796  14.597934  14.564002  11.974637   \n",
       "3  14.717065  14.199868  17.602043  16.879330  15.547040  13.652054   \n",
       "4   9.326729  11.398092  16.280734  18.053591  14.627125  13.729796   \n",
       "\n",
       "         998        999  \n",
       "0  12.659897  16.061967  \n",
       "1  18.527432  19.265571  \n",
       "2  13.515495  16.382279  \n",
       "3  15.554164  20.579689  \n",
       "4  12.034983  18.283346  \n",
       "\n",
       "[5 rows x 1000 columns]"
      ]
     },
     "execution_count": 5,
     "metadata": {},
     "output_type": "execute_result"
    }
   ],
   "source": [
    "# Load data\n",
    "data = pd.read_csv(os.path.join(data_dir, sim_data_file), header=0)\n",
    "data.head()"
   ]
  },
  {
   "cell_type": "code",
   "execution_count": 6,
   "id": "fc941e6c-f942-4d40-99ee-e8b98d3e51e4",
   "metadata": {},
   "outputs": [],
   "source": [
    "# Normalize data\n",
    "data = (data - min_response_val)/(max_response_val - min_response_val)"
   ]
  },
  {
   "cell_type": "code",
   "execution_count": 7,
   "id": "4107e6fb-31af-4753-b49e-d43551c05085",
   "metadata": {},
   "outputs": [
    {
     "name": "stdout",
     "output_type": "stream",
     "text": [
      "Train data:  (31, 1000) \n",
      "Test data:  (19, 1000)\n"
     ]
    }
   ],
   "source": [
    "# Shuffle data and create test dataset\n",
    "shuffled_idx = np.random.permutation(len(data))\n",
    "data = data.loc[shuffled_idx].reset_index(drop=True)\n",
    "\n",
    "train_data = data.loc[0:int(len(data) * (1-valid_share)), ]\n",
    "train_data.shape\n",
    "\n",
    "test_idx = [idx for idx in data.index if idx not in train_data.index]\n",
    "test_data = data.loc[test_idx, ]\n",
    "print(\"Train data: \", train_data.shape, \"\\nTest data: \", test_data.shape)"
   ]
  },
  {
   "cell_type": "code",
   "execution_count": 8,
   "id": "e88cd508-a6f6-4d40-8dc2-6cf00ffcdb4e",
   "metadata": {},
   "outputs": [
    {
     "name": "stdout",
     "output_type": "stream",
     "text": [
      "# train input seqs:  27900 \n",
      "# train target seqs:  27900\n"
     ]
    }
   ],
   "source": [
    "# Create input and target sequences for training data\n",
    "train_input_seq = []\n",
    "train_target_seq = []\n",
    "\n",
    "\n",
    "for obs in range(len(train_data)):\n",
    "    obs_data = train_data.iloc[obs]\n",
    "    for i in range(len(obs_data) - seq_len):\n",
    "        train_input_seq.append(obs_data[i:i+seq_len].values)\n",
    "        train_target_seq.append(obs_data[i+seq_len])\n",
    "        i += 1\n",
    "print(\"# train input seqs: \", len(train_input_seq), \"\\n# train target seqs: \", len(train_target_seq))"
   ]
  },
  {
   "cell_type": "code",
   "execution_count": 9,
   "id": "890c19be-ce18-4227-8ed9-68227e20917a",
   "metadata": {},
   "outputs": [
    {
     "data": {
      "text/plain": [
       "torch.Size([27900, 100, 1])"
      ]
     },
     "execution_count": 9,
     "metadata": {},
     "output_type": "execute_result"
    }
   ],
   "source": [
    "# Convert sequences to PyTorch tensors\n",
    "train_input_tensor = torch.from_numpy(np.array(train_input_seq)).float().unsqueeze(-1)\n",
    "train_input_tensor = train_input_tensor.to(device) # Note that \"to\" method for tensors is not in-place operation (like it is for nn.Module/model below)\n",
    "train_input_tensor.shape"
   ]
  },
  {
   "cell_type": "code",
   "execution_count": 10,
   "id": "3cea09fd-88e3-4815-87c0-e1e8e09a9f9b",
   "metadata": {},
   "outputs": [
    {
     "data": {
      "text/plain": [
       "torch.Size([27900, 1])"
      ]
     },
     "execution_count": 10,
     "metadata": {},
     "output_type": "execute_result"
    }
   ],
   "source": [
    "train_target_tensor = torch.from_numpy(np.array(train_target_seq)).float().unsqueeze(-1)\n",
    "train_target_tensor = train_target_tensor.to(device) # Note that \"to\" method for tensors is not in-place operation (like it is for nn.Module/model below)\n",
    "train_target_tensor.shape"
   ]
  },
  {
   "cell_type": "code",
   "execution_count": 11,
   "id": "45539293-932c-410e-9608-7d4d003c6f2f",
   "metadata": {},
   "outputs": [],
   "source": [
    "# Create RNN model class\n",
    "class RNN(nn.Module):\n",
    "    \n",
    "    def __init__(self, input_size, hidden_size, output_size, n_layers):\n",
    "        super().__init__()\n",
    "        self.hidden_size = hidden_size\n",
    "        self.n_layers = n_layers\n",
    "        self.rnn = nn.RNN(input_size, hidden_size, num_layers = n_layers, batch_first=True)\n",
    "        self.fc = nn.Linear(hidden_size, output_size)\n",
    "\n",
    "    def forward(self, x):\n",
    "        \n",
    "        batch_size = x.size(0)\n",
    "        hidden = torch.zeros(self.n_layers, batch_size, self.hidden_size).to(device)\n",
    "\n",
    "        out, hidden = self.rnn(x, hidden)\n",
    "\n",
    "        out = self.fc(out[:, -1, :])\n",
    "\n",
    "        return out, hidden"
   ]
  },
  {
   "cell_type": "code",
   "execution_count": 12,
   "id": "435589fb-3eea-4297-8f7c-0d316ce088d6",
   "metadata": {},
   "outputs": [
    {
     "data": {
      "text/plain": [
       "RNN(\n",
       "  (rnn): RNN(1, 64, batch_first=True)\n",
       "  (fc): Linear(in_features=64, out_features=1, bias=True)\n",
       ")"
      ]
     },
     "execution_count": 12,
     "metadata": {},
     "output_type": "execute_result"
    }
   ],
   "source": [
    "# Instantiate model\n",
    "input_size = 1\n",
    "hidden_size = 64\n",
    "output_size = 1\n",
    "\n",
    "model = RNN(input_size, hidden_size, output_size, n_layers=1)\n",
    "model.to(device)\n",
    "model"
   ]
  },
  {
   "cell_type": "code",
   "execution_count": 13,
   "id": "01a0eb40-aee7-4e85-9129-7480689327e8",
   "metadata": {},
   "outputs": [
    {
     "data": {
      "text/plain": [
       "Adam (\n",
       "Parameter Group 0\n",
       "    amsgrad: False\n",
       "    betas: (0.9, 0.999)\n",
       "    eps: 1e-08\n",
       "    lr: 0.001\n",
       "    weight_decay: 0\n",
       ")"
      ]
     },
     "execution_count": 13,
     "metadata": {},
     "output_type": "execute_result"
    }
   ],
   "source": [
    "criterion = nn.MSELoss()\n",
    "optimizer = torch.optim.Adam(model.parameters(), lr=0.001)\n",
    "optimizer"
   ]
  },
  {
   "cell_type": "code",
   "execution_count": 14,
   "id": "b80f2a1a-ba6b-4455-8ff2-b6ed74a62dbb",
   "metadata": {},
   "outputs": [
    {
     "name": "stdout",
     "output_type": "stream",
     "text": [
      "Epoch [100/1000], Loss: 0.0073\n",
      "Epoch [200/1000], Loss: 0.0068\n",
      "Epoch [300/1000], Loss: 0.0067\n",
      "Epoch [400/1000], Loss: 0.0067\n",
      "Epoch [500/1000], Loss: 0.0067\n",
      "Epoch [600/1000], Loss: 0.0067\n",
      "Epoch [700/1000], Loss: 0.0067\n",
      "Epoch [800/1000], Loss: 0.0067\n",
      "Epoch [900/1000], Loss: 0.0067\n",
      "Epoch [1000/1000], Loss: 0.0067\n"
     ]
    }
   ],
   "source": [
    "# Train model\n",
    "num_epochs = 1000\n",
    "for epoch in range(num_epochs):\n",
    "    optimizer.zero_grad()\n",
    "    output, hidden = model(train_input_tensor)\n",
    "    # print(epoch, output.shape, train_target_tensor.shape, train_target_tensor.view(-1).shape)\n",
    "    # print(epoch, hidden.shape)\n",
    "    loss = criterion(output, train_target_tensor)\n",
    "    loss.backward()\n",
    "    optimizer.step()\n",
    "    \n",
    "    if (epoch+1) % 100 == 0:\n",
    "        print(f'Epoch [{epoch+1}/{num_epochs}], Loss: {loss.item():.4f}')"
   ]
  },
  {
   "cell_type": "code",
   "execution_count": 15,
   "id": "10a34727-f7c8-41cb-a167-300c1684041d",
   "metadata": {},
   "outputs": [
    {
     "data": {
      "text/plain": [
       "tensor([[ 0.0796],\n",
       "        [ 0.1891],\n",
       "        [ 0.1472],\n",
       "        ...,\n",
       "        [-0.1230],\n",
       "        [-0.1740],\n",
       "        [-0.1416]], device='cuda:0')"
      ]
     },
     "execution_count": 15,
     "metadata": {},
     "output_type": "execute_result"
    }
   ],
   "source": [
    "# Generate predicted values for training data\n",
    "model.eval()\n",
    "with torch.no_grad():\n",
    "    train_predictions, _ = model(train_input_tensor)\n",
    "train_predictions"
   ]
  },
  {
   "cell_type": "code",
   "execution_count": 16,
   "id": "3d25c574-28c5-491d-9128-40670bf2c87c",
   "metadata": {},
   "outputs": [
    {
     "data": {
      "text/plain": [
       "tensor([0.0067])"
      ]
     },
     "execution_count": 16,
     "metadata": {},
     "output_type": "execute_result"
    }
   ],
   "source": [
    "# Compute MSE for training data\n",
    "train_target_tensor = train_target_tensor.cpu()\n",
    "train_predictions = train_predictions.cpu()\n",
    "\n",
    "train_mse = (sum((train_target_tensor - train_predictions)**2))/len(train_predictions)\n",
    "train_mse"
   ]
  },
  {
   "cell_type": "code",
   "execution_count": 17,
   "id": "7e277dda-ee21-4b94-9311-5cbaf6b9a110",
   "metadata": {},
   "outputs": [
    {
     "data": {
      "text/plain": [
       "<matplotlib.lines._AxLine at 0x7efd0dc2d6d0>"
      ]
     },
     "execution_count": 17,
     "metadata": {},
     "output_type": "execute_result"
    },
    {
     "data": {
      "image/png": "[encoded data removed]",
      "text/plain": [
       "<Figure size 432x288 with 1 Axes>"
      ]
     },
     "metadata": {
      "needs_background": "light"
     },
     "output_type": "display_data"
    }
   ],
   "source": [
    "# Plot train predictions against actuals\n",
    "fig, ax = plt.subplots()\n",
    "ax.scatter(\n",
    "    x=train_target_tensor.cpu(),\n",
    "    y=train_predictions.cpu(),\n",
    "    alpha=0.1\n",
    ")\n",
    "ax.axline([0, 0], [1, 1], linestyle=\"--\")"
   ]
  },
  {
   "cell_type": "code",
   "execution_count": 18,
   "id": "08cc4a28-ba84-4e2e-8257-6c5477c1abd6",
   "metadata": {},
   "outputs": [
    {
     "name": "stdout",
     "output_type": "stream",
     "text": [
      "# test input seqs:  17100 \n",
      "# test target seqs:  17100\n"
     ]
    }
   ],
   "source": [
    "# Create input and target sequences for test data\n",
    "test_input_seq = []\n",
    "test_target_seq = []\n",
    "\n",
    "for obs in range(len(test_data)):\n",
    "    obs_data = test_data.iloc[obs]\n",
    "    for i in range(len(obs_data) - seq_len):\n",
    "        test_input_seq.append(obs_data[i:i+seq_len].values)\n",
    "        test_target_seq.append(obs_data[i+seq_len])\n",
    "        i += 1\n",
    "print(\"# test input seqs: \", len(test_input_seq), \"\\n# test target seqs: \", len(test_target_seq))"
   ]
  },
  {
   "cell_type": "code",
   "execution_count": 19,
   "id": "ef727dc9-5fb7-49a9-94e4-37dc79695b1c",
   "metadata": {},
   "outputs": [
    {
     "data": {
      "text/plain": [
       "torch.Size([17100, 100, 1])"
      ]
     },
     "execution_count": 19,
     "metadata": {},
     "output_type": "execute_result"
    }
   ],
   "source": [
    "# Convert test sequences to PyTorch tensors\n",
    "test_input_tensor = torch.from_numpy(np.array(test_input_seq)).float().unsqueeze(-1)\n",
    "test_input_tensor = test_input_tensor.to(device) # Note that \"to\" method for tensors is not in-place operation (like it is for nn.Module/model below)\n",
    "test_input_tensor.shape"
   ]
  },
  {
   "cell_type": "code",
   "execution_count": 20,
   "id": "ccd921b7-d68e-4072-90fd-cd5e9a54e98b",
   "metadata": {},
   "outputs": [
    {
     "data": {
      "text/plain": [
       "torch.Size([17100, 1])"
      ]
     },
     "execution_count": 20,
     "metadata": {},
     "output_type": "execute_result"
    }
   ],
   "source": [
    "test_target_tensor = torch.from_numpy(np.array(test_target_seq)).float().unsqueeze(-1)\n",
    "test_target_tensor = test_target_tensor.to(device) # Note that \"to\" method for tensors is not in-place operation (like it is for nn.Module/model below)\n",
    "test_target_tensor.shape"
   ]
  },
  {
   "cell_type": "code",
   "execution_count": 21,
   "id": "55bcc860-f96e-48e6-b23c-c264d2a890ab",
   "metadata": {},
   "outputs": [
    {
     "data": {
      "text/plain": [
       "tensor([[ 0.2804],\n",
       "        [ 0.4215],\n",
       "        [ 0.2900],\n",
       "        ...,\n",
       "        [-0.1110],\n",
       "        [-0.1394],\n",
       "        [-0.1524]], device='cuda:0')"
      ]
     },
     "execution_count": 21,
     "metadata": {},
     "output_type": "execute_result"
    }
   ],
   "source": [
    "# Generate predictions for test data\n",
    "model.eval()\n",
    "with torch.no_grad():\n",
    "    test_predictions, _ = model(test_input_tensor)\n",
    "test_predictions"
   ]
  },
  {
   "cell_type": "code",
   "execution_count": 22,
   "id": "52a276ca-6450-4070-a7e4-d6870f62b59b",
   "metadata": {},
   "outputs": [
    {
     "data": {
      "text/plain": [
       "tensor([0.0061])"
      ]
     },
     "execution_count": 22,
     "metadata": {},
     "output_type": "execute_result"
    }
   ],
   "source": [
    "# Compute MSE for test data\n",
    "test_target_tensor = test_target_tensor.cpu()\n",
    "test_predictions = test_predictions.cpu()\n",
    "\n",
    "test_mse = (sum((test_target_tensor - test_predictions)**2))/len(test_predictions)\n",
    "test_mse"
   ]
  },
  {
   "cell_type": "code",
   "execution_count": 23,
   "id": "21690aaa-0fb2-46e9-bbd2-f6b969199f4f",
   "metadata": {},
   "outputs": [
    {
     "data": {
      "text/plain": [
       "<matplotlib.lines._AxLine at 0x7efd0c72be20>"
      ]
     },
     "execution_count": 23,
     "metadata": {},
     "output_type": "execute_result"
    },
    {
     "data": {
      "image/png": "[encoded data removed]",
      "text/plain": [
       "<Figure size 432x288 with 1 Axes>"
      ]
     },
     "metadata": {
      "needs_background": "light"
     },
     "output_type": "display_data"
    }
   ],
   "source": [
    "# Plot test predictions against actuals\n",
    "fig, ax = plt.subplots()\n",
    "ax.scatter(\n",
    "    x=test_target_tensor.cpu(),\n",
    "    y=test_predictions.cpu(),\n",
    "    alpha=0.1\n",
    ")\n",
    "ax.axline([0, 0], [1, 1], linestyle=\"--\")"
   ]
  }
 ],
 "metadata": {
  "kernelspec": {
   "display_name": "Python 3 (ipykernel)",
   "language": "python",
   "name": "python3"
  },
  "language_info": {
   "codemirror_mode": {
    "name": "ipython",
    "version": 3
   },
   "file_extension": ".py",
   "mimetype": "text/x-python",
   "name": "python",
   "nbconvert_exporter": "python",
   "pygments_lexer": "ipython3",
   "version": "3.8.12"
  }
 },
 "nbformat": 4,
 "nbformat_minor": 5
}
