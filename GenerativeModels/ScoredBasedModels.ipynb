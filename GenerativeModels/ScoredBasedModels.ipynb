{
  "cells": [
    {
      "cell_type": "markdown",
      "metadata": {
        "id": "7Y_fk30kCvW9"
      },
      "source": [
        "# Score-Based Models\n",
        "\n",
        "**Author**: Chris Oswald\n",
        "\n",
        "**Course**: CS676/ECE689 Advanced Topics in Deep Learning (Spring 2024)"
      ]
    },
    {
      "cell_type": "markdown",
      "source": [
        "## Set-up"
      ],
      "metadata": {
        "id": "u6v6AgL-sfGM"
      }
    },
    {
      "cell_type": "code",
      "source": [
        "!pip install datasets\n",
        "!pip install accelerate -U\n",
        "!pip install transformers -U"
      ],
      "metadata": {
        "id": "z1Y63iKhjaOk"
      },
      "execution_count": null,
      "outputs": []
    },
    {
      "cell_type": "code",
      "execution_count": null,
      "metadata": {
        "id": "R7gRa0ZYnbun"
      },
      "outputs": [],
      "source": [
        "import json\n",
        "import os\n",
        "import math\n",
        "import time\n",
        "from typing import Tuple\n",
        "\n",
        "import numpy as np\n",
        "import matplotlib.pyplot as plt\n",
        "\n",
        "import torch\n",
        "from torch import nn\n",
        "import torch.nn.functional as F\n",
        "from torchvision.datasets import MNIST\n",
        "from torchvision import transforms\n",
        "from torch.utils.data import DataLoader"
      ]
    },
    {
      "cell_type": "code",
      "source": [
        "device = torch.device(\"cuda\" if torch.cuda.is_available() else \"cpu\")"
      ],
      "metadata": {
        "id": "6HBd43-AYNnu"
      },
      "execution_count": null,
      "outputs": []
    },
    {
      "cell_type": "code",
      "execution_count": null,
      "metadata": {
        "id": "5hBs5qkp_Us7"
      },
      "outputs": [],
      "source": [
        "# Create directories\n",
        "from google.colab import drive\n",
        "drive.mount('/content/drive')\n",
        "\n",
        "models_dir = \"/content/drive/MyDrive/Colab Notebooks/Models\"\n",
        "os.makedirs(models_dir, exist_ok=True)\n",
        "\n",
        "data_dir = \"/content/drive/MyDrive/Colab Notebooks/Data\"\n",
        "os.makedirs(data_dir, exist_ok=True)"
      ]
    },
    {
      "cell_type": "markdown",
      "metadata": {
        "id": "mgEHJGopC3nP"
      },
      "source": [
        "## Question 1: Training a Light Score-Based Generative Model with Sliced Score Matching on MNIST"
      ]
    },
    {
      "cell_type": "markdown",
      "metadata": {
        "id": "G61Rlp1EDN3T"
      },
      "source": [
        "**Objective:** Implement and train a lightweight score-based generative model using the sliced score matching technique. The goal is to learn the data distribution's score for generating new samples similar to the training data.\n",
        "\n",
        "**Dataset:** Use the MNIST dataset, which consists of 70,000 28x28 grayscale images of handwritten digits (0-9). It is divided into 60,000 training images and 10,000 test images. MNIST can be found at https://pytorch.org/vision/main/generated/torchvision.datasets.MNIST.html To reduce computational complexity, you can downscale the MNIST images to 7x7. Both score models trained with 28x28 and with 7x7 MNIST will get full credits.\n",
        "\n",
        "**Tasks:**\n",
        "1. Data preparation: Normalize the MNIST images to have pixel values between -1 and 1.\n",
        "2. Model Architecture: Construct a simple convolutional neural network (CNN) for estimating the data distribution's score. This network should accept a noisy image as input and output a score estimate.\n",
        "3. Sliced Score Matching: Implement the sliced score matching objective. Add Gaussian noise to the input images, and train the model to approximate the score of the noise-perturbed data distribution.\n",
        "4. Training: Use a smaller batch size if necessary to accommodate memory constraints. Train the model using a straightforward optimizer like Adam, with a conservative learning rate (e.g., 1e-3). Consider reducing the number of training epochs and implementing checkpointing to save the model intermittently.\n",
        "5. Evaluation and Generation: Evaluate the model qualitatively by visual inspection of generated digits.\n",
        "\n",
        "References:\n",
        "* https://github.com/mfkasim1/score-based-tutorial/blob/main/01-SGM-without-SDE.ipynb)\n",
        "* https://towardsdatascience.com/understanding-u-net-61276b10f360\n",
        "* https://github.com/milesial/Pytorch-UNet\n",
        "* https://abdulfatir.com/blog/2020/Langevin-Monte-Carlo/\n",
        "* https://arxiv.org/pdf/1905.07088.pdf"
      ]
    },
    {
      "cell_type": "code",
      "execution_count": null,
      "metadata": {
        "id": "bgk6KUMID4uN"
      },
      "outputs": [],
      "source": [
        "# Prepare data\n",
        "batch_size = 128\n",
        "\n",
        "# Define a transform to normalize the data and apply basic augmentations\n",
        "transform = transforms.Compose([\n",
        "    transforms.Resize((7, 7)),\n",
        "    transforms.RandomAffine(degrees=5, translate=(0.05, 0.05)),  # slight rotation and translation\n",
        "    transforms.ToTensor(),\n",
        "    transforms.Normalize((0.5,), (0.5,))  # Normalize to [-1, 1]\n",
        "])\n",
        "\n",
        "# Load the MNIST dataset\n",
        "train_dataset = MNIST(root='./data', train=True, download=True, transform=transform)\n",
        "test_dataset = MNIST(root='./data', train=False, download=True, transform=transform)\n",
        "\n",
        "# DataLoader\n",
        "train_loader = DataLoader(train_dataset, batch_size=batch_size, shuffle=True)\n",
        "test_loader = DataLoader(test_dataset, batch_size=batch_size, shuffle=False)\n"
      ]
    },
    {
      "cell_type": "code",
      "execution_count": null,
      "metadata": {
        "id": "N741AJorEl7l"
      },
      "outputs": [],
      "source": [
        "# Define model architecture\n",
        "# (score_network takes input of MNIST image dimension and returns output of\n",
        "# the same size; score network usually follows the structure of U-Net)\n",
        "\n",
        "class EncodeLayer(nn.Module):\n",
        "    \"\"\"Downsample using 2 layers of 3x3 convolutions, ReLU, and 2x2 max pooling.\"\"\"\n",
        "\n",
        "    def __init__(self, in_channels, out_channels):\n",
        "        super().__init__()\n",
        "        self.encode_layer = nn.Sequential(\n",
        "            nn.Conv2d(in_channels, out_channels, kernel_size=3, stride=1, padding=1),\n",
        "            nn.BatchNorm2d(out_channels),\n",
        "            nn.ReLU(),\n",
        "            nn.Conv2d(out_channels, out_channels, kernel_size=3, stride=1, padding=1),\n",
        "            nn.BatchNorm2d(out_channels),\n",
        "            nn.ReLU(),\n",
        "            nn.MaxPool2d(2),\n",
        "        )\n",
        "\n",
        "    def forward(self, x):\n",
        "        return self.encode_layer(x)\n",
        "\n",
        "\n",
        "class DecodeLayer(nn.Module):\n",
        "    \"\"\"Upsample using 2x2 ConvTranspose2d and 2 layers of 3x3 convolutions with ReLU.\n",
        "    Forward method concatenates upsampled data with downsampled data corresponding\n",
        "    to the same layer. See https://github.com/milesial/Pytorch-UNet for details.\n",
        "    \"\"\"\n",
        "\n",
        "    def __init__(self, in_channels, out_channels):\n",
        "        super().__init__()\n",
        "        self.upsample = nn.ConvTranspose2d(\n",
        "            in_channels, in_channels // 2, kernel_size=2, stride=2\n",
        "        )\n",
        "        self.decode_layer = nn.Sequential(\n",
        "            nn.Conv2d(in_channels, out_channels, kernel_size=3, stride=1, padding=1),\n",
        "            nn.BatchNorm2d(out_channels),\n",
        "            nn.ReLU(),\n",
        "            nn.Conv2d(out_channels, out_channels, kernel_size=3, stride=1, padding=1),\n",
        "            nn.BatchNorm2d(out_channels),\n",
        "            nn.ReLU(),\n",
        "        )\n",
        "\n",
        "    def forward(self, x, skip):\n",
        "        x = self.upsample(x)\n",
        "        height_diff = skip.size()[2] - x.size()[2]\n",
        "        width_diff = skip.size()[3] - x.size()[3]\n",
        "\n",
        "        pad = [\n",
        "            width_diff // 2, width_diff - width_diff // 2, # Pad last dimension (width)\n",
        "            height_diff // 2, height_diff - height_diff // 2, # Pad second-to-last dimension (height)\n",
        "        ]\n",
        "        x = F.pad(x, pad)\n",
        "        x = torch.cat([x, skip], dim=1)\n",
        "        return self.decode_layer(x)\n",
        "\n",
        "\n",
        "class scoreNet28x28(nn.Module):\n",
        "    \"\"\"Full version for 28x28 images.\"\"\"\n",
        "\n",
        "    def __init__(self, n_channels):\n",
        "        super().__init__()\n",
        "\n",
        "        # Encode (downsample)\n",
        "        self.encode_1 = EncodeLayer(n_channels, 64)\n",
        "        self.encode_2 = EncodeLayer(64, 128)\n",
        "        self.encode_3 = EncodeLayer(128, 256)\n",
        "        self.encode_last = nn.Sequential(\n",
        "            nn.Conv2d(256, 512, kernel_size=3, stride=1, padding=1),\n",
        "            nn.ReLU(),\n",
        "            nn.Conv2d(512, 512, kernel_size=3, stride=1, padding=1),\n",
        "            nn.ReLU(),\n",
        "        )\n",
        "\n",
        "        # Decode (upsample)\n",
        "        self.decode_1 = DecodeLayer(512, 256)\n",
        "        self.decode_2 = DecodeLayer(256, 128)\n",
        "        self.decode_3 = DecodeLayer(128, 64)\n",
        "        self.decode_last = nn.ConvTranspose2d(\n",
        "            64, n_channels, kernel_size=2, stride=2\n",
        "        )\n",
        "\n",
        "    def forward(self, x):\n",
        "        x1 = self.encode_1(x)\n",
        "        x2 = self.encode_2(x1)\n",
        "        x3 = self.encode_3(x2)\n",
        "        x4 = self.encode_last(x3)\n",
        "        x5 = self.decode_1(x4, skip=x3)\n",
        "        x6 = self.decode_2(x5, skip=x2)\n",
        "        x7 = self.decode_3(x6, skip=x1)\n",
        "        outputs = self.decode_last(x7)\n",
        "        return outputs\n",
        "\n",
        "\n",
        "class scoreNet7x7(nn.Module):\n",
        "    \"\"\"Paired-down version for 7x7 images.\"\"\"\n",
        "\n",
        "    def __init__(self, n_channels):\n",
        "        super().__init__()\n",
        "\n",
        "        # Encode (downsample)\n",
        "        self.encode_1 = EncodeLayer(n_channels, 64)\n",
        "        self.encode_2 = EncodeLayer(64, 128)\n",
        "        self.encode_last = nn.Sequential(\n",
        "            nn.Conv2d(128, 256, kernel_size=3, stride=1, padding=1),\n",
        "            nn.ReLU(),\n",
        "            nn.Conv2d(256, 256, kernel_size=3, stride=1, padding=1),\n",
        "            nn.ReLU(),\n",
        "        )\n",
        "\n",
        "        # Decode (upsample)\n",
        "        self.decode_1 = DecodeLayer(256, 128)\n",
        "        self.decode_2 = DecodeLayer(128, 64)\n",
        "        self.decode_last = nn.ConvTranspose2d(\n",
        "            64, n_channels, kernel_size=5, stride=2, padding=1\n",
        "        )\n",
        "\n",
        "    def forward(self, x):\n",
        "        x1 = self.encode_1(x)\n",
        "        x2 = self.encode_2(x1)\n",
        "        x3 = self.encode_last(x2)\n",
        "        x4 = self.decode_1(x3, skip=x2)\n",
        "        x5 = self.decode_2(x4, skip=x1)\n",
        "        outputs = self.decode_last(x5)\n",
        "        return outputs"
      ]
    },
    {
      "cell_type": "code",
      "execution_count": null,
      "metadata": {
        "id": "g7tjII4rEopT"
      },
      "outputs": [],
      "source": [
        "# Implement sliced score matching function\n",
        "def sample_pv(batch_size: int, channels: int, height: int, width: int) -> np.array:\n",
        "    \"\"\"Sample minibatch of projection directions {v1, v2, ..., vn} from pv(v),\n",
        "    where pv(v) is uniform over all unit directions.\n",
        "    \"\"\"\n",
        "    vectors = torch.randn((batch_size, channels*height*width))\n",
        "    unit_vectors = vectors / torch.linalg.vector_norm(vectors, ord=2, dim=1, keepdim=True)\n",
        "    return unit_vectors.reshape(batch_size, channels, height, width)\n",
        "\n",
        "\n",
        "def calc_loss(model, data):\n",
        "    \"\"\"Calculate sliced score matching using the following algorithm:\n",
        "\n",
        "    For given minibatch of datapoints:\n",
        "        1. Sample minibatch of projection directions\n",
        "        2. Estimate sliced score matching loss using empirical mean\n",
        "    \"\"\"\n",
        "    batch_size = data.shape[0]\n",
        "    model_output = model(data)\n",
        "    unit_vecs = sample_pv(\n",
        "        batch_size, data.shape[1], data.shape[2], data.shape[3]\n",
        "    )\n",
        "    jvp = torch.autograd.functional.jvp(model, data, unit_vecs)[1].reshape(batch_size, -1)\n",
        "    total_loss = 0\n",
        "    for i in range(batch_size):\n",
        "        vi_T = unit_vecs[i, ...].view(1, -1) # Should have shape (1, 784)\n",
        "        total_loss = (\n",
        "            total_loss\n",
        "            +  torch.matmul(vi_T, jvp[i])\n",
        "            + (0.5)*torch.square(torch.matmul(vi_T, model_output[i, ...].view(-1)))\n",
        "        )\n",
        "    return (total_loss / batch_size)\n"
      ]
    },
    {
      "cell_type": "code",
      "source": [
        "# Create model\n",
        "in_channels = 1\n",
        "model = scoreNet7x7(in_channels)\n",
        "opt = torch.optim.Adam(model.parameters(), lr=3e-4)"
      ],
      "metadata": {
        "id": "yFEzr4Jq4-_t"
      },
      "execution_count": null,
      "outputs": []
    },
    {
      "cell_type": "code",
      "execution_count": null,
      "metadata": {
        "id": "VWJFtLB7Eqz9"
      },
      "outputs": [],
      "source": [
        "# Training\n",
        "n_epochs = 40\n",
        "lowest_abs_loss = None\n",
        "\n",
        "model.train()\n",
        "t0 = time.time()\n",
        "for i_epoch in range(n_epochs):\n",
        "    total_loss = 0\n",
        "    for data, _ in train_loader:\n",
        "        opt.zero_grad()\n",
        "\n",
        "        # training step\n",
        "        loss = calc_loss(model, data)\n",
        "        loss.backward()\n",
        "        opt.step()\n",
        "\n",
        "        # running stats\n",
        "        total_loss += loss.detach().item() * data.shape[0]\n",
        "\n",
        "    # print the training stats\n",
        "    if i_epoch % 1 == 0:\n",
        "        print(f\"Epoch {i_epoch} (time: {round(time.time() - t0, 0)}s): \\\n",
        "                loss: {round(total_loss / len(data), 3)}\")\n",
        "\n",
        "    # save model if improving\n",
        "    epoch_loss = abs(total_loss / len(data))\n",
        "    if (lowest_abs_loss is None) or (epoch_loss < lowest_abs_loss):\n",
        "        lowest_abs_loss = epoch_loss\n",
        "        torch.save(\n",
        "            model.state_dict(),\n",
        "            os.path.join(models_dir, f'FisherScoremodel_epoch{i_epoch}.pt')\n",
        "        )\n",
        "        print(f'Saved model for epoch {i_epoch}')"
      ]
    },
    {
      "cell_type": "code",
      "source": [
        "# Load trained model\n",
        "load_model_name = \"FisherScoremodel_epoch21\"\n",
        "load_model_path = os.path.join(models_dir, f\"{load_model_name}.pt\")\n",
        "\n",
        "if torch.cuda.is_available():\n",
        "    model.load_state_dict(torch.load(load_model_path))\n",
        "else:\n",
        "    model.load_state_dict(\n",
        "        torch.load(load_model_path, map_location=torch.device(\"cpu\"))\n",
        "    )"
      ],
      "metadata": {
        "id": "MskKa0qY4xEW"
      },
      "execution_count": null,
      "outputs": []
    },
    {
      "cell_type": "code",
      "execution_count": null,
      "metadata": {
        "id": "Sg1YVhSDEsay"
      },
      "outputs": [],
      "source": [
        "# Sample images from trained score model\n",
        "def normalize_vec(vec):\n",
        "    \"\"\"Normalizes vector to range [-1, 1] to match MNIST images.\"\"\"\n",
        "    return 2 * (vec - vec.min()) / (vec.max() - vec.min()) - 1\n",
        "\n",
        "# Using Unadjusted Langevin Sampling\n",
        "burn_in = 20000\n",
        "n_samples = 9\n",
        "eta = 1e-8\n",
        "\n",
        "# Get dimensions of image\n",
        "ex, _ = next(iter(train_loader))\n",
        "ex = ex[0].unsqueeze(0)\n",
        "ndim = ex.shape[-1] * ex.shape[-2] # height x width\n",
        "samples = []\n",
        "\n",
        "model.eval()\n",
        "with torch.no_grad():\n",
        "    for i in range(n_samples):\n",
        "\n",
        "        current_sample = normalize_vec(torch.randn_like(ex))\n",
        "\n",
        "        for j in range(burn_in):\n",
        "            next_sample = (\n",
        "                current_sample\n",
        "                - eta * model(current_sample)\n",
        "                + np.sqrt(2*eta) * torch.randn_like(current_sample)\n",
        "            )\n",
        "            current_sample = next_sample\n",
        "\n",
        "        # save samples\n",
        "        samples.append(current_sample.view(ndim).detach().numpy())\n"
      ]
    },
    {
      "cell_type": "code",
      "source": [
        "# Plot generated samples\n",
        "fig, axes = plt.subplots(3, 3, figsize=(6, 6))\n",
        "for i in range(3):\n",
        "    for j in range(3):\n",
        "        axes[i, j].imshow(samples[i*3 + j].reshape(7, 7), cmap='gray')\n",
        "\n",
        "# still looks like random noise...not sure what's going wrong"
      ],
      "metadata": {
        "colab": {
          "base_uri": "https://localhost:8080/",
          "height": 522
        },
        "id": "ZLO5LsoRI3PO",
        "outputId": "15d69467-2808-48ab-ab7b-cd23f235bff0"
      },
      "execution_count": null,
      "outputs": [
        {
          "output_type": "display_data",
          "data": {
            "text/plain": [
              "<Figure size 600x600 with 9 Axes>"
            ],
            "image/png": "[encoded data removed]"
          },
          "metadata": {}
        }
      ]
    }
  ],
  "metadata": {
    "colab": {
      "provenance": [],
      "machine_shape": "hm"
    },
    "kernelspec": {
      "display_name": "Python 3",
      "name": "python3"
    },
    "language_info": {
      "name": "python"
    }
  },
  "nbformat": 4,
  "nbformat_minor": 0
}