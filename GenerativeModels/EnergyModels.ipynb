{
  "cells": [
    {
      "cell_type": "markdown",
      "metadata": {
        "id": "_y3XpY_hw1hb"
      },
      "source": [
        "# Energy-based Models\n",
        "\n",
        "**Author**: Chris Oswald\n",
        "\n",
        "**Course**: CS676/ECE689 Advanced Topics in Deep Learning (Spring 2024)\n"
      ]
    },
    {
      "cell_type": "markdown",
      "metadata": {
        "id": "55BzFP065n9y"
      },
      "source": [
        "## Question 4: Energy-based Models\n",
        "\n",
        "- make a simple energy-based model (exp^-NN).\n",
        "- train and apply any of the Monte Carlo samplings methods on USPS."
      ]
    },
    {
      "cell_type": "markdown",
      "metadata": {
        "id": "vc1YM4Ah5n9y"
      },
      "source": [
        "References:\n",
        "\n",
        "- https://uvadlc-notebooks.readthedocs.io/en/latest/tutorial_notebooks/tutorial8/Deep_Energy_Models.html\n",
        "- https://github.com/phlippe/uvadlc_notebooks/tree/master\n",
        "- https://pytorch.org/tutorials/beginner/blitz/cifar10_tutorial.html"
      ]
    },
    {
      "cell_type": "markdown",
      "source": [
        "## Set-up"
      ],
      "metadata": {
        "id": "Cba-xUs4IJj_"
      }
    },
    {
      "cell_type": "code",
      "execution_count": null,
      "metadata": {
        "colab": {
          "base_uri": "https://localhost:8080/"
        },
        "id": "GCIgUfb3YCHm",
        "outputId": "3ed44d9d-ba72-478d-de7c-fde97bd5682d"
      },
      "outputs": [
        {
          "output_type": "stream",
          "name": "stdout",
          "text": [
            "Mounted at /content/drive\n"
          ]
        }
      ],
      "source": [
        "from google.colab import drive\n",
        "drive.mount('/content/drive')"
      ]
    },
    {
      "cell_type": "code",
      "execution_count": null,
      "metadata": {
        "id": "bSLBTZOww1hh"
      },
      "outputs": [],
      "source": [
        "device = torch.device('cuda' if torch.cuda.is_available() else 'cpu')"
      ]
    },
    {
      "cell_type": "code",
      "source": [
        "models_dir = \"./drive/MyDrive/Colab Notebooks/Models\"\n",
        "os.makedirs(models_dir, exist_ok=True)"
      ],
      "metadata": {
        "id": "VRkI7f9aKCNA"
      },
      "execution_count": null,
      "outputs": []
    },
    {
      "cell_type": "markdown",
      "metadata": {
        "id": "pbqTTFeww1hf"
      },
      "source": [
        "## Imports and Datasets"
      ]
    },
    {
      "cell_type": "code",
      "execution_count": null,
      "metadata": {
        "id": "3lEjedRvw1hf"
      },
      "outputs": [],
      "source": [
        "# Import packages\n",
        "import os\n",
        "import numpy as np\n",
        "import matplotlib.pyplot as plt\n",
        "import pandas as pd\n",
        "import seaborn as sns\n",
        "\n",
        "import torch\n",
        "import torch.optim as optim\n",
        "import torch.nn as nn\n",
        "import torch.nn.functional as F\n",
        "from torch.utils.data import DataLoader\n",
        "import torchvision\n",
        "from torch.distributions.multivariate_normal import MultivariateNormal\n",
        "\n",
        "import normflows as nf\n",
        "\n",
        "import copy\n",
        "\n",
        "%matplotlib inline"
      ]
    },
    {
      "cell_type": "code",
      "execution_count": null,
      "metadata": {
        "colab": {
          "base_uri": "https://localhost:8080/"
        },
        "id": "Wddi9-NxFpg2",
        "outputId": "4c11b6cb-a5c6-4b86-d778-e120ca967690"
      },
      "outputs": [
        {
          "name": "stdout",
          "output_type": "stream",
          "text": [
            "Downloading https://www.csie.ntu.edu.tw/~cjlin/libsvmtools/datasets/multiclass/usps.bz2 to USPS/usps.bz2\n"
          ]
        },
        {
          "name": "stderr",
          "output_type": "stream",
          "text": [
            "100%|██████████| 6579383/6579383 [00:01<00:00, 3464054.87it/s]\n"
          ]
        }
      ],
      "source": [
        "# Import USPS data (reshaped to 16x16 and normalized to range [-1, 1])\n",
        "ds_USPS  = torchvision.datasets.USPS(\n",
        "    'USPS',\n",
        "    train=True,\n",
        "    download=True,\n",
        "    transform=torchvision.transforms.Compose([\n",
        "        torchvision.transforms.Resize(16),\n",
        "        torchvision.transforms.ToTensor(),\n",
        "        torchvision.transforms.Normalize((0.5, ), (0.5, )), # Scale to [-1, 1]\n",
        "    ])\n",
        ")"
      ]
    },
    {
      "cell_type": "code",
      "execution_count": null,
      "metadata": {
        "colab": {
          "base_uri": "https://localhost:8080/"
        },
        "id": "DdGgKpCrFpWL",
        "outputId": "a75244fe-690b-4676-ba92-128f6f0c2bfe"
      },
      "outputs": [
        {
          "name": "stdout",
          "output_type": "stream",
          "text": [
            "Cloning into 'uvadlc_notebooks'...\n",
            "remote: Enumerating objects: 4502, done.\u001b[K\n",
            "remote: Counting objects: 100% (513/513), done.\u001b[K\n",
            "remote: Compressing objects: 100% (157/157), done.\u001b[K\n",
            "remote: Total 4502 (delta 390), reused 437 (delta 356), pack-reused 3989\u001b[K\n",
            "Receiving objects: 100% (4502/4502), 183.25 MiB | 29.56 MiB/s, done.\n",
            "Resolving deltas: 100% (2976/2976), done.\n",
            "Attempting to import Deep_Energy_Models.Sampler using nbimporter\n",
            "Collecting nbimporter\n",
            "  Downloading nbimporter-0.3.4-py3-none-any.whl (4.9 kB)\n",
            "Installing collected packages: nbimporter\n",
            "Successfully installed nbimporter-0.3.4\n",
            "Attempting to import Deep_Energy_Models.Sampler using ipynb.fs.defs\n",
            "Collecting ipynb\n",
            "  Downloading ipynb-0.5.1-py3-none-any.whl (6.9 kB)\n",
            "Installing collected packages: ipynb\n",
            "Successfully installed ipynb-0.5.1\n",
            "Attempting to import Deep_Energy_Models.Sampler using import_ipynb\n",
            "Collecting import_ipynb\n",
            "  Downloading import_ipynb-0.1.4-py3-none-any.whl (4.1 kB)\n",
            "Requirement already satisfied: IPython in /usr/local/lib/python3.10/dist-packages (from import_ipynb) (7.34.0)\n",
            "Requirement already satisfied: nbformat in /usr/local/lib/python3.10/dist-packages (from import_ipynb) (5.9.2)\n",
            "Requirement already satisfied: setuptools>=18.5 in /usr/local/lib/python3.10/dist-packages (from IPython->import_ipynb) (67.7.2)\n",
            "Collecting jedi>=0.16 (from IPython->import_ipynb)\n",
            "  Downloading jedi-0.19.1-py2.py3-none-any.whl (1.6 MB)\n",
            "\u001b[2K     \u001b[90m━━━━━━━━━━━━━━━━━━━━━━━━━━━━━━━━━━━━━━━━\u001b[0m \u001b[32m1.6/1.6 MB\u001b[0m \u001b[31m13.3 MB/s\u001b[0m eta \u001b[36m0:00:00\u001b[0m\n",
            "\u001b[?25hRequirement already satisfied: decorator in /usr/local/lib/python3.10/dist-packages (from IPython->import_ipynb) (4.4.2)\n",
            "Requirement already satisfied: pickleshare in /usr/local/lib/python3.10/dist-packages (from IPython->import_ipynb) (0.7.5)\n",
            "Requirement already satisfied: traitlets>=4.2 in /usr/local/lib/python3.10/dist-packages (from IPython->import_ipynb) (5.7.1)\n",
            "Requirement already satisfied: prompt-toolkit!=3.0.0,!=3.0.1,<3.1.0,>=2.0.0 in /usr/local/lib/python3.10/dist-packages (from IPython->import_ipynb) (3.0.43)\n",
            "Requirement already satisfied: pygments in /usr/local/lib/python3.10/dist-packages (from IPython->import_ipynb) (2.16.1)\n",
            "Requirement already satisfied: backcall in /usr/local/lib/python3.10/dist-packages (from IPython->import_ipynb) (0.2.0)\n",
            "Requirement already satisfied: matplotlib-inline in /usr/local/lib/python3.10/dist-packages (from IPython->import_ipynb) (0.1.6)\n",
            "Requirement already satisfied: pexpect>4.3 in /usr/local/lib/python3.10/dist-packages (from IPython->import_ipynb) (4.9.0)\n",
            "Requirement already satisfied: fastjsonschema in /usr/local/lib/python3.10/dist-packages (from nbformat->import_ipynb) (2.19.1)\n",
            "Requirement already satisfied: jsonschema>=2.6 in /usr/local/lib/python3.10/dist-packages (from nbformat->import_ipynb) (4.19.2)\n",
            "Requirement already satisfied: jupyter-core in /usr/local/lib/python3.10/dist-packages (from nbformat->import_ipynb) (5.7.1)\n",
            "Requirement already satisfied: parso<0.9.0,>=0.8.3 in /usr/local/lib/python3.10/dist-packages (from jedi>=0.16->IPython->import_ipynb) (0.8.3)\n",
            "Requirement already satisfied: attrs>=22.2.0 in /usr/local/lib/python3.10/dist-packages (from jsonschema>=2.6->nbformat->import_ipynb) (23.2.0)\n",
            "Requirement already satisfied: jsonschema-specifications>=2023.03.6 in /usr/local/lib/python3.10/dist-packages (from jsonschema>=2.6->nbformat->import_ipynb) (2023.12.1)\n",
            "Requirement already satisfied: referencing>=0.28.4 in /usr/local/lib/python3.10/dist-packages (from jsonschema>=2.6->nbformat->import_ipynb) (0.33.0)\n",
            "Requirement already satisfied: rpds-py>=0.7.1 in /usr/local/lib/python3.10/dist-packages (from jsonschema>=2.6->nbformat->import_ipynb) (0.17.1)\n",
            "Requirement already satisfied: ptyprocess>=0.5 in /usr/local/lib/python3.10/dist-packages (from pexpect>4.3->IPython->import_ipynb) (0.7.0)\n",
            "Requirement already satisfied: wcwidth in /usr/local/lib/python3.10/dist-packages (from prompt-toolkit!=3.0.0,!=3.0.1,<3.1.0,>=2.0.0->IPython->import_ipynb) (0.2.13)\n",
            "Requirement already satisfied: platformdirs>=2.5 in /usr/local/lib/python3.10/dist-packages (from jupyter-core->nbformat->import_ipynb) (4.2.0)\n",
            "Installing collected packages: jedi, import_ipynb\n",
            "Successfully installed import_ipynb-0.1.4 jedi-0.19.1\n",
            "All attempts unsuccessful...using static source code.\n"
          ]
        }
      ],
      "source": [
        "# Import Sampler class from https://github.com/phlippe/uvadlc_notebooks/tree/master\n",
        "# Available under MIT license, Copyright (c) 2020 Phillip Lippe\n",
        "\n",
        "# Importing class directly from Jupyter notebook is no longer working consistently\n",
        "# (probably an issue on my end though)\n",
        "try:\n",
        "    os.chdir('/content')\n",
        "    !git clone https://github.com/phlippe/uvadlc_notebooks.git\n",
        "    os.chdir('/content/uvadlc_notebooks/docs/tutorial_notebooks/tutorial8')\n",
        "\n",
        "    print(f'Attempting to import Deep_Energy_Models.Sampler using nbimporter')\n",
        "    !pip install nbimporter\n",
        "    from Deep_Energy_Models import Sampler\n",
        "\n",
        "except ImportError:\n",
        "\n",
        "    try:\n",
        "        print(f'Attempting to import Deep_Energy_Models.Sampler using ipynb.fs.defs')\n",
        "        !pip install ipynb\n",
        "        from ipynb.fs.defs.Deep_Energy_Models import Sampler\n",
        "\n",
        "    except SyntaxError:\n",
        "\n",
        "        try:\n",
        "            print(f'Attempting to import Deep_Energy_Models.Sampler using import_ipynb')\n",
        "            !pip install import_ipynb\n",
        "            from Deep_Energy_Models import Sampler\n",
        "\n",
        "        except:\n",
        "            print('All attempts unsuccessful...using static source code.')\n",
        "\n",
        "            \"\"\"\n",
        "            Original source code from\n",
        "            https://github.com/phlippe/uvadlc_notebooks/tree/master\n",
        "            MIT license, Copyright (c) 2020 Phillip Lippe\n",
        "            \"\"\"\n",
        "            import random\n",
        "\n",
        "            class Sampler:\n",
        "\n",
        "                def __init__(self, model, img_shape, sample_size, max_len=8192):\n",
        "                    \"\"\"\n",
        "                    Inputs:\n",
        "                        model - Neural network to use for modeling E_theta\n",
        "                        img_shape - Shape of the images to model\n",
        "                        sample_size - Batch size of the samples\n",
        "                        max_len - Maximum number of data points to keep in the buffer\n",
        "                    \"\"\"\n",
        "                    super().__init__()\n",
        "                    self.model = model\n",
        "                    self.img_shape = img_shape\n",
        "                    self.sample_size = sample_size\n",
        "                    self.max_len = max_len\n",
        "                    self.examples = [(torch.rand((1,)+img_shape)*2-1) for _ in range(self.sample_size)]\n",
        "\n",
        "                def sample_new_exmps(self, steps=60, step_size=10):\n",
        "                    \"\"\"\n",
        "                    Function for getting a new batch of \"fake\" images.\n",
        "                    Inputs:\n",
        "                        steps - Number of iterations in the MCMC algorithm\n",
        "                        step_size - Learning rate nu in the algorithm above\n",
        "                    \"\"\"\n",
        "                    # Choose 95% of the batch from the buffer, 5% generate from scratch\n",
        "                    n_new = np.random.binomial(self.sample_size, 0.05)\n",
        "                    rand_imgs = torch.rand((n_new,) + self.img_shape) * 2 - 1\n",
        "                    old_imgs = torch.cat(random.choices(self.examples, k=self.sample_size-n_new), dim=0)\n",
        "                    inp_imgs = torch.cat([rand_imgs, old_imgs], dim=0).detach().to(device)\n",
        "\n",
        "                    # Perform MCMC sampling\n",
        "                    inp_imgs = Sampler.generate_samples(self.model, inp_imgs, steps=steps, step_size=step_size)\n",
        "\n",
        "                    # Add new images to the buffer and remove old ones if needed\n",
        "                    self.examples = list(inp_imgs.to(torch.device(\"cpu\")).chunk(self.sample_size, dim=0)) + self.examples\n",
        "                    self.examples = self.examples[:self.max_len]\n",
        "                    return inp_imgs\n",
        "\n",
        "                @staticmethod\n",
        "                def generate_samples(model, inp_imgs, steps=60, step_size=10, return_img_per_step=False):\n",
        "                    \"\"\"\n",
        "                    Function for sampling images for a given model.\n",
        "                    Inputs:\n",
        "                        model - Neural network to use for modeling E_theta\n",
        "                        inp_imgs - Images to start from for sampling. If you want to generate new images, enter noise between -1 and 1.\n",
        "                        steps - Number of iterations in the MCMC algorithm.\n",
        "                        step_size - Learning rate nu in the algorithm above\n",
        "                        return_img_per_step - If True, we return the sample at every iteration of the MCMC\n",
        "                    \"\"\"\n",
        "                    # Before MCMC: set model parameters to \"required_grad=False\"\n",
        "                    # because we are only interested in the gradients of the input.\n",
        "                    is_training = model.training\n",
        "                    model.eval()\n",
        "                    for p in model.parameters():\n",
        "                        p.requires_grad = False\n",
        "                    inp_imgs.requires_grad = True\n",
        "\n",
        "                    # Enable gradient calculation if not already the case\n",
        "                    had_gradients_enabled = torch.is_grad_enabled()\n",
        "                    torch.set_grad_enabled(True)\n",
        "\n",
        "                    # We use a buffer tensor in which we generate noise each loop iteration.\n",
        "                    # More efficient than creating a new tensor every iteration.\n",
        "                    noise = torch.randn(inp_imgs.shape, device=inp_imgs.device)\n",
        "\n",
        "                    # List for storing generations at each step (for later analysis)\n",
        "                    imgs_per_step = []\n",
        "\n",
        "                    # Loop over K (steps)\n",
        "                    for _ in range(steps):\n",
        "                        # Part 1: Add noise to the input.\n",
        "                        noise.normal_(0, 0.005)\n",
        "                        inp_imgs.data.add_(noise.data)\n",
        "                        inp_imgs.data.clamp_(min=-1.0, max=1.0)\n",
        "\n",
        "                        # Part 2: calculate gradients for the current input.\n",
        "                        out_imgs = -model(inp_imgs)\n",
        "                        out_imgs.sum().backward()\n",
        "                        inp_imgs.grad.data.clamp_(-0.03, 0.03) # For stabilizing and preventing too high gradients\n",
        "\n",
        "                        # Apply gradients to our current samples\n",
        "                        inp_imgs.data.add_(-step_size * inp_imgs.grad.data)\n",
        "                        inp_imgs.grad.detach_()\n",
        "                        inp_imgs.grad.zero_()\n",
        "                        inp_imgs.data.clamp_(min=-1.0, max=1.0)\n",
        "\n",
        "                        if return_img_per_step:\n",
        "                            imgs_per_step.append(inp_imgs.clone().detach())\n",
        "\n",
        "                    # Reactivate gradients for parameters for training\n",
        "                    for p in model.parameters():\n",
        "                        p.requires_grad = True\n",
        "                    model.train(is_training)\n",
        "\n",
        "                    # Reset gradient calculation to setting before this function\n",
        "                    torch.set_grad_enabled(had_gradients_enabled)\n",
        "\n",
        "                    if return_img_per_step:\n",
        "                        return torch.stack(imgs_per_step, dim=0)\n",
        "                    else:\n",
        "                        return inp_imgs\n"
      ]
    },
    {
      "cell_type": "code",
      "execution_count": null,
      "metadata": {
        "id": "BFLGwB6WFpds"
      },
      "outputs": [],
      "source": [
        "# Specify convolutional neural network model architecture\n",
        "class SwishAF(nn.Module):\n",
        "    \"\"\"Swish activation function.\"\"\"\n",
        "\n",
        "    def forward(self, x):\n",
        "        return x * torch.sigmoid(x)\n",
        "\n",
        "\n",
        "class CNN(nn.Module):\n",
        "    \"\"\"\n",
        "    Based on: https://pytorch.org/tutorials/beginner/blitz/cifar10_tutorial.html\n",
        "    and https://uvadlc-notebooks.readthedocs.io/en/latest/tutorial_notebooks/tutorial8/Deep_Energy_Models.html\n",
        "    \"\"\"\n",
        "\n",
        "    def __init__(self, input_channels: int, hidden_channels: int, out_dim: int) -> None:\n",
        "        super().__init__()\n",
        "\n",
        "        hidden_chan_1 = hidden_channels // 2\n",
        "        hidden_chan_2 = hidden_channels\n",
        "        hidden_chan_3 = hidden_channels * 2\n",
        "\n",
        "        self.cnn_seq = nn.Sequential(\n",
        "            nn.Conv2d(input_channels, hidden_chan_1, kernel_size=5, padding=2), # [16x16]\n",
        "            SwishAF(),\n",
        "            nn.Conv2d(hidden_chan_1, hidden_chan_1, kernel_size=5, padding=2), # [16x16]\n",
        "            SwishAF(),\n",
        "            nn.Conv2d(hidden_chan_1, hidden_chan_2, kernel_size=5, padding=2), # [16x16]\n",
        "            SwishAF(),\n",
        "            nn.Conv2d(hidden_chan_2, hidden_chan_2, kernel_size=5, padding=0), # [12x12]\n",
        "            SwishAF(),\n",
        "            nn.Conv2d(hidden_chan_2, hidden_chan_2, kernel_size=5, padding=0), # [8x8]\n",
        "            SwishAF(),\n",
        "            nn.Conv2d(hidden_chan_2, hidden_chan_3, kernel_size=5, padding=0), # [4x4]\n",
        "            SwishAF(),\n",
        "            nn.Conv2d(hidden_chan_3, hidden_chan_3, kernel_size=3, padding=0), # [2x2]\n",
        "            SwishAF(),\n",
        "            nn.Flatten(),\n",
        "            nn.Linear(hidden_chan_3 * 2 * 2, hidden_chan_3),\n",
        "            SwishAF(),\n",
        "            nn.Linear(hidden_chan_3, out_dim),\n",
        "        )\n",
        "\n",
        "    def forward(self, x: torch.Tensor):\n",
        "        output = self.cnn_seq(x).squeeze(dim=-1)\n",
        "        return output"
      ]
    },
    {
      "cell_type": "code",
      "execution_count": null,
      "metadata": {
        "id": "FBCOPywTej5r"
      },
      "outputs": [],
      "source": [
        "# Specify energy model architecture\n",
        "class EnergyModel():\n",
        "    \"\"\"\n",
        "    Based on: https://uvadlc-notebooks.readthedocs.io/en/latest/tutorial_notebooks/tutorial8/Deep_Energy_Models.html\n",
        "    (Available under MIT license, Copyright (c) 2020 Phillip Lippe)\n",
        "    \"\"\"\n",
        "\n",
        "    def __init__(self, img_shape, batch_size, lr=1e-4, **CNN_kwargs):\n",
        "        super().__init__()\n",
        "        self.cnn = CNN(**CNN_kwargs)\n",
        "        self.sampler = Sampler(self.cnn, img_shape, batch_size)\n",
        "        self.example_input_array = torch.zeros(1, *img_shape)\n",
        "\n",
        "    def forward(self, x):\n",
        "        z = self.cnn(x)\n",
        "        return z\n",
        "\n",
        "    def compute_loss(self, real_imgs):\n",
        "        small_noise = torch.randn_like(real_imgs) * 0.005\n",
        "        real_imgs.add_(small_noise).clamp_(min=-1.0, max=1.0)\n",
        "\n",
        "        # Sample using MCMC sampler\n",
        "        fake_imgs = self.sampler.sample_new_exmps(steps=40, step_size=10) #USPS images are 16x16 compared to 28x28 MNIST\n",
        "\n",
        "        # Calculated predicted energy score\n",
        "        inp_imgs = torch.cat([real_imgs, fake_imgs], dim=0)\n",
        "        real_out, fake_out = self.cnn(inp_imgs).chunk(2, dim=0)\n",
        "\n",
        "        # Calculate loss\n",
        "        # regularized_loss = 0.1 * (real_out ** 2 + fake_out ** 2).mean()\n",
        "        contrastive_div_loss = fake_out.mean() - real_out.mean()\n",
        "        # loss = regularized_loss + contrastive_div_loss\n",
        "        return contrastive_div_loss\n",
        "\n",
        "    def save(self, path):\n",
        "        torch.save(self.cnn.state_dict(), path)\n",
        "\n",
        "    def load(self, path):\n",
        "        self.cnn.load_state_dict(torch.load(path))"
      ]
    },
    {
      "cell_type": "code",
      "execution_count": null,
      "metadata": {
        "id": "8Yi2tYwseaNx"
      },
      "outputs": [],
      "source": [
        "# Create energy model\n",
        "img_shape = tuple(ds_USPS[0][0].shape)\n",
        "batch_size = 64\n",
        "lr = 1e-4\n",
        "\n",
        "model = EnergyModel(\n",
        "    img_shape=img_shape,\n",
        "    batch_size=batch_size,\n",
        "    lr=lr,\n",
        "    input_channels=img_shape[0],\n",
        "    hidden_channels=32,\n",
        "    out_dim=1\n",
        ")\n",
        "optimizer = optim.Adam(model.cnn.parameters(), lr=lr)"
      ]
    },
    {
      "cell_type": "code",
      "execution_count": null,
      "metadata": {
        "colab": {
          "base_uri": "https://localhost:8080/"
        },
        "id": "-UlKoXJNza7o",
        "outputId": "033cbb68-9dc6-4e7d-8186-1c4dec5618e4"
      },
      "outputs": [
        {
          "name": "stdout",
          "output_type": "stream",
          "text": [
            "Loss: -0.003738 [Epoch 1/20]\n",
            "Saved model for epoch 1\n",
            "Loss: -0.000868 [Epoch 2/20]\n",
            "Saved model for epoch 2\n",
            "Loss: 0.000140 [Epoch 3/20]\n",
            "Saved model for epoch 3\n",
            "Loss: 0.000124 [Epoch 4/20]\n",
            "Saved model for epoch 4\n",
            "Loss: -0.000141 [Epoch 5/20]\n",
            "Loss: -0.000370 [Epoch 6/20]\n",
            "Loss: -0.000151 [Epoch 7/20]\n",
            "Loss: 0.000059 [Epoch 8/20]\n",
            "Saved model for epoch 8\n",
            "Loss: -0.000017 [Epoch 9/20]\n",
            "Saved model for epoch 9\n",
            "Loss: 0.000259 [Epoch 10/20]\n",
            "Loss: -0.000383 [Epoch 11/20]\n",
            "Loss: 0.000125 [Epoch 12/20]\n",
            "Loss: -0.000194 [Epoch 13/20]\n",
            "Loss: -0.000046 [Epoch 14/20]\n",
            "Loss: 0.000307 [Epoch 15/20]\n",
            "Loss: -0.000242 [Epoch 16/20]\n",
            "Loss: 0.000044 [Epoch 17/20]\n",
            "Loss: -0.000119 [Epoch 18/20]\n",
            "Loss: -0.000055 [Epoch 19/20]\n",
            "Loss: 0.000134 [Epoch 20/20]\n"
          ]
        }
      ],
      "source": [
        "# Load/train model\n",
        "load_model = False\n",
        "load_model_name = \"\"\n",
        "load_model_path = os.path.join(models_dir, f\"{load_model_name}.pt\")\n",
        "\n",
        "if load_model:\n",
        "    if torch.cuda.is_available():\n",
        "        model.load_state_dict(torch.load(load_model_path))\n",
        "    else:\n",
        "        model.load_state_dict(\n",
        "            torch.load(load_model_path, map_location=torch.device(\"cpu\"))\n",
        "        )\n",
        "else:\n",
        "    epochs = 20\n",
        "\n",
        "    dl = DataLoader(ds_USPS, batch_size=batch_size, shuffle=True, drop_last=True)\n",
        "    size = len(dl.dataset)\n",
        "\n",
        "    lowest_abs_loss = None # Note that we want abs(loss) to be close to 0 for this model\n",
        "\n",
        "    model.cnn.to(device)\n",
        "    model.cnn.train()\n",
        "    for t in range(epochs):\n",
        "        batch_losses = []\n",
        "        for batch_idx, (real_imgs, _) in enumerate(dl):\n",
        "            real_imgs = real_imgs.to(device)\n",
        "\n",
        "            # Compute loss\n",
        "            loss = model.compute_loss(real_imgs)\n",
        "\n",
        "            if ~(torch.isnan(loss) | torch.isinf(loss)):\n",
        "                optimizer.zero_grad()\n",
        "                loss.backward()\n",
        "                optimizer.step()\n",
        "\n",
        "                # Record training batch loss\n",
        "                loss_val = loss.item()\n",
        "                batch_losses.append(loss_val)\n",
        "\n",
        "        epoch_avg_loss = np.mean(batch_losses)\n",
        "        print(f\"Loss: {epoch_avg_loss:>7f} [Epoch {t+1}/{epochs}]\")\n",
        "\n",
        "        # Save model if improving\n",
        "        if (lowest_abs_loss is None) or (abs(epoch_avg_loss) < lowest_abs_loss):\n",
        "            lowest_abs_loss = abs(epoch_avg_loss)\n",
        "            model.save(os.path.join(models_dir, f'EnergyModel_epoch{t+1}.pt'))\n",
        "            print(f'Saved model for epoch {t+1}')"
      ]
    },
    {
      "cell_type": "code",
      "execution_count": null,
      "metadata": {
        "id": "xgTkUAEJ20YM"
      },
      "outputs": [],
      "source": [
        "# Generate samples\n",
        "model.cnn.eval()\n",
        "n_samples = 1\n",
        "start_imgs = torch.rand((n_samples, ) + img_shape).to(device)\n",
        "start_imgs = start_imgs * 2 - 1 # Normalize to range [-1, 1]\n",
        "torch.set_grad_enabled(True) # Set to True for sampling\n",
        "imgs_per_step = Sampler.generate_samples(\n",
        "    model.cnn,\n",
        "    start_imgs,\n",
        "    steps=100,\n",
        "    step_size=10,\n",
        "    return_img_per_step=True,\n",
        ")"
      ]
    },
    {
      "cell_type": "code",
      "execution_count": null,
      "metadata": {
        "colab": {
          "base_uri": "https://localhost:8080/",
          "height": 447
        },
        "id": "2TOjwwTqO9nd",
        "outputId": "5070e797-87d1-4ad7-8dc9-e26281450057"
      },
      "outputs": [
        {
          "data": {
            "text/plain": [
              "<matplotlib.image.AxesImage at 0x79a99a96e200>"
            ]
          },
          "execution_count": 17,
          "metadata": {},
          "output_type": "execute_result"
        },
        {
          "data": {
            "image/png": "[encoded data removed]",
            "text/plain": [
              "<Figure size 640x480 with 1 Axes>"
            ]
          },
          "metadata": {},
          "output_type": "display_data"
        }
      ],
      "source": [
        "# Generated image\n",
        "plt.imshow(imgs_per_step.squeeze()[-1].detach().to(\"cpu\"))"
      ]
    }
  ],
  "metadata": {
    "colab": {
      "machine_shape": "hm",
      "provenance": []
    },
    "kernelspec": {
      "display_name": "Python 3",
      "name": "python3"
    },
    "language_info": {
      "codemirror_mode": {
        "name": "ipython",
        "version": 3
      },
      "file_extension": ".py",
      "mimetype": "text/x-python",
      "name": "python",
      "nbconvert_exporter": "python",
      "pygments_lexer": "ipython3",
      "version": "3.10.12"
    }
  },
  "nbformat": 4,
  "nbformat_minor": 0
}