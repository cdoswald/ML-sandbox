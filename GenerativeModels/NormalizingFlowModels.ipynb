{
  "cells": [
    {
      "cell_type": "markdown",
      "metadata": {
        "id": "_y3XpY_hw1hb"
      },
      "source": [
        "# Normalizing Flow Models\n",
        "\n",
        "**Author**: Chris Oswald\n",
        "\n",
        "**Course**: CS676/ECE689 Advanced Topics in Deep Learning (Spring 2024)\n"
      ]
    },
    {
      "cell_type": "markdown",
      "metadata": {
        "id": "nCKUlYQ0w1hk"
      },
      "source": [
        "## Question 1: Normalizing Flows\n",
        "\n",
        "- Select a coupling Normalizing Flow and an autoregressive Normalizing Flow (NF).\n",
        "- Apply the NF models to MNIST dataset.\n",
        "- You can resize the MNIST images to 7 × 7 pixels to reduce computational complexity.\n",
        "\n"
      ]
    },
    {
      "cell_type": "markdown",
      "metadata": {
        "id": "Cba-xUs4IJj_"
      },
      "source": [
        "## Set-up"
      ]
    },
    {
      "cell_type": "code",
      "execution_count": null,
      "metadata": {
        "colab": {
          "base_uri": "https://localhost:8080/"
        },
        "id": "GCIgUfb3YCHm",
        "outputId": "3ed44d9d-ba72-478d-de7c-fde97bd5682d"
      },
      "outputs": [
        {
          "name": "stdout",
          "output_type": "stream",
          "text": [
            "Mounted at /content/drive\n"
          ]
        }
      ],
      "source": [
        "from google.colab import drive\n",
        "drive.mount('/content/drive')"
      ]
    },
    {
      "cell_type": "code",
      "execution_count": null,
      "metadata": {
        "id": "bSLBTZOww1hh"
      },
      "outputs": [],
      "source": [
        "device = torch.device('cuda' if torch.cuda.is_available() else 'cpu')"
      ]
    },
    {
      "cell_type": "code",
      "execution_count": null,
      "metadata": {
        "id": "VRkI7f9aKCNA"
      },
      "outputs": [],
      "source": [
        "models_dir = \"./drive/MyDrive/Colab Notebooks/Models\"\n",
        "os.makedirs(models_dir, exist_ok=True)"
      ]
    },
    {
      "cell_type": "markdown",
      "metadata": {
        "id": "pbqTTFeww1hf"
      },
      "source": [
        "## Imports and Datasets"
      ]
    },
    {
      "cell_type": "code",
      "execution_count": null,
      "metadata": {
        "colab": {
          "base_uri": "https://localhost:8080/"
        },
        "id": "HezK0JVunY7U",
        "outputId": "beb13ace-8ab0-48ff-daa4-a0aacf895d15"
      },
      "outputs": [
        {
          "name": "stdout",
          "output_type": "stream",
          "text": [
            "Collecting normflows\n",
            "  Downloading normflows-1.7.3.tar.gz (65 kB)\n",
            "\u001b[?25l     \u001b[90m━━━━━━━━━━━━━━━━━━━━━━━━━━━━━━━━━━━━━━━━\u001b[0m \u001b[32m0.0/65.3 kB\u001b[0m \u001b[31m?\u001b[0m eta \u001b[36m-:--:--\u001b[0m\r\u001b[2K     \u001b[90m━━━━━━━━━━━━━━━━━━━━━━━━━━━━━━━━━━━━━━━━\u001b[0m \u001b[32m65.3/65.3 kB\u001b[0m \u001b[31m1.8 MB/s\u001b[0m eta \u001b[36m0:00:00\u001b[0m\n",
            "\u001b[?25h  Preparing metadata (setup.py) ... \u001b[?25l\u001b[?25hdone\n",
            "Requirement already satisfied: numpy in /usr/local/lib/python3.10/dist-packages (from normflows) (1.25.2)\n",
            "Requirement already satisfied: torch in /usr/local/lib/python3.10/dist-packages (from normflows) (2.1.0+cu121)\n",
            "Requirement already satisfied: filelock in /usr/local/lib/python3.10/dist-packages (from torch->normflows) (3.13.1)\n",
            "Requirement already satisfied: typing-extensions in /usr/local/lib/python3.10/dist-packages (from torch->normflows) (4.9.0)\n",
            "Requirement already satisfied: sympy in /usr/local/lib/python3.10/dist-packages (from torch->normflows) (1.12)\n",
            "Requirement already satisfied: networkx in /usr/local/lib/python3.10/dist-packages (from torch->normflows) (3.2.1)\n",
            "Requirement already satisfied: jinja2 in /usr/local/lib/python3.10/dist-packages (from torch->normflows) (3.1.3)\n",
            "Requirement already satisfied: fsspec in /usr/local/lib/python3.10/dist-packages (from torch->normflows) (2023.6.0)\n",
            "Requirement already satisfied: triton==2.1.0 in /usr/local/lib/python3.10/dist-packages (from torch->normflows) (2.1.0)\n",
            "Requirement already satisfied: MarkupSafe>=2.0 in /usr/local/lib/python3.10/dist-packages (from jinja2->torch->normflows) (2.1.5)\n",
            "Requirement already satisfied: mpmath>=0.19 in /usr/local/lib/python3.10/dist-packages (from sympy->torch->normflows) (1.3.0)\n",
            "Building wheels for collected packages: normflows\n",
            "  Building wheel for normflows (setup.py) ... \u001b[?25l\u001b[?25hdone\n",
            "  Created wheel for normflows: filename=normflows-1.7.3-py2.py3-none-any.whl size=87245 sha256=a3f45c9cc5f107fb3dc5faae7d8d6fd88c27f15fb76b7e01d981591fac80c03f\n",
            "  Stored in directory: /root/.cache/pip/wheels/08/b1/a6/f018e29f12dc6251793263911d14764ddad0a6844f7b024007\n",
            "Successfully built normflows\n",
            "Installing collected packages: normflows\n",
            "Successfully installed normflows-1.7.3\n"
          ]
        }
      ],
      "source": [
        "!pip install normflows"
      ]
    },
    {
      "cell_type": "code",
      "execution_count": null,
      "metadata": {
        "id": "3lEjedRvw1hf"
      },
      "outputs": [],
      "source": [
        "# Import packages\n",
        "import os\n",
        "import numpy as np\n",
        "import matplotlib.pyplot as plt\n",
        "import pandas as pd\n",
        "import seaborn as sns\n",
        "\n",
        "import torch\n",
        "import torch.optim as optim\n",
        "import torch.nn as nn\n",
        "import torch.nn.functional as F\n",
        "from torch.utils.data import DataLoader\n",
        "import torchvision\n",
        "from torch.distributions.multivariate_normal import MultivariateNormal\n",
        "\n",
        "import normflows as nf\n",
        "\n",
        "import copy\n",
        "\n",
        "%matplotlib inline"
      ]
    },
    {
      "cell_type": "code",
      "execution_count": null,
      "metadata": {
        "colab": {
          "base_uri": "https://localhost:8080/"
        },
        "id": "8oUGzaiA5n9w",
        "outputId": "52722cc1-17cd-43c1-dc1a-b42cdae27201"
      },
      "outputs": [
        {
          "name": "stdout",
          "output_type": "stream",
          "text": [
            "Downloading http://yann.lecun.com/exdb/mnist/train-images-idx3-ubyte.gz\n",
            "Downloading http://yann.lecun.com/exdb/mnist/train-images-idx3-ubyte.gz to MNIST/train/MNIST/raw/train-images-idx3-ubyte.gz\n"
          ]
        },
        {
          "name": "stderr",
          "output_type": "stream",
          "text": [
            "100%|██████████| 9912422/9912422 [00:00<00:00, 35408415.13it/s]\n"
          ]
        },
        {
          "name": "stdout",
          "output_type": "stream",
          "text": [
            "Extracting MNIST/train/MNIST/raw/train-images-idx3-ubyte.gz to MNIST/train/MNIST/raw\n",
            "\n",
            "Downloading http://yann.lecun.com/exdb/mnist/train-labels-idx1-ubyte.gz\n",
            "Downloading http://yann.lecun.com/exdb/mnist/train-labels-idx1-ubyte.gz to MNIST/train/MNIST/raw/train-labels-idx1-ubyte.gz\n"
          ]
        },
        {
          "name": "stderr",
          "output_type": "stream",
          "text": [
            "100%|██████████| 28881/28881 [00:00<00:00, 52258711.74it/s]\n"
          ]
        },
        {
          "name": "stdout",
          "output_type": "stream",
          "text": [
            "Extracting MNIST/train/MNIST/raw/train-labels-idx1-ubyte.gz to MNIST/train/MNIST/raw\n",
            "\n",
            "Downloading http://yann.lecun.com/exdb/mnist/t10k-images-idx3-ubyte.gz\n",
            "Downloading http://yann.lecun.com/exdb/mnist/t10k-images-idx3-ubyte.gz to MNIST/train/MNIST/raw/t10k-images-idx3-ubyte.gz\n"
          ]
        },
        {
          "name": "stderr",
          "output_type": "stream",
          "text": [
            "100%|██████████| 1648877/1648877 [00:00<00:00, 26116921.50it/s]\n"
          ]
        },
        {
          "name": "stdout",
          "output_type": "stream",
          "text": [
            "Extracting MNIST/train/MNIST/raw/t10k-images-idx3-ubyte.gz to MNIST/train/MNIST/raw\n",
            "\n",
            "Downloading http://yann.lecun.com/exdb/mnist/t10k-labels-idx1-ubyte.gz\n",
            "Downloading http://yann.lecun.com/exdb/mnist/t10k-labels-idx1-ubyte.gz to MNIST/train/MNIST/raw/t10k-labels-idx1-ubyte.gz\n"
          ]
        },
        {
          "name": "stderr",
          "output_type": "stream",
          "text": [
            "100%|██████████| 4542/4542 [00:00<00:00, 7011604.26it/s]\n"
          ]
        },
        {
          "name": "stdout",
          "output_type": "stream",
          "text": [
            "Extracting MNIST/train/MNIST/raw/t10k-labels-idx1-ubyte.gz to MNIST/train/MNIST/raw\n",
            "\n"
          ]
        }
      ],
      "source": [
        "# Import resized MNIST data\n",
        "ds_MNIST_7 = torchvision.datasets.MNIST(\n",
        "    \"MNIST/train\",\n",
        "    train=True,\n",
        "    download=True,\n",
        "    transform=torchvision.transforms.Compose([\n",
        "        torchvision.transforms.Resize(7),\n",
        "        torchvision.transforms.ToTensor(),\n",
        "    ])\n",
        ")"
      ]
    },
    {
      "cell_type": "code",
      "execution_count": null,
      "metadata": {
        "colab": {
          "base_uri": "https://localhost:8080/"
        },
        "id": "t1kx2CI15n9w",
        "outputId": "0d84dccb-4b08-4cf9-8d8a-4aee1461e870"
      },
      "outputs": [
        {
          "data": {
            "text/plain": [
              "Dataset MNIST\n",
              "    Number of datapoints: 60000\n",
              "    Root location: MNIST/train\n",
              "    Split: Train\n",
              "    StandardTransform\n",
              "Transform: Compose(\n",
              "               Resize(size=7, interpolation=bilinear, max_size=None, antialias=warn)\n",
              "               ToTensor()\n",
              "           )"
            ]
          },
          "execution_count": 6,
          "metadata": {},
          "output_type": "execute_result"
        }
      ],
      "source": [
        "ds_MNIST_7"
      ]
    },
    {
      "cell_type": "code",
      "execution_count": null,
      "metadata": {
        "colab": {
          "base_uri": "https://localhost:8080/",
          "height": 447
        },
        "id": "iHrxzLtB5n9w",
        "outputId": "38ce5739-21ba-4f3e-a68a-89f5f9e129bd"
      },
      "outputs": [
        {
          "data": {
            "text/plain": [
              "<matplotlib.colorbar.Colorbar at 0x7f3e3f1b1f30>"
            ]
          },
          "execution_count": 7,
          "metadata": {},
          "output_type": "execute_result"
        },
        {
          "data": {
            "image/png": "[encoded data removed]",
            "text/plain": [
              "<Figure size 640x480 with 2 Axes>"
            ]
          },
          "metadata": {},
          "output_type": "display_data"
        }
      ],
      "source": [
        "# Confirm that dataset was loaded\n",
        "first_image, first_label = ds_MNIST_7[0]\n",
        "first_image = first_image.numpy().transpose(1, 2, 0)\n",
        "image_plot = plt.imshow(first_image)\n",
        "plt.colorbar(image_plot, orientation=\"vertical\")"
      ]
    },
    {
      "cell_type": "markdown",
      "metadata": {
        "id": "s-Enjd4u5n9w"
      },
      "source": [
        "References:\n",
        "\n",
        "- https://pytorch.org/tutorials/beginner/basics/data_tutorial.html\n",
        "- https://pytorch.org/tutorials/beginner/data_loading_tutorial.html\n"
      ]
    },
    {
      "cell_type": "markdown",
      "metadata": {
        "id": "xwoDIhcEqedz"
      },
      "source": [
        "## Coupling NF using `normflows` Package\n",
        "\n",
        "References:\n",
        "\n",
        "- https://github.com/VincentStimper/normalizing-flows/blob/master/examples/real_nvp.ipynb\n",
        "- https://github.com/VincentStimper/normalizing-flows/tree/master\n",
        "- https://arxiv.org/abs/1605.08803\n",
        "\n",
        "\n"
      ]
    },
    {
      "cell_type": "code",
      "execution_count": null,
      "metadata": {
        "id": "HwWmTkiVh7af"
      },
      "outputs": [],
      "source": [
        "torch.manual_seed(9999)\n",
        "n_flows = 64\n",
        "\n",
        "# Create flow layers\n",
        "n_dim =  ds_MNIST_7[0][0].flatten().shape[0]\n",
        "mask = torch.Tensor([1 if i % 2 == 0 else 0 for i in range(n_dim)])\n",
        "flows = []\n",
        "for i in range(n_flows):\n",
        "    s = nf.nets.MLP([n_dim, 128, n_dim], init_zeros=True)\n",
        "    t = nf.nets.MLP([n_dim, 128, n_dim], init_zeros=True)\n",
        "    if i % 2 == 0:\n",
        "        flows.append(nf.flows.MaskedAffineFlow(mask, t, s))\n",
        "    else:\n",
        "        flows.append(nf.flows.MaskedAffineFlow((1-mask), t, s))\n",
        "\n",
        "# Set base distribution\n",
        "base_dist = nf.distributions.DiagGaussian(n_dim)\n",
        "\n",
        "# Create model\n",
        "model = nf.NormalizingFlow(q0=base_dist, flows=flows)\n",
        "model = model.to(device).float()\n",
        "\n",
        "# Specify optimizer\n",
        "optimizer = torch.optim.Adam(model.parameters(), lr=1e-4, weight_decay=1e-6)"
      ]
    },
    {
      "cell_type": "code",
      "execution_count": null,
      "metadata": {
        "colab": {
          "base_uri": "https://localhost:8080/"
        },
        "id": "x9NHZvfkh7SB",
        "outputId": "020a74a5-d031-4379-c9b9-28c542e5a9b0"
      },
      "outputs": [
        {
          "name": "stdout",
          "output_type": "stream",
          "text": [
            "Epoch 1\n",
            "----------\n",
            "Loss: 46.350960 [   64/60000]\n",
            "Loss: -38.612244 [ 6464/60000]\n",
            "Loss: -54.118797 [12864/60000]\n",
            "Loss: -16.705276 [19264/60000]\n",
            "Loss: -49.343594 [25664/60000]\n",
            "Loss: -66.319069 [32064/60000]\n",
            "Loss: -71.114601 [38464/60000]\n",
            "Loss: -36.772881 [44864/60000]\n",
            "Loss: -69.157990 [51264/60000]\n",
            "Loss: -74.999390 [57664/60000]\n",
            "Saved model for epoch 1\n",
            "Epoch 2\n",
            "----------\n",
            "Loss: -77.376366 [   64/60000]\n",
            "Loss: -80.536125 [ 6464/60000]\n",
            "Loss: -88.496643 [12864/60000]\n",
            "Loss: -93.090347 [19264/60000]\n",
            "Loss: -96.961960 [25664/60000]\n",
            "Loss: -91.442169 [32064/60000]\n",
            "Loss: -97.418610 [38464/60000]\n",
            "Loss: -96.233917 [44864/60000]\n",
            "Loss: 2.053486 [51264/60000]\n",
            "Loss: -30.322399 [57664/60000]\n",
            "Epoch 3\n",
            "----------\n",
            "Loss: -38.387138 [   64/60000]\n",
            "Loss: -45.206577 [ 6464/60000]\n",
            "Loss: -53.723839 [12864/60000]\n",
            "Loss: -62.587383 [19264/60000]\n",
            "Loss: -57.706299 [25664/60000]\n",
            "Loss: -69.507645 [32064/60000]\n",
            "Loss: -74.777267 [38464/60000]\n",
            "Loss: -81.065323 [44864/60000]\n",
            "Loss: -78.276810 [51264/60000]\n",
            "Loss: -78.559601 [57664/60000]\n",
            "Saved model for epoch 3\n",
            "Epoch 4\n",
            "----------\n",
            "Loss: -87.409225 [   64/60000]\n",
            "Loss: -84.617783 [ 6464/60000]\n",
            "Loss: -91.843132 [12864/60000]\n",
            "Loss: -95.619934 [19264/60000]\n",
            "Loss: -98.702293 [25664/60000]\n",
            "Loss: -8.881026 [32064/60000]\n",
            "Loss: 51.522125 [38464/60000]\n",
            "Loss: 20.284658 [44864/60000]\n",
            "Loss: -3.244694 [51264/60000]\n",
            "Loss: -11.973842 [57664/60000]\n",
            "Epoch 5\n",
            "----------\n",
            "Loss: -16.337555 [   64/60000]\n",
            "Loss: -22.288359 [ 6464/60000]\n",
            "Loss: -26.232586 [12864/60000]\n",
            "Loss: -37.226891 [19264/60000]\n",
            "Loss: -42.744484 [25664/60000]\n",
            "Loss: -47.174206 [32064/60000]\n",
            "Loss: -52.897186 [38464/60000]\n",
            "Loss: -59.082405 [44864/60000]\n",
            "Loss: -59.489761 [51264/60000]\n",
            "Loss: -64.226891 [57664/60000]\n",
            "Epoch 6\n",
            "----------\n",
            "Loss: -65.040779 [   64/60000]\n",
            "Loss: -65.748871 [ 6464/60000]\n",
            "Loss: -74.684677 [12864/60000]\n",
            "Loss: -72.893509 [19264/60000]\n",
            "Loss: -80.172119 [25664/60000]\n",
            "Loss: -82.448776 [32064/60000]\n",
            "Loss: -78.776375 [38464/60000]\n",
            "Loss: -80.299362 [44864/60000]\n",
            "Loss: -89.091537 [51264/60000]\n",
            "Loss: -87.138725 [57664/60000]\n",
            "Saved model for epoch 6\n",
            "Epoch 7\n",
            "----------\n",
            "Loss: -88.201698 [   64/60000]\n",
            "Loss: -93.837547 [ 6464/60000]\n",
            "Loss: -87.168549 [12864/60000]\n",
            "Loss: -91.855354 [19264/60000]\n",
            "Loss: -96.208687 [25664/60000]\n",
            "Loss: -95.453217 [32064/60000]\n",
            "Loss: -94.685150 [38464/60000]\n",
            "Loss: -90.460114 [44864/60000]\n",
            "Loss: -92.703278 [51264/60000]\n",
            "Loss: -97.270332 [57664/60000]\n",
            "Saved model for epoch 7\n",
            "Epoch 8\n",
            "----------\n",
            "Loss: -94.941780 [   64/60000]\n",
            "Loss: -101.660110 [ 6464/60000]\n",
            "Loss: -99.054565 [12864/60000]\n",
            "Loss: -99.344498 [19264/60000]\n",
            "Loss: -101.386047 [25664/60000]\n",
            "Loss: -105.764847 [32064/60000]\n",
            "Loss: -103.222382 [38464/60000]\n",
            "Loss: -111.252411 [44864/60000]\n",
            "Loss: -109.363831 [51264/60000]\n",
            "Loss: -109.842049 [57664/60000]\n",
            "Saved model for epoch 8\n",
            "Epoch 9\n",
            "----------\n",
            "Loss: -102.313431 [   64/60000]\n",
            "Loss: -109.601044 [ 6464/60000]\n",
            "Loss: -108.210045 [12864/60000]\n",
            "Loss: -110.508965 [19264/60000]\n",
            "Loss: -107.618134 [25664/60000]\n",
            "Loss: -111.438797 [32064/60000]\n",
            "Loss: -106.099869 [38464/60000]\n",
            "Loss: -107.977356 [44864/60000]\n",
            "Loss: -104.354706 [51264/60000]\n",
            "Loss: -113.578911 [57664/60000]\n",
            "Saved model for epoch 9\n",
            "Epoch 10\n",
            "----------\n",
            "Loss: -106.793625 [   64/60000]\n",
            "Loss: -112.436920 [ 6464/60000]\n",
            "Loss: -117.787292 [12864/60000]\n",
            "Loss: -114.585617 [19264/60000]\n",
            "Loss: -114.634521 [25664/60000]\n",
            "Loss: -115.099640 [32064/60000]\n",
            "Loss: -111.498199 [38464/60000]\n",
            "Loss: -117.063004 [44864/60000]\n",
            "Loss: -115.671539 [51264/60000]\n",
            "Loss: -115.876686 [57664/60000]\n",
            "Saved model for epoch 10\n",
            "Epoch 11\n",
            "----------\n",
            "Loss: -108.526932 [   64/60000]\n",
            "Loss: -117.940849 [ 6464/60000]\n",
            "Loss: -114.665497 [12864/60000]\n",
            "Loss: -113.834671 [19264/60000]\n",
            "Loss: -119.677879 [25664/60000]\n",
            "Loss: -116.152992 [32064/60000]\n",
            "Loss: -116.896622 [38464/60000]\n",
            "Loss: -118.110245 [44864/60000]\n",
            "Loss: -124.935120 [51264/60000]\n",
            "Loss: -120.625717 [57664/60000]\n",
            "Saved model for epoch 11\n",
            "Epoch 12\n",
            "----------\n",
            "Loss: -119.540215 [   64/60000]\n",
            "Loss: -122.283096 [ 6464/60000]\n",
            "Loss: -117.192581 [12864/60000]\n",
            "Loss: -120.886948 [19264/60000]\n",
            "Loss: -118.843834 [25664/60000]\n",
            "Loss: -124.032394 [32064/60000]\n",
            "Loss: -124.522919 [38464/60000]\n",
            "Loss: -126.268806 [44864/60000]\n",
            "Loss: -113.283813 [51264/60000]\n",
            "Loss: -119.954338 [57664/60000]\n",
            "Saved model for epoch 12\n",
            "Epoch 13\n",
            "----------\n",
            "Loss: -122.714142 [   64/60000]\n",
            "Loss: -128.104584 [ 6464/60000]\n",
            "Loss: -134.395157 [12864/60000]\n",
            "Loss: -124.422585 [19264/60000]\n",
            "Loss: -129.689148 [25664/60000]\n",
            "Loss: -126.266678 [32064/60000]\n",
            "Loss: -127.005852 [38464/60000]\n",
            "Loss: -121.183357 [44864/60000]\n",
            "Loss: -130.620560 [51264/60000]\n",
            "Loss: -122.411339 [57664/60000]\n",
            "Saved model for epoch 13\n",
            "Epoch 14\n",
            "----------\n",
            "Loss: -131.623459 [   64/60000]\n",
            "Loss: -119.255569 [ 6464/60000]\n",
            "Loss: -126.917755 [12864/60000]\n",
            "Loss: -117.424957 [19264/60000]\n",
            "Loss: -130.584671 [25664/60000]\n",
            "Loss: -123.539757 [32064/60000]\n",
            "Loss: -123.956032 [38464/60000]\n",
            "Loss: -125.227768 [44864/60000]\n",
            "Loss: -127.845428 [51264/60000]\n",
            "Loss: -127.640732 [57664/60000]\n",
            "Saved model for epoch 14\n",
            "Epoch 15\n",
            "----------\n",
            "Loss: -125.893661 [   64/60000]\n",
            "Loss: -133.754898 [ 6464/60000]\n",
            "Loss: -134.647705 [12864/60000]\n",
            "Loss: -127.866226 [19264/60000]\n",
            "Loss: -122.319534 [25664/60000]\n",
            "Loss: -125.464310 [32064/60000]\n",
            "Loss: -130.129486 [38464/60000]\n",
            "Loss: -127.433060 [44864/60000]\n",
            "Loss: -127.198692 [51264/60000]\n",
            "Loss: -132.444366 [57664/60000]\n",
            "Saved model for epoch 15\n",
            "Epoch 16\n",
            "----------\n",
            "Loss: -136.290894 [   64/60000]\n",
            "Loss: -127.430435 [ 6464/60000]\n",
            "Loss: -129.055801 [12864/60000]\n",
            "Loss: -122.274323 [19264/60000]\n",
            "Loss: -135.322220 [25664/60000]\n",
            "Loss: -136.163864 [32064/60000]\n",
            "Loss: -127.624802 [38464/60000]\n",
            "Loss: -133.013885 [44864/60000]\n",
            "Loss: -140.530731 [51264/60000]\n",
            "Loss: -127.852776 [57664/60000]\n",
            "Saved model for epoch 16\n",
            "Epoch 17\n",
            "----------\n",
            "Loss: -131.925049 [   64/60000]\n",
            "Loss: -135.467255 [ 6464/60000]\n",
            "Loss: -128.202835 [12864/60000]\n",
            "Loss: -135.603546 [19264/60000]\n",
            "Loss: -126.149384 [25664/60000]\n",
            "Loss: -126.162796 [32064/60000]\n",
            "Loss: -139.037003 [38464/60000]\n",
            "Loss: -135.774429 [44864/60000]\n",
            "Loss: -128.910690 [51264/60000]\n",
            "Loss: -138.836060 [57664/60000]\n",
            "Saved model for epoch 17\n",
            "Epoch 18\n",
            "----------\n",
            "Loss: -134.382812 [   64/60000]\n",
            "Loss: -130.020233 [ 6464/60000]\n",
            "Loss: -135.545074 [12864/60000]\n",
            "Loss: -130.354279 [19264/60000]\n",
            "Loss: -135.420822 [25664/60000]\n",
            "Loss: -126.819435 [32064/60000]\n",
            "Loss: -124.716721 [38464/60000]\n",
            "Loss: -136.611786 [44864/60000]\n",
            "Loss: -143.098663 [51264/60000]\n",
            "Loss: -131.489075 [57664/60000]\n",
            "Saved model for epoch 18\n",
            "Epoch 19\n",
            "----------\n",
            "Loss: -139.143372 [   64/60000]\n",
            "Loss: -137.325012 [ 6464/60000]\n",
            "Loss: -140.193298 [12864/60000]\n",
            "Loss: -130.863953 [19264/60000]\n",
            "Loss: -132.327271 [25664/60000]\n",
            "Loss: -136.928055 [32064/60000]\n",
            "Loss: -146.735168 [38464/60000]\n",
            "Loss: -137.469055 [44864/60000]\n",
            "Loss: -139.534241 [51264/60000]\n",
            "Loss: -149.330383 [57664/60000]\n",
            "Saved model for epoch 19\n",
            "Epoch 20\n",
            "----------\n",
            "Loss: -137.704834 [   64/60000]\n",
            "Loss: -137.310333 [ 6464/60000]\n",
            "Loss: -145.481750 [12864/60000]\n",
            "Loss: -137.950058 [19264/60000]\n",
            "Loss: -138.216003 [25664/60000]\n",
            "Loss: -141.126343 [32064/60000]\n",
            "Loss: -140.602051 [38464/60000]\n",
            "Loss: -140.968109 [44864/60000]\n",
            "Loss: -138.320953 [51264/60000]\n",
            "Loss: -147.737457 [57664/60000]\n",
            "Saved model for epoch 20\n"
          ]
        }
      ],
      "source": [
        "# Load/train model\n",
        "load_model = False\n",
        "load_model_name = \"\"\n",
        "load_model_path = os.path.join(models_dir, f\"{load_model_name}.pt\")\n",
        "\n",
        "if load_model:\n",
        "    if torch.cuda.is_available():\n",
        "        model.load_state_dict(torch.load(load_model_path))\n",
        "    else:\n",
        "        model.load_state_dict(\n",
        "            torch.load(load_model_path, map_location=torch.device(\"cpu\"))\n",
        "        )\n",
        "else:\n",
        "    batch_size = 64\n",
        "    epochs = 20\n",
        "\n",
        "    dl = DataLoader(ds_MNIST_7, batch_size=batch_size, shuffle=True, drop_last=True)\n",
        "    size = len(dl.dataset)\n",
        "\n",
        "    lowest_avg_loss = None\n",
        "\n",
        "    model.train()\n",
        "    for t in range(epochs):\n",
        "        loss_vals = []\n",
        "        print(f\"Epoch {t+1}\\n{'-'*10}\")\n",
        "        for batch, (X, _) in enumerate(dl):\n",
        "            X = X.to(device).view(batch_size, n_dim)\n",
        "\n",
        "            loss = model.forward_kld(X)\n",
        "\n",
        "            if ~(torch.isnan(loss) | torch.isinf(loss)):\n",
        "                optimizer.zero_grad()\n",
        "                loss.backward()\n",
        "                optimizer.step()\n",
        "\n",
        "                # Record training batch loss\n",
        "                loss_val = loss.item()\n",
        "                loss_vals.append(loss_val)\n",
        "\n",
        "            # Report loss and current batch\n",
        "            if batch % 100 == 0:\n",
        "                current_batch = (batch + 1) * len(X)\n",
        "                print(f\"Loss: {loss_val:>7f} [{current_batch:>5d}/{size:>5d}]\")\n",
        "\n",
        "        # Save model if improving\n",
        "        epoch_avg_loss = np.mean(loss_vals)\n",
        "        if (lowest_avg_loss is None) or (epoch_avg_loss < lowest_avg_loss):\n",
        "            lowest_avg_loss = epoch_avg_loss\n",
        "            model.save(os.path.join(models_dir, f'CouplingNFmodel_epoch{t+1}.pt'))\n",
        "            print(f'Saved model for epoch {t+1}')"
      ]
    },
    {
      "cell_type": "code",
      "execution_count": null,
      "metadata": {
        "colab": {
          "base_uri": "https://localhost:8080/",
          "height": 447
        },
        "id": "HsVtsYaeGgT3",
        "outputId": "d096e252-136f-4055-d8a8-07f01c964bec"
      },
      "outputs": [
        {
          "data": {
            "text/plain": [
              "<matplotlib.image.AxesImage at 0x79a99e158b80>"
            ]
          },
          "execution_count": 29,
          "metadata": {},
          "output_type": "execute_result"
        },
        {
          "data": {
            "image/png": "[encoded data removed]",
            "text/plain": [
              "<Figure size 640x480 with 1 Axes>"
            ]
          },
          "metadata": {},
          "output_type": "display_data"
        }
      ],
      "source": [
        "# Sample from model\n",
        "z, _ = model.sample(1)\n",
        "z = z.to('cpu').view(7, 7).detach().numpy()\n",
        "plt.imshow(z)"
      ]
    },
    {
      "cell_type": "markdown",
      "metadata": {
        "id": "4fHeLfYnAJlY"
      },
      "source": [
        "## Autoregressive NF using `normflows` Package"
      ]
    },
    {
      "cell_type": "markdown",
      "metadata": {
        "id": "4bzsJsg35n9y"
      },
      "source": [
        "References:\n",
        "\n",
        "- https://github.com/VincentStimper/normalizing-flows/blob/master/normflows/flows/affine/autoregressive.py\n",
        "- https://github.com/bayesiains/nflows/blob/master/nflows/flows/autoregressive.py\n"
      ]
    },
    {
      "cell_type": "code",
      "execution_count": null,
      "metadata": {
        "id": "8-52sqTXOYnT"
      },
      "outputs": [],
      "source": [
        "torch.manual_seed(8888)\n",
        "n_flows = 16 # Setting to 64 results in NaN loss values for all batches\n",
        "\n",
        "# Create flow layers\n",
        "n_dim =  ds_MNIST_7[0][0].flatten().shape[0]\n",
        "flows = []\n",
        "for i in range(n_flows):\n",
        "    flows.append(\n",
        "        nf.flows.MaskedAffineAutoregressive(\n",
        "            features=n_dim,\n",
        "            hidden_features=32,\n",
        "            use_batch_norm=True,\n",
        "        )\n",
        "    )\n",
        "\n",
        "# Set base distribution\n",
        "base_dist = nf.distributions.DiagGaussian(n_dim)\n",
        "\n",
        "# Create model\n",
        "model = nf.NormalizingFlow(q0=base_dist, flows=flows)\n",
        "model = model.to(device).float()\n",
        "\n",
        "# Specify optimizer\n",
        "optimizer = torch.optim.Adam(model.parameters(), lr=1e-4, weight_decay=1e-6)"
      ]
    },
    {
      "cell_type": "code",
      "execution_count": null,
      "metadata": {
        "colab": {
          "background_save": true,
          "base_uri": "https://localhost:8080/"
        },
        "id": "uXIIeQ_fRTCC",
        "outputId": "520e98e4-7ce6-4a65-b292-a079f0a1a027"
      },
      "outputs": [
        {
          "name": "stdout",
          "output_type": "stream",
          "text": [
            "Loss: -15.754591 [Epoch 1/20]\n",
            "Saved model for epoch 1\n",
            "Loss: -53.520104 [Epoch 2/20]\n",
            "Saved model for epoch 2\n",
            "Loss: -65.260176 [Epoch 3/20]\n",
            "Saved model for epoch 3\n",
            "Loss: -72.265711 [Epoch 4/20]\n",
            "Saved model for epoch 4\n",
            "Loss: -77.885487 [Epoch 5/20]\n",
            "Saved model for epoch 5\n",
            "Loss: -82.726488 [Epoch 6/20]\n",
            "Saved model for epoch 6\n",
            "Loss: -85.938771 [Epoch 7/20]\n",
            "Saved model for epoch 7\n",
            "Loss: -88.381940 [Epoch 8/20]\n",
            "Saved model for epoch 8\n",
            "Loss: -90.497325 [Epoch 9/20]\n",
            "Saved model for epoch 9\n",
            "Loss: -92.321800 [Epoch 10/20]\n",
            "Saved model for epoch 10\n",
            "Loss: -94.048842 [Epoch 11/20]\n",
            "Saved model for epoch 11\n",
            "Loss: -95.558981 [Epoch 12/20]\n",
            "Saved model for epoch 12\n",
            "Loss: -97.004938 [Epoch 13/20]\n",
            "Saved model for epoch 13\n",
            "Loss: -98.177051 [Epoch 14/20]\n",
            "Saved model for epoch 14\n",
            "Loss: -99.440532 [Epoch 15/20]\n",
            "Saved model for epoch 15\n",
            "Loss: -100.473484 [Epoch 16/20]\n",
            "Saved model for epoch 16\n",
            "Loss: -101.376469 [Epoch 17/20]\n",
            "Saved model for epoch 17\n",
            "Loss: -102.165986 [Epoch 18/20]\n",
            "Saved model for epoch 18\n",
            "Loss: -103.116388 [Epoch 19/20]\n",
            "Saved model for epoch 19\n",
            "Loss: -103.850959 [Epoch 20/20]\n",
            "Saved model for epoch 20\n"
          ]
        }
      ],
      "source": [
        "# Load/train model\n",
        "load_model = False\n",
        "load_model_name = \"\"\n",
        "load_model_path = os.path.join(models_dir, f\"{load_model_name}.pt\")\n",
        "\n",
        "if load_model:\n",
        "    if torch.cuda.is_available():\n",
        "        model.load_state_dict(torch.load(load_model_path))\n",
        "    else:\n",
        "        model.load_state_dict(\n",
        "            torch.load(load_model_path, map_location=torch.device(\"cpu\"))\n",
        "        )\n",
        "else:\n",
        "    batch_size = 128\n",
        "    epochs = 20\n",
        "\n",
        "    dl = DataLoader(ds_MNIST_7, batch_size=batch_size, shuffle=True, drop_last=True)\n",
        "    size = len(dl.dataset)\n",
        "\n",
        "    lowest_avg_loss = None\n",
        "\n",
        "    model.train()\n",
        "    for t in range(epochs):\n",
        "        batch_losses = []\n",
        "        for batch, (X, _) in enumerate(dl):\n",
        "            X = X.to(device).view(batch_size, n_dim)\n",
        "\n",
        "            loss = model.forward_kld(X)\n",
        "\n",
        "            if ~(torch.isnan(loss) | torch.isinf(loss)):\n",
        "                optimizer.zero_grad()\n",
        "                loss.backward()\n",
        "                optimizer.step()\n",
        "\n",
        "                # torch.nn.utils.clip_grad_norm_(model.parameters(), max_norm=1)\n",
        "\n",
        "                # Record training batch loss\n",
        "                loss_val = loss.item()\n",
        "                batch_losses.append(loss_val)\n",
        "            else:\n",
        "                print(f'NaN/Inf loss for batch {batch}')\n",
        "\n",
        "        epoch_avg_loss = np.mean(batch_losses)\n",
        "        print(f\"Loss: {epoch_avg_loss:>7f} [Epoch {t+1}/{epochs}]\")\n",
        "\n",
        "        # Save model if improving\n",
        "        epoch_avg_loss = np.mean(batch_losses)\n",
        "        if (lowest_avg_loss is None) or (epoch_avg_loss < lowest_avg_loss):\n",
        "            lowest_avg_loss = epoch_avg_loss\n",
        "            model.save(os.path.join(models_dir, f'AutoRegNFmodel_epoch{t+1}.pt'))\n",
        "            print(f'Saved model for epoch {t+1}')"
      ]
    },
    {
      "cell_type": "code",
      "execution_count": null,
      "metadata": {
        "colab": {
          "base_uri": "https://localhost:8080/",
          "height": 447
        },
        "id": "b27Dvvr-cj-_",
        "outputId": "434422af-4abc-4a39-b3b5-4ecd8442bf6b"
      },
      "outputs": [
        {
          "data": {
            "text/plain": [
              "<matplotlib.image.AxesImage at 0x78c61d2b9f60>"
            ]
          },
          "execution_count": 71,
          "metadata": {},
          "output_type": "execute_result"
        },
        {
          "data": {
            "image/png": "[encoded data removed]",
            "text/plain": [
              "<Figure size 640x480 with 1 Axes>"
            ]
          },
          "metadata": {},
          "output_type": "display_data"
        }
      ],
      "source": [
        "# Sample from model\n",
        "z, _ = model.sample(2)\n",
        "z = z.view(2, 7, 7).to(\"cpu\").detach().numpy()\n",
        "plt.imshow(z[0])"
      ]
    },
    {
      "cell_type": "markdown",
      "metadata": {
        "id": "d7JPJuE1hF7W"
      },
      "source": [
        "## *Archived Attempts [For Reference]*"
      ]
    },
    {
      "cell_type": "markdown",
      "metadata": {
        "id": "XMhIayMCqvsF"
      },
      "source": [
        "### NF Model from Scratch\n",
        "\n",
        "References:\n",
        "\n",
        "- https://github.com/karpathy/pytorch-normalizing-flows\n",
        "- https://github.com/VincentStimper/normalizing-flows/tree/master"
      ]
    },
    {
      "cell_type": "code",
      "execution_count": null,
      "metadata": {
        "id": "ZhUh5tzqCYYZ"
      },
      "outputs": [],
      "source": [
        "# class MLP(nn.Module):\n",
        "#     \"\"\"Multi-layer perceptron feedforward neural network\"\"\"\n",
        "\n",
        "#     def __init__(self, n_input: int, n_output: int, n_hidden: int = 64) -> None:\n",
        "#         \"\"\"\n",
        "#         Initializes sequential linear model with 2 hidden layers and\n",
        "#         leaky ReLU activation function.\n",
        "#         \"\"\"\n",
        "#         super().__init__()\n",
        "#         self.seq_net = nn.Sequential(\n",
        "#             nn.Linear(n_input, n_hidden),\n",
        "#             nn.LeakyReLU(0),\n",
        "#             nn.Linear(n_hidden, n_hidden),\n",
        "#             nn.LeakyReLU(0),\n",
        "#             nn.Linear(n_hidden, n_output)\n",
        "#         )\n",
        "\n",
        "#     def forward(self, x: torch.Tensor):\n",
        "#         output = self.seq_net(x)\n",
        "#         return output\n",
        "\n",
        "\n",
        "# class CNN(nn.Module):\n",
        "#     \"\"\"\n",
        "#     Based on: https://pytorch.org/tutorials/beginner/blitz/cifar10_tutorial.html\n",
        "#     \"\"\"\n",
        "\n",
        "#     def __init__(\n",
        "#         self,\n",
        "#         in_channels: int,\n",
        "#         height: int,\n",
        "#         width: int,\n",
        "#         n_output: int\n",
        "#     ) -> None:\n",
        "#         \"\"\"\n",
        "#         Initializes convolutional neural network model.\n",
        "#         \"\"\"\n",
        "#         super().__init__()\n",
        "#         self.seq_cnn = nn.Sequential(\n",
        "#             nn.Conv2d(in_channels, 6, (height, width)),\n",
        "#             nn.LeakyReLU(0),\n",
        "#             nn.MaxPool2d(2, 2),\n",
        "#             nn.Conv2d(6, 16, (height, width)),\n",
        "#             nn.LeakyReLU(0),\n",
        "#             nn.MaxPool2d(2, 2),\n",
        "#             nn.Conv2d(16, 24, (height, width)),\n",
        "#             nn.LeakyReLU(0),\n",
        "#             nn.MaxPool2d(2, 2),\n",
        "#             nn.Flatten(1, -1),\n",
        "#             nn.Linear(24 * height * width, 120),\n",
        "#             nn.Linear(120, 64),\n",
        "#             nn.Linear(64, n_output),\n",
        "#         )\n",
        "\n",
        "#     def forward(self, x: torch.Tensor):\n",
        "#         output = self.seq_cnn(x)\n",
        "#         return output"
      ]
    },
    {
      "cell_type": "code",
      "execution_count": null,
      "metadata": {
        "id": "pM3NtVWz5n9x"
      },
      "outputs": [],
      "source": [
        "# class AffineCouplingLayer(nn.Module):\n",
        "#     \"\"\"\n",
        "#     Affine coupling layer for RealNVP normalizing flow model.\n",
        "\n",
        "#     Primarily based on https://github.com/karpathy/pytorch-normalizing-flows.\n",
        "#     \"\"\"\n",
        "\n",
        "#     def __init__(self, dim: int, flip_order: bool):\n",
        "#         super().__init__()\n",
        "#         self.dim = dim\n",
        "#         self.flip_order = flip_order\n",
        "#         self.s_net = MLP((self.dim // 2), (self.dim // 2), 32)\n",
        "#         self.t_net = MLP((self.dim // 2), (self.dim // 2), 32)\n",
        "\n",
        "#     def forward(self, x: torch.Tensor):\n",
        "#         x = x.view((x.shape[0], -1))\n",
        "#         x0, x1 = x[:,::2], x[:,1::2] # Split tensor\n",
        "#         if self.flip_order:\n",
        "#             x0, x1 = x1, x0 # Alternate which sub-tensor is passed through identity matrix\n",
        "#         s = self.s_net(x0) # Calculate scale parameter\n",
        "#         t = self.t_net(x0) # Calculate shift parameter\n",
        "#         z0 = x0 # Pass sub-tensor through identity matrix\n",
        "#         z1 = torch.exp(s) * x1 + t # Transform other sub-tensor\n",
        "#         if self.flip_order:\n",
        "#             z0, z1 = z1, z0 # Restore order before concatenating together\n",
        "#         z = torch.cat([z0, z1], dim=1)\n",
        "#         log_det = torch.sum(s, dim=1)\n",
        "#         return z, log_det\n",
        "\n",
        "#     def backward(self, z: torch.Tensor):\n",
        "#         z0, z1 = z[:, ::2], z[:,1::2]\n",
        "#         if self.flip_order:\n",
        "#             z0, z1 = z1, z0\n",
        "#         s = self.s_net(z0)\n",
        "#         t = self.t_net(z0)\n",
        "#         x0 = z0\n",
        "#         x1 = (z1 - t) * torch.exp(-s) # Inverse transformation\n",
        "#         if self.flip_order:\n",
        "#             x0, x1 = x1, x0\n",
        "#         x = torch.cat([x0, x1], dim=1)\n",
        "#         log_det = torch.sum(-s, dim=1)\n",
        "#         return x, log_det\n",
        "\n",
        "# class NFModel(nn.Module):\n",
        "#     def __init__(self, base_dist, flows):\n",
        "#         super().__init__()\n",
        "#         self.base_dist = base_dist\n",
        "#         self.flows = nn.ModuleList(flows)\n",
        "\n",
        "#     def forward(self, x):\n",
        "#         log_det = torch.zeros(x.shape[0]).to(device)\n",
        "#         z_list = [x]\n",
        "#         for flow_idx, flow in enumerate(self.flows):\n",
        "#             x, log_det_i = flow(x)\n",
        "#             log_det += log_det_i\n",
        "#             # print(f'Log det type: {type(log_det)}')\n",
        "#             x = torch.nan_to_num(x, nan=0, posinf=3, neginf=-3)\n",
        "#             z_list.append(x)\n",
        "#         log_prob_pz = (\n",
        "#             self.base_dist.log_prob(z_list[-1]).view(x.size(0), -1).sum(1)\n",
        "#         )\n",
        "#         log_prob_pz = log_prob_pz\n",
        "#         return z_list, log_prob_pz, log_det\n",
        "\n",
        "#     def backward(self, z):\n",
        "#         log_det = torch.zeros(z.shape[0]).to(device)\n",
        "#         x_list = [z]\n",
        "#         for flow_idx, flow in enumerate(self.flows[::-1]):\n",
        "#             z, log_det_j = flow.backward(z)\n",
        "#             log_det += log_det_j\n",
        "#             x_list.append(z)\n",
        "#         return x_list, log_det\n",
        "\n",
        "#     def sample(self, n_samples):\n",
        "#         z = self.base_dist.sample((n_samples,))\n",
        "#         x_list, _ = self.backward(z)\n",
        "#         return x_list\n",
        "\n",
        "#     def save(self, path):\n",
        "#         torch.save(self.state_dict(), path)\n",
        "\n",
        "#     def load(self, path):\n",
        "#         self.load_state_dict(torch.load(path))\n"
      ]
    },
    {
      "cell_type": "code",
      "execution_count": null,
      "metadata": {
        "id": "xI22EeN8msI7"
      },
      "outputs": [],
      "source": [
        "# n_flow_layers = 40\n",
        "# n_dim = ds_MNIST[0][0].reshape(-1).shape[0] # MNIST (height x width pixels)\n",
        "\n",
        "# mean_vec = torch.zeros(n_dim).to(device)\n",
        "# cov_mat = torch.eye(n_dim).to(device)\n",
        "# gaussian_prior = torch.distributions.MultivariateNormal(mean_vec, cov_mat) # pz(z) ~ MVN(0, I)\n",
        "# flows = [\n",
        "#     AffineCouplingLayer(dim=n_dim, flip_order=(idx % 2))\n",
        "#     for idx in range(n_flow_layers)\n",
        "# ]\n",
        "\n",
        "# model = NFModel(gaussian_prior, flows).to(device)\n",
        "# print(model)\n",
        "\n",
        "# optimizer = torch.optim.Adam(model.parameters(), lr=1e-4)"
      ]
    },
    {
      "cell_type": "code",
      "execution_count": null,
      "metadata": {
        "id": "T6q5LY-c5n9y"
      },
      "outputs": [],
      "source": [
        "# batch_size = 64\n",
        "# epochs = 50\n",
        "\n",
        "# dl = DataLoader(ds_MNIST, batch_size=batch_size, shuffle=True, drop_last=True)\n",
        "# size = len(dl.dataset)\n",
        "\n",
        "# lowest_avg_loss = None\n",
        "\n",
        "# model.train()\n",
        "# for t in range(epochs):\n",
        "#     loss_vals = []\n",
        "#     print(f\"Epoch {t+1}\\n{'-'*10}\")\n",
        "#     for batch, (X, _) in enumerate(dl):\n",
        "#         X = X.to(device)\n",
        "\n",
        "#         z_list, log_prob_pz, log_det = model(X)\n",
        "#         # print(f'Log det type: {type(log_det)}')\n",
        "#         # print(f'Log prob pz type: {type(log_prob_pz)}')\n",
        "\n",
        "#         log_prob = log_prob_pz + log_det\n",
        "#         # print(f'Log prob type: {type(log_prob)}')\n",
        "\n",
        "#         loss = -torch.mean(log_prob)\n",
        "#         # print(f'Loss type: {type(loss)}')\n",
        "\n",
        "#         model.zero_grad()\n",
        "#         loss.backward()\n",
        "#         optimizer.step()\n",
        "\n",
        "#         # Record training batch loss\n",
        "#         loss_val = loss.item()\n",
        "#         loss_vals.append(loss_val)\n",
        "#         if batch % 100 == 0:\n",
        "#             current_batch = (batch + 1) * len(X)\n",
        "#             print(f\"Loss: {loss_val:>7f} [{current_batch:>5d}/{size:>5d}]\")\n",
        "\n",
        "#     # Save model if improving\n",
        "#     epoch_avg_loss = np.mean(loss_vals)\n",
        "#     if (lowest_avg_loss is None) or (epoch_avg_loss < lowest_avg_loss):\n",
        "#         lowest_avg_loss = epoch_avg_loss\n",
        "#         model.save(os.path.join(models_dir, f'NFmodel_epoch{t}.pt'))\n",
        "#         print(f'Saved model for epoch {t}')"
      ]
    },
    {
      "cell_type": "code",
      "execution_count": null,
      "metadata": {
        "id": "t5cdKnWKqdeW"
      },
      "outputs": [],
      "source": [
        "# # Sample from model\n",
        "# model.eval()\n",
        "# sampled_images = model.sample(1)\n",
        "\n",
        "# first_image = sampled_images[0].view((7, 7))\n",
        "# plt.imshow(first_image.cpu().detach().numpy())\n",
        "\n",
        "# final_image = sampled_images[-1].view((7, 7))\n",
        "# plt.imshow(final_image.cpu().detach().numpy())"
      ]
    }
  ],
  "metadata": {
    "colab": {
      "machine_shape": "hm",
      "provenance": []
    },
    "kernelspec": {
      "display_name": "Python 3",
      "name": "python3"
    },
    "language_info": {
      "codemirror_mode": {
        "name": "ipython",
        "version": 3
      },
      "file_extension": ".py",
      "mimetype": "text/x-python",
      "name": "python",
      "nbconvert_exporter": "python",
      "pygments_lexer": "ipython3",
      "version": "3.10.12"
    }
  },
  "nbformat": 4,
  "nbformat_minor": 0
}
