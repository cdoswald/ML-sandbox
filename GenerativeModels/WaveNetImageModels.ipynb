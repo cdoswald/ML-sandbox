{
  "cells": [
    {
      "cell_type": "markdown",
      "metadata": {
        "id": "_y3XpY_hw1hb"
      },
      "source": [
        "# WaveNet Image Models\n",
        "\n",
        "**Author**: Chris Oswald\n",
        "\n",
        "**Course**: CS676/ECE689 Advanced Topics in Deep Learning (Spring 2024)\n"
      ]
    },
    {
      "cell_type": "markdown",
      "metadata": {
        "id": "TxZ1ZzlV5n9y"
      },
      "source": [
        "## Question 2: WaveNet for Image Modeling\n",
        "\n",
        "- Pick a WaveNet-typed model (e.g., WaveNet, ParallelWaveNet).\n",
        "- Train the model for image modelling on MNIST.\n",
        "- You can resize the MNIST images to 7 × 7 pixels to reduce computational complexity."
      ]
    },
    {
      "cell_type": "markdown",
      "metadata": {
        "id": "xZS6nibi5n9y"
      },
      "source": [
        "References:\n",
        "\n",
        "- https://github.com/VincentStimper/normalizing-flows/blob/master/normflows\n",
        "- https://github.com/kan-bayashi/ParallelWaveGAN/blob/master\n",
        "- https://github.com/vincentherrmann/pytorch-wavenet/blob/master\n",
        "- https://github.com/Zeta36/tensorflow-image-wavenet/tree/master\n",
        "- https://www.youtube.com/watch?v=rT77lBfAZm4\n",
        "- https://arxiv.org/pdf/1910.11480.pdf\n",
        "- https://arxiv.org/pdf/1803.01271.pdf\n",
        "- https://arxiv.org/pdf/1606.05328.pdf"
      ]
    },
    {
      "cell_type": "markdown",
      "source": [
        "## Set-up"
      ],
      "metadata": {
        "id": "Cba-xUs4IJj_"
      }
    },
    {
      "cell_type": "code",
      "execution_count": null,
      "metadata": {
        "colab": {
          "base_uri": "https://localhost:8080/"
        },
        "id": "GCIgUfb3YCHm",
        "outputId": "3ed44d9d-ba72-478d-de7c-fde97bd5682d"
      },
      "outputs": [
        {
          "output_type": "stream",
          "name": "stdout",
          "text": [
            "Mounted at /content/drive\n"
          ]
        }
      ],
      "source": [
        "from google.colab import drive\n",
        "drive.mount('/content/drive')"
      ]
    },
    {
      "cell_type": "code",
      "execution_count": null,
      "metadata": {
        "id": "bSLBTZOww1hh"
      },
      "outputs": [],
      "source": [
        "device = torch.device('cuda' if torch.cuda.is_available() else 'cpu')"
      ]
    },
    {
      "cell_type": "code",
      "source": [
        "models_dir = \"./drive/MyDrive/Colab Notebooks/Models\"\n",
        "os.makedirs(models_dir, exist_ok=True)"
      ],
      "metadata": {
        "id": "VRkI7f9aKCNA"
      },
      "execution_count": null,
      "outputs": []
    },
    {
      "cell_type": "markdown",
      "metadata": {
        "id": "pbqTTFeww1hf"
      },
      "source": [
        "## Imports and Datasets"
      ]
    },
    {
      "cell_type": "code",
      "execution_count": null,
      "metadata": {
        "id": "3lEjedRvw1hf"
      },
      "outputs": [],
      "source": [
        "# Import packages\n",
        "import os\n",
        "import numpy as np\n",
        "import matplotlib.pyplot as plt\n",
        "import pandas as pd\n",
        "import seaborn as sns\n",
        "\n",
        "import torch\n",
        "import torch.optim as optim\n",
        "import torch.nn as nn\n",
        "import torch.nn.functional as F\n",
        "from torch.utils.data import DataLoader\n",
        "import torchvision\n",
        "from torch.distributions.multivariate_normal import MultivariateNormal\n",
        "\n",
        "import normflows as nf\n",
        "\n",
        "import copy\n",
        "\n",
        "%matplotlib inline"
      ]
    },
    {
      "cell_type": "code",
      "execution_count": null,
      "metadata": {
        "colab": {
          "base_uri": "https://localhost:8080/"
        },
        "id": "8oUGzaiA5n9w",
        "outputId": "52722cc1-17cd-43c1-dc1a-b42cdae27201"
      },
      "outputs": [
        {
          "output_type": "stream",
          "name": "stdout",
          "text": [
            "Downloading http://yann.lecun.com/exdb/mnist/train-images-idx3-ubyte.gz\n",
            "Downloading http://yann.lecun.com/exdb/mnist/train-images-idx3-ubyte.gz to MNIST/train/MNIST/raw/train-images-idx3-ubyte.gz\n"
          ]
        },
        {
          "output_type": "stream",
          "name": "stderr",
          "text": [
            "100%|██████████| 9912422/9912422 [00:00<00:00, 35408415.13it/s]\n"
          ]
        },
        {
          "output_type": "stream",
          "name": "stdout",
          "text": [
            "Extracting MNIST/train/MNIST/raw/train-images-idx3-ubyte.gz to MNIST/train/MNIST/raw\n",
            "\n",
            "Downloading http://yann.lecun.com/exdb/mnist/train-labels-idx1-ubyte.gz\n",
            "Downloading http://yann.lecun.com/exdb/mnist/train-labels-idx1-ubyte.gz to MNIST/train/MNIST/raw/train-labels-idx1-ubyte.gz\n"
          ]
        },
        {
          "output_type": "stream",
          "name": "stderr",
          "text": [
            "100%|██████████| 28881/28881 [00:00<00:00, 52258711.74it/s]\n"
          ]
        },
        {
          "output_type": "stream",
          "name": "stdout",
          "text": [
            "Extracting MNIST/train/MNIST/raw/train-labels-idx1-ubyte.gz to MNIST/train/MNIST/raw\n",
            "\n",
            "Downloading http://yann.lecun.com/exdb/mnist/t10k-images-idx3-ubyte.gz\n",
            "Downloading http://yann.lecun.com/exdb/mnist/t10k-images-idx3-ubyte.gz to MNIST/train/MNIST/raw/t10k-images-idx3-ubyte.gz\n"
          ]
        },
        {
          "output_type": "stream",
          "name": "stderr",
          "text": [
            "100%|██████████| 1648877/1648877 [00:00<00:00, 26116921.50it/s]\n"
          ]
        },
        {
          "output_type": "stream",
          "name": "stdout",
          "text": [
            "Extracting MNIST/train/MNIST/raw/t10k-images-idx3-ubyte.gz to MNIST/train/MNIST/raw\n",
            "\n",
            "Downloading http://yann.lecun.com/exdb/mnist/t10k-labels-idx1-ubyte.gz\n",
            "Downloading http://yann.lecun.com/exdb/mnist/t10k-labels-idx1-ubyte.gz to MNIST/train/MNIST/raw/t10k-labels-idx1-ubyte.gz\n"
          ]
        },
        {
          "output_type": "stream",
          "name": "stderr",
          "text": [
            "100%|██████████| 4542/4542 [00:00<00:00, 7011604.26it/s]\n"
          ]
        },
        {
          "output_type": "stream",
          "name": "stdout",
          "text": [
            "Extracting MNIST/train/MNIST/raw/t10k-labels-idx1-ubyte.gz to MNIST/train/MNIST/raw\n",
            "\n"
          ]
        }
      ],
      "source": [
        "# Import resized MNIST data\n",
        "ds_MNIST_7 = torchvision.datasets.MNIST(\n",
        "    \"MNIST/train\",\n",
        "    train=True,\n",
        "    download=True,\n",
        "    transform=torchvision.transforms.Compose([\n",
        "        torchvision.transforms.Resize(7),\n",
        "        torchvision.transforms.ToTensor(),\n",
        "    ])\n",
        ")"
      ]
    },
    {
      "cell_type": "code",
      "execution_count": null,
      "metadata": {
        "colab": {
          "base_uri": "https://localhost:8080/"
        },
        "id": "t1kx2CI15n9w",
        "outputId": "0d84dccb-4b08-4cf9-8d8a-4aee1461e870"
      },
      "outputs": [
        {
          "output_type": "execute_result",
          "data": {
            "text/plain": [
              "Dataset MNIST\n",
              "    Number of datapoints: 60000\n",
              "    Root location: MNIST/train\n",
              "    Split: Train\n",
              "    StandardTransform\n",
              "Transform: Compose(\n",
              "               Resize(size=7, interpolation=bilinear, max_size=None, antialias=warn)\n",
              "               ToTensor()\n",
              "           )"
            ]
          },
          "metadata": {},
          "execution_count": 6
        }
      ],
      "source": [
        "ds_MNIST_7"
      ]
    },
    {
      "cell_type": "code",
      "execution_count": null,
      "metadata": {
        "colab": {
          "base_uri": "https://localhost:8080/",
          "height": 447
        },
        "id": "iHrxzLtB5n9w",
        "outputId": "38ce5739-21ba-4f3e-a68a-89f5f9e129bd"
      },
      "outputs": [
        {
          "output_type": "execute_result",
          "data": {
            "text/plain": [
              "<matplotlib.colorbar.Colorbar at 0x7f3e3f1b1f30>"
            ]
          },
          "metadata": {},
          "execution_count": 7
        },
        {
          "output_type": "display_data",
          "data": {
            "text/plain": [
              "<Figure size 640x480 with 2 Axes>"
            ],
            "image/png": "[encoded data removed]"
          },
          "metadata": {}
        }
      ],
      "source": [
        "# Confirm that dataset was loaded\n",
        "first_image, first_label = ds_MNIST_7[0]\n",
        "first_image = first_image.numpy().transpose(1, 2, 0)\n",
        "image_plot = plt.imshow(first_image)\n",
        "plt.colorbar(image_plot, orientation=\"vertical\")"
      ]
    },
    {
      "cell_type": "markdown",
      "source": [
        "## Create Model"
      ],
      "metadata": {
        "id": "aOxx30VONqEM"
      }
    },
    {
      "cell_type": "code",
      "execution_count": null,
      "metadata": {
        "id": "Os0JDYVlUQU3"
      },
      "outputs": [],
      "source": [
        "# Define MAF teacher model architecture\n",
        "torch.manual_seed(7777)\n",
        "n_flows = 16\n",
        "\n",
        "# Create flow layers\n",
        "n_dim =  ds_MNIST_7[0][0].flatten().shape[0]\n",
        "flows = []\n",
        "for i in range(n_flows):\n",
        "    flows.append(\n",
        "        nf.flows.MaskedAffineAutoregressive(\n",
        "            features=n_dim,\n",
        "            hidden_features=32,\n",
        "            use_batch_norm=True,\n",
        "        )\n",
        "    )\n",
        "\n",
        "# Set base distribution\n",
        "base_dist_t = nf.distributions.DiagGaussian(n_dim)\n",
        "\n",
        "# Create model\n",
        "model_t = nf.NormalizingFlow(q0=base_dist_t, flows=flows)\n",
        "model_t = model_t.to(device).float()"
      ]
    },
    {
      "cell_type": "code",
      "execution_count": null,
      "metadata": {
        "id": "n9P6QXIjTxqK"
      },
      "outputs": [],
      "source": [
        "# Load state dict for MAF teacher model\n",
        "load_model_name = \"AutoRegNFmodel_epoch20\"\n",
        "load_model_path = os.path.join(models_dir, f\"{load_model_name}.pt\")\n",
        "\n",
        "if torch.cuda.is_available():\n",
        "    model_t.load_state_dict(torch.load(load_model_path))\n",
        "else:\n",
        "    model_t.load_state_dict(\n",
        "        torch.load(load_model_path, map_location=torch.device(\"cpu\"))\n",
        "    )"
      ]
    },
    {
      "cell_type": "code",
      "execution_count": null,
      "metadata": {
        "id": "tGVUjA1dVy25"
      },
      "outputs": [],
      "source": [
        "# Define Inverse Autoregressive Flow (IAF) student model\n",
        "n_flows = 16\n",
        "\n",
        "# Create flow layers\n",
        "flows = []\n",
        "for i in range(n_flows):\n",
        "    flows.append(\n",
        "        nf.flows.MaskedAffineAutoregressive(\n",
        "            features=n_dim,\n",
        "            hidden_features=32,\n",
        "            use_batch_norm=True,\n",
        "        )\n",
        "    )\n",
        "\n",
        "# Set base distribution\n",
        "base_dist_s = nf.distributions.DiagGaussian(n_dim)\n",
        "\n",
        "# Create model (uses same base distribution as teacher model, i.e., Gaussian)\n",
        "model_s = nf.NormalizingFlow(q0=base_dist_s, flows=flows)\n",
        "model_s = model_s.to(device).float()\n",
        "\n",
        "# Specify optimizer\n",
        "optimizer_s = torch.optim.Adam(model_s.parameters(), lr=1e-4, weight_decay=1e-6)"
      ]
    },
    {
      "cell_type": "code",
      "execution_count": null,
      "metadata": {
        "colab": {
          "background_save": true,
          "base_uri": "https://localhost:8080/"
        },
        "id": "35UhBivFV2R-",
        "outputId": "92e123f1-b7f4-45a2-fd9b-b0ebc29dde25"
      },
      "outputs": [
        {
          "name": "stdout",
          "output_type": "stream",
          "text": [
            "Loss: -1474.013439 [Epoch 1/20]\n",
            "Saved model for epoch 1\n",
            "Loss: -1495.638616 [Epoch 2/20]\n",
            "Saved model for epoch 2\n",
            "Loss: -1512.022088 [Epoch 3/20]\n",
            "Saved model for epoch 3\n",
            "Loss: -1528.066470 [Epoch 4/20]\n",
            "Saved model for epoch 4\n",
            "Loss: -1547.976271 [Epoch 5/20]\n",
            "Saved model for epoch 5\n",
            "Loss: -1566.857533 [Epoch 6/20]\n",
            "Saved model for epoch 6\n",
            "Loss: -1600.571494 [Epoch 7/20]\n",
            "Saved model for epoch 7\n",
            "Loss: -1646.542333 [Epoch 8/20]\n",
            "Saved model for epoch 8\n",
            "Loss: -1686.754787 [Epoch 9/20]\n",
            "Saved model for epoch 9\n",
            "Loss: -1736.303904 [Epoch 10/20]\n",
            "Saved model for epoch 10\n",
            "Loss: -1770.750298 [Epoch 11/20]\n",
            "Saved model for epoch 11\n",
            "Loss: -1793.071774 [Epoch 12/20]\n",
            "Saved model for epoch 12\n",
            "Loss: -1818.896774 [Epoch 13/20]\n",
            "Saved model for epoch 13\n",
            "Loss: -1847.959968 [Epoch 14/20]\n",
            "Saved model for epoch 14\n",
            "Loss: -1891.282196 [Epoch 15/20]\n",
            "Saved model for epoch 15\n",
            "Loss: -1932.201363 [Epoch 16/20]\n",
            "Saved model for epoch 16\n"
          ]
        }
      ],
      "source": [
        "# Train IAF student model for image generation using KL divergence loss\n",
        "# (p(x) from MAF teacher model and q(x) from IAF student model)\n",
        "load_model = True\n",
        "load_model_name = \"WaveNetmodel_epoch17\"\n",
        "load_model_path = os.path.join(models_dir, f\"{load_model_name}.pt\")\n",
        "\n",
        "if load_model:\n",
        "    if torch.cuda.is_available():\n",
        "        model_s.load_state_dict(torch.load(load_model_path))\n",
        "    else:\n",
        "        model_s.load_state_dict(\n",
        "            torch.load(load_model_path, map_location=torch.device(\"cpu\"))\n",
        "        )\n",
        "else:\n",
        "    epochs = 20\n",
        "    batches_per_epoch = len(ds_MNIST_7) // batch_size\n",
        "    lowest_avg_loss = None\n",
        "\n",
        "    model_s.train()\n",
        "    for t in range(epochs):\n",
        "        batch_losses = []\n",
        "        for batch_idx in range(batches_per_epoch):\n",
        "\n",
        "            # Generate random noise as input to student model\n",
        "            Z = base_dist_s.sample(batch_size).detach().to(device)\n",
        "\n",
        "            # Generate sample images from student model\n",
        "            X, log_det_s = model_s.forward_and_log_det(Z)\n",
        "\n",
        "            # Calculate probability of samples according to student model (IAF)\n",
        "            log_prob_s = base_dist_s.log_prob(Z) + log_det_s\n",
        "\n",
        "            # Calculate probability of samples according to teacher model (MAF)\n",
        "            _, log_det_t = model_t.inverse_and_log_det(X)\n",
        "            log_prob_t = base_dist_t.log_prob(X) - log_det_t\n",
        "\n",
        "            # Compute KL divergence\n",
        "            loss = torch.mean(log_prob_s - log_prob_t)\n",
        "\n",
        "            # Update model weights\n",
        "            if ~(torch.isnan(loss) | torch.isinf(loss)):\n",
        "                optimizer_s.zero_grad()\n",
        "                loss.backward()\n",
        "                optimizer_s.step()\n",
        "\n",
        "                torch.nn.utils.clip_grad_norm_(model_s.parameters(), max_norm=1)\n",
        "\n",
        "                # Record training batch loss\n",
        "                loss_val = loss.item()\n",
        "                batch_losses.append(loss_val)\n",
        "            else:\n",
        "                print(f'NaN/Inf loss for batch {batch_idx}')\n",
        "\n",
        "        epoch_avg_loss = np.mean(batch_losses)\n",
        "        print(f\"Loss: {epoch_avg_loss:>7f} [Epoch {t+1}/{epochs}]\")\n",
        "\n",
        "        # Save model if improving\n",
        "        epoch_avg_loss = np.mean(batch_losses)\n",
        "        if (lowest_avg_loss is None) or (epoch_avg_loss < lowest_avg_loss):\n",
        "            lowest_avg_loss = epoch_avg_loss\n",
        "            model.save(os.path.join(models_dir, f'WaveNetmodel_epoch{t+1}.pt'))\n",
        "            print(f'Saved model for epoch {t+1}')"
      ]
    },
    {
      "cell_type": "code",
      "source": [
        "# Sample from student model\n",
        "z, _ = model_s.sample(2)\n",
        "z = z.view(2, 7, 7).to(\"cpu\").detach().numpy()\n",
        "plt.imshow(z[0])"
      ],
      "metadata": {
        "colab": {
          "base_uri": "https://localhost:8080/",
          "height": 447
        },
        "id": "3DlWBVRKGfGv",
        "outputId": "a0bbd9e7-b800-451b-f253-0992f10577dc"
      },
      "execution_count": null,
      "outputs": [
        {
          "output_type": "execute_result",
          "data": {
            "text/plain": [
              "<matplotlib.image.AxesImage at 0x7f3e35e9c490>"
            ]
          },
          "metadata": {},
          "execution_count": 20
        },
        {
          "output_type": "display_data",
          "data": {
            "text/plain": [
              "<Figure size 640x480 with 1 Axes>"
            ],
            "image/png": "[encoded data removed]"
          },
          "metadata": {}
        }
      ]
    },
    {
      "cell_type": "markdown",
      "metadata": {
        "id": "kc6pAu06iQlx"
      },
      "source": [
        "## *Archived Attempts [For Reference]*"
      ]
    },
    {
      "cell_type": "markdown",
      "metadata": {
        "id": "mMSb5QCJdC7_"
      },
      "source": [
        "### Using `ParallelWaveGAN` library"
      ]
    },
    {
      "cell_type": "code",
      "execution_count": null,
      "metadata": {
        "id": "k3Q7rQ3DdCkk"
      },
      "outputs": [],
      "source": [
        "# # Install library\n",
        "# # Provided under MIT License\n",
        "# # Copyright (c) 2020 Tomoki Hayashi <hayashi.tomoki@g.sp.m.is.nagoya-u.ac.jp>\n",
        "# !pip install parallel-wavegan"
      ]
    },
    {
      "cell_type": "code",
      "execution_count": null,
      "metadata": {
        "id": "LHtUfYt1LPxi"
      },
      "outputs": [],
      "source": [
        "# # Import WaveNet Generator class\n",
        "# from parallel_wavegan.models import ParallelWaveGANGenerator"
      ]
    },
    {
      "cell_type": "code",
      "execution_count": null,
      "metadata": {
        "id": "aInnsPsNL02U"
      },
      "outputs": [],
      "source": [
        "# # Create model\n",
        "# batch_size = 64\n",
        "# lr = 1e-4\n",
        "# in_channels = ds_MNIST_7[0][0].shape[0]\n",
        "\n",
        "# model = ParallelWaveGANGenerator(\n",
        "#     in_channels=in_channels,\n",
        "#     out_channels=1,\n",
        "#     kernel_size=2,\n",
        "#     use_causal_conv=True,\n",
        "# )\n",
        "\n",
        "# optimizer = optim.Adam(model.parameters(), lr=lr)"
      ]
    },
    {
      "cell_type": "code",
      "execution_count": null,
      "metadata": {
        "id": "9baqYM63wEn4"
      },
      "outputs": [],
      "source": [
        "# # Load/train model\n",
        "# load_model = False\n",
        "# load_model_name = \"\"\n",
        "# load_model_path = os.path.join(models_dir, f\"{load_model_name}.pt\")\n",
        "\n",
        "# if load_model:\n",
        "#     if torch.cuda.is_available():\n",
        "#         model.load_state_dict(torch.load(load_model_path))\n",
        "#     else:\n",
        "#         model.load_state_dict(\n",
        "#             torch.load(load_model_path, map_location=torch.device(\"cpu\"))\n",
        "#         )\n",
        "# else:\n",
        "#     batch_size = 256\n",
        "#     epochs = 4\n",
        "\n",
        "#     dl = DataLoader(ds_MNIST_7, batch_size=batch_size, shuffle=True, drop_last=True)\n",
        "#     size = len(dl.dataset)\n",
        "\n",
        "#     lowest_avg_loss = None\n",
        "\n",
        "#     model.train()\n",
        "#     for t in range(epochs):\n",
        "#         batch_losses = []\n",
        "#         for batch, (X, _) in enumerate(dl):\n",
        "\n",
        "#             # Unroll image data to 1D\n",
        "#             X = X.view(batch_size, 1, -1)\n",
        "\n",
        "#             # # Sequence of full length (for testing)\n",
        "#             # output = model(X, c=None)\n",
        "#             # loss = F.kl_div(output.flatten(), X.flatten(), reduction=\"batchmean\")\n",
        "\n",
        "#             # if ~(torch.isnan(loss) | torch.isinf(loss)):\n",
        "#             #     optimizer.zero_grad()\n",
        "#             #     loss.backward()\n",
        "#             #     optimizer.step()\n",
        "\n",
        "#             #     # torch.nn.utils.clip_grad_norm_(model.parameters(), max_norm=1)\n",
        "\n",
        "#             #     # Record training batch loss\n",
        "#             #     loss_val = loss.item()\n",
        "#             #     batch_losses.append(loss_val)\n",
        "\n",
        "\n",
        "#             # Create 7-pixel sequences of 1D data (each row is 7 pixels)\n",
        "#             for i in range(7, X.shape[-1], 7):\n",
        "#                 x_seq = X[:, :, 0:i].to(device) # Create sequence of input values\n",
        "#                 target = X[:, :, i:i+7].to(device) # Identify next row of pixels to predict\n",
        "#                 # Pad on the left\n",
        "#                 x_seq_padded = F.pad(x_seq, pad=(X.shape[-1]-i, 0), value=0)\n",
        "\n",
        "#                 output = model(x_seq_padded, c=None)[:, :, -8:-1] # Extract predicted vals\n",
        "#                 loss = F.mse_loss(output.flatten(), target.flatten())\n",
        "\n",
        "#                 if ~(torch.isnan(loss) | torch.isinf(loss)):\n",
        "#                     optimizer.zero_grad()\n",
        "#                     loss.backward()\n",
        "#                     optimizer.step()\n",
        "\n",
        "#                     # torch.nn.utils.clip_grad_norm_(model.parameters(), max_norm=1)\n",
        "\n",
        "#                     # Record training batch loss\n",
        "#                     loss_val = loss.item()\n",
        "#                     batch_losses.append(loss_val)\n",
        "\n",
        "#         epoch_avg_loss = np.mean(batch_losses)\n",
        "#         print(f\"Loss: {epoch_avg_loss:>7f} [Epoch {t+1}/{epochs}]\")\n",
        "\n",
        "#         # Save model if improving\n",
        "#         if (lowest_avg_loss is None) or (epoch_avg_loss < lowest_avg_loss):\n",
        "#             lowest_avg_loss = epoch_avg_loss\n",
        "#             torch.save(\n",
        "#                 model.state_dict(),\n",
        "#                 os.path.join(models_dir, f'WaveNetmodel_epoch{t+1}.pt')\n",
        "#             )\n",
        "#             print(f'Saved model for epoch {t+1}')"
      ]
    },
    {
      "cell_type": "markdown",
      "metadata": {
        "id": "n37jUspic5aA"
      },
      "source": [
        "### Using `pytorch-wavenet` library"
      ]
    },
    {
      "cell_type": "code",
      "execution_count": null,
      "metadata": {
        "id": "sUWzkodrTKpT"
      },
      "outputs": [],
      "source": [
        "# # Clone pytorch-wavenet library and import WaveNetModel\n",
        "# # Source: https://github.com/vincentherrmann/pytorch-wavenet\n",
        "# # MIT License, Copyright (c) 2017 Vincent Herrmann\n",
        "\n",
        "# # Note that the following clone is a forked and modified version due to\n",
        "# # runtime errors in the original repo related to pytorch autograd deprecation\n",
        "# !git clone https://github.com/cdoswald/pytorch-wavenet.git\n",
        "\n",
        "# import os\n",
        "# os.chdir(\"pytorch-wavenet/\")\n",
        "\n",
        "# from wavenet_model import WaveNetModel\n",
        "\n",
        "# model = WaveNetModel(\n",
        "#     layers=10,\n",
        "#     classes=1,\n",
        "#     output_length=1,\n",
        "#     kernel_size=2,\n",
        "#     skip_channels=1024,\n",
        "# )\n",
        "# model"
      ]
    }
  ],
  "metadata": {
    "colab": {
      "machine_shape": "hm",
      "provenance": []
    },
    "kernelspec": {
      "display_name": "Python 3",
      "name": "python3"
    },
    "language_info": {
      "codemirror_mode": {
        "name": "ipython",
        "version": 3
      },
      "file_extension": ".py",
      "mimetype": "text/x-python",
      "name": "python",
      "nbconvert_exporter": "python",
      "pygments_lexer": "ipython3",
      "version": "3.10.12"
    }
  },
  "nbformat": 4,
  "nbformat_minor": 0
}